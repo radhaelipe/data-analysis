{
  "nbformat": 4,
  "nbformat_minor": 0,
  "metadata": {
    "colab": {
      "provenance": []
    },
    "kernelspec": {
      "name": "python3",
      "display_name": "Python 3"
    },
    "language_info": {
      "name": "python"
    }
  },
  "cells": [
    {
      "cell_type": "code",
      "source": [
        "import numpy as np\n",
        "import pandas as pd\n",
        "df=pd.read_csv('/content/drive/MyDrive/Salary_Data.csv')\n",
        "#volume_data=np.random.rand(1000000)\n",
        "v=len(df)\n",
        "print(\"volume of data\",v)"
      ],
      "metadata": {
        "colab": {
          "base_uri": "https://localhost:8080/"
        },
        "id": "68SzcxvBsZrT",
        "outputId": "258186cf-08d2-473d-8f65-3c9762f468b6"
      },
      "execution_count": 3,
      "outputs": [
        {
          "output_type": "stream",
          "name": "stdout",
          "text": [
            "volume of data 30\n"
          ]
        }
      ]
    },
    {
      "cell_type": "code",
      "source": [
        "from google.colab import drive\n",
        "drive.mount('/content/drive')"
      ],
      "metadata": {
        "id": "hGeoHctVJH9a",
        "outputId": "a67bd1fe-93df-454a-d431-5aafa7709c65",
        "colab": {
          "base_uri": "https://localhost:8080/"
        }
      },
      "execution_count": 2,
      "outputs": [
        {
          "output_type": "stream",
          "name": "stdout",
          "text": [
            "Mounted at /content/drive\n"
          ]
        }
      ]
    },
    {
      "cell_type": "code",
      "source": [
        "import time\n",
        "for i in range(v):\n",
        "  velocity_data=np.random.rand()\n",
        "  print(\"velocity data is\",velocity_data)\n",
        "  time.sleep(2)"
      ],
      "metadata": {
        "colab": {
          "base_uri": "https://localhost:8080/"
        },
        "id": "5kS2FHYKsy2l",
        "outputId": "b9e6a85c-c99b-4a24-f85b-49339f1400cb"
      },
      "execution_count": 4,
      "outputs": [
        {
          "output_type": "stream",
          "name": "stdout",
          "text": [
            "velocity data is 0.21739512819669338\n",
            "velocity data is 0.27702692534648077\n",
            "velocity data is 0.7037669903544577\n",
            "velocity data is 0.47820629229126355\n",
            "velocity data is 0.4363313982600814\n",
            "velocity data is 0.8999479180682579\n",
            "velocity data is 0.7729682158223252\n",
            "velocity data is 0.2698481319829409\n",
            "velocity data is 0.025329772288961938\n",
            "velocity data is 0.21563042584063286\n",
            "velocity data is 0.4675499784142525\n",
            "velocity data is 0.31441755534147353\n",
            "velocity data is 0.29661374064328305\n",
            "velocity data is 0.9507132951504471\n",
            "velocity data is 0.5869044884550951\n",
            "velocity data is 0.19073866708933418\n",
            "velocity data is 0.3900623455353611\n",
            "velocity data is 0.42312202298881585\n",
            "velocity data is 0.23628840746483615\n",
            "velocity data is 0.023795843257060523\n",
            "velocity data is 0.34703783562838864\n",
            "velocity data is 0.4716953181755613\n",
            "velocity data is 0.5111965222295762\n",
            "velocity data is 0.9551999867912992\n",
            "velocity data is 0.12702946896842793\n",
            "velocity data is 0.2136150492702077\n",
            "velocity data is 0.9597182105468968\n",
            "velocity data is 0.6404240061000006\n",
            "velocity data is 0.7654493208014389\n",
            "velocity data is 0.9714354628012236\n"
          ]
        }
      ]
    },
    {
      "cell_type": "code",
      "source": [
        "import random\n",
        "veracity_data=[random.choice(df.values.tolist())for _ in range(v)]\n",
        "print(veracity_data)"
      ],
      "metadata": {
        "colab": {
          "base_uri": "https://localhost:8080/"
        },
        "id": "mbOScPyathyp",
        "outputId": "d72b12ee-8296-426b-8d7c-697caee8de1e"
      },
      "execution_count": 5,
      "outputs": [
        {
          "output_type": "stream",
          "name": "stdout",
          "text": [
            "[[4.9, 67938.0], [10.3, 122391.0], [5.9, 81363.0], [3.0, 60150.0], [6.0, 93940.0], [9.6, 112635.0], [7.1, 98273.0], [2.2, 39891.0], [8.2, 113812.0], [4.0, 56957.0], [6.8, 91738.0], [9.6, 112635.0], [8.7, 109431.0], [7.1, 98273.0], [3.2, 54445.0], [5.9, 81363.0], [9.6, 112635.0], [9.6, 112635.0], [2.0, 43525.0], [4.1, 57081.0], [10.3, 122391.0], [3.2, 64445.0], [9.5, 116969.0], [2.0, 43525.0], [5.9, 81363.0], [9.0, 105582.0], [2.2, 39891.0], [3.7, 57189.0], [5.3, 83088.0], [2.0, 43525.0]]\n"
          ]
        }
      ]
    },
    {
      "cell_type": "code",
      "source": [
        "print(\"Variety of data:\")\n",
        "print(df.info())"
      ],
      "metadata": {
        "colab": {
          "base_uri": "https://localhost:8080/"
        },
        "id": "390VEeX55SfL",
        "outputId": "cd0af2fd-b7f7-4ecb-ab9f-69f3081b3798"
      },
      "execution_count": 6,
      "outputs": [
        {
          "output_type": "stream",
          "name": "stdout",
          "text": [
            "Variety of data:\n",
            "<class 'pandas.core.frame.DataFrame'>\n",
            "RangeIndex: 30 entries, 0 to 29\n",
            "Data columns (total 2 columns):\n",
            " #   Column           Non-Null Count  Dtype  \n",
            "---  ------           --------------  -----  \n",
            " 0   YearsExperience  30 non-null     float64\n",
            " 1   Salary           30 non-null     float64\n",
            "dtypes: float64(2)\n",
            "memory usage: 608.0 bytes\n",
            "None\n"
          ]
        }
      ]
    }
  ]
}