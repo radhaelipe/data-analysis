{
  "cells": [
    {
      "cell_type": "code",
      "execution_count": 1,
      "metadata": {
        "id": "O19NC--c1v1f"
      },
      "outputs": [],
      "source": [
        "import tensorflow as tf\n",
        "from tensorflow import keras\n",
        "from tensorflow.keras import layers\n",
        "from tensorflow.keras.preprocessing.image import ImageDataGenerator\n",
        "IMG_SIZE=224\n",
        "BATCH_SIZE=32\n"
      ]
    },
    {
      "cell_type": "code",
      "source": [
        "from google.colab import drive\n",
        "drive.mount('/content/drive')"
      ],
      "metadata": {
        "id": "C0I7X6QL9XwG"
      },
      "execution_count": null,
      "outputs": []
    },
    {
      "cell_type": "code",
      "execution_count": 2,
      "metadata": {
        "colab": {
          "base_uri": "https://localhost:8080/"
        },
        "id": "_3By9qrz3I18",
        "outputId": "481bb3d9-c15d-4e6a-b49b-9328ee53d41e"
      },
      "outputs": [
        {
          "output_type": "stream",
          "name": "stdout",
          "text": [
            "Found 2439 images belonging to 2 classes.\n",
            "Found 609 images belonging to 2 classes.\n",
            "Found 3048 images belonging to 2 classes.\n"
          ]
        }
      ],
      "source": [
        "train_datagen=ImageDataGenerator(rescale=1.225,validation_split=0.2)\n",
        "train_generator=train_datagen.flow_from_directory(\"/content/drive/MyDrive/train\",target_size=(IMG_SIZE,IMG_SIZE),\n",
        "                                                  batch_size=BATCH_SIZE,class_mode='binary',subset='training')\n",
        "val_generator=train_datagen.flow_from_directory(\"/content/drive/MyDrive/train\",target_size=(IMG_SIZE,IMG_SIZE),\n",
        "                                                  batch_size=BATCH_SIZE,class_mode='binary',subset='validation')\n",
        "test_datagen=ImageDataGenerator(rescale=1./225)\n",
        "test_generator=test_datagen.flow_from_directory(\"/content/drive/MyDrive/train\",target_size=(IMG_SIZE,IMG_SIZE),\n",
        "                                                  batch_size=BATCH_SIZE,class_mode='binary')"
      ]
    },
    {
      "cell_type": "code",
      "execution_count": 4,
      "metadata": {
        "id": "F2ozL5x49Pa2"
      },
      "outputs": [],
      "source": [
        "model=keras.Sequential([layers.Conv2D(32,(3,3),activation='relu',input_shape=(IMG_SIZE,IMG_SIZE,3)),\n",
        "layers.MaxPooling2D((2,2)),\n",
        "layers.Conv2D(32,(3,3),activation='relu'),\n",
        "layers.MaxPooling2D((2,2)),\n",
        "layers.Conv2D(64,(3,3),activation='relu'),\n",
        "layers.MaxPooling2D((2,2)),\n",
        "layers.Flatten(),\n",
        "layers.Dense(128,activation='relu'),\n",
        "layers.Dense(1,activation='sigmoid')])\n",
        "\n"
      ]
    },
    {
      "cell_type": "markdown",
      "metadata": {
        "id": "D-UxVr3s9iuR"
      },
      "source": []
    },
    {
      "cell_type": "code",
      "execution_count": 5,
      "metadata": {
        "id": "-59hqlyI_l0h"
      },
      "outputs": [],
      "source": [
        "model.compile(optimizer='adam',loss='binary_crossentropy',metrics=['accuracy'])"
      ]
    },
    {
      "cell_type": "code",
      "execution_count": null,
      "metadata": {
        "colab": {
          "background_save": true,
          "base_uri": "https://localhost:8080/"
        },
        "id": "qsOaDHDgBzlp",
        "outputId": "03d1aec0-95c2-4175-bd53-f0afd9814961"
      },
      "outputs": [
        {
          "name": "stdout",
          "output_type": "stream",
          "text": [
            "Epoch 1/5\n",
            "77/77 [==============================] - 850s 11s/step - loss: 33.1908 - accuracy: 0.7536 - val_loss: 0.3179 - val_accuracy: 0.8686\n",
            "Epoch 2/5\n",
            "77/77 [==============================] - 198s 3s/step - loss: 0.1998 - accuracy: 0.9213 - val_loss: 0.0902 - val_accuracy: 0.9770\n",
            "Epoch 3/5\n",
            "77/77 [==============================] - 201s 3s/step - loss: 0.0578 - accuracy: 0.9844 - val_loss: 0.0733 - val_accuracy: 0.9721\n",
            "Epoch 4/5\n",
            "77/77 [==============================] - 193s 2s/step - loss: 0.0199 - accuracy: 0.9943 - val_loss: 0.0575 - val_accuracy: 0.9852\n",
            "Epoch 5/5\n",
            "77/77 [==============================] - 196s 3s/step - loss: 0.0057 - accuracy: 1.0000 - val_loss: 0.0606 - val_accuracy: 0.9918\n"
          ]
        }
      ],
      "source": [
        "history=model.fit(train_generator,validation_data=val_generator,epochs=5)"
      ]
    },
    {
      "cell_type": "code",
      "execution_count": 6,
      "metadata": {
        "colab": {
          "base_uri": "https://localhost:8080/"
        },
        "id": "0oqCnk0wFOa5",
        "outputId": "d64fb98a-90fd-4806-f16a-f6529f126533"
      },
      "outputs": [
        {
          "output_type": "stream",
          "name": "stderr",
          "text": [
            "/usr/local/lib/python3.10/dist-packages/keras/src/engine/training.py:3103: UserWarning: You are saving your model as an HDF5 file via `model.save()`. This file format is considered legacy. We recommend using instead the native Keras format, e.g. `model.save('my_model.keras')`.\n",
            "  saving_api.save_model(\n"
          ]
        }
      ],
      "source": [
        "model.save(\"Model.h5\",\"label.txt\")"
      ]
    },
    {
      "cell_type": "code",
      "execution_count": 7,
      "metadata": {
        "colab": {
          "base_uri": "https://localhost:8080/"
        },
        "id": "JXxyQgVpGQ-V",
        "outputId": "46dc0d66-ed6f-4589-f110-efb180390ac3"
      },
      "outputs": [
        {
          "output_type": "stream",
          "name": "stdout",
          "text": [
            "1/1 [==============================] - 0s 278ms/step\n",
            "Prediction:tumor present(probability: 0.5216673 )\n"
          ]
        }
      ],
      "source": [
        "from tensorflow.keras.models import load_model\n",
        "from tensorflow.keras.preprocessing import image\n",
        "import numpy as np\n",
        "model=load_model('/content/model1.h5')\n",
        "test_image_path='/content/drive/MyDrive/test/pred/pred26.jpg'\n",
        "img=image.load_img(test_image_path,target_size=(224,224))\n",
        "img_array=image.img_to_array(img)\n",
        "img_array=np.expand_dims(img_array,axis=0)\n",
        "img_array /=255.\n",
        "prediction=model.predict(img_array)\n",
        "if prediction<0.5:\n",
        "    print(\"Prediction:No tumor(Probability:\",prediction[0][0],\")\")\n",
        "else:\n",
        "    print(\"Prediction:tumor present(probability:\",prediction[0][0],\")\")"
      ]
    },
    {
      "cell_type": "code",
      "execution_count": null,
      "metadata": {
        "id": "lNRPHXTmKSTJ"
      },
      "outputs": [],
      "source": []
    },
    {
      "cell_type": "code",
      "execution_count": 9,
      "metadata": {
        "colab": {
          "base_uri": "https://localhost:8080/"
        },
        "id": "WXYwaWEz42y1",
        "outputId": "63f56ddc-9eea-4007-ac40-9a41d03452a8"
      },
      "outputs": [
        {
          "output_type": "stream",
          "name": "stdout",
          "text": [
            "1/1 [==============================] - 0s 101ms/step\n",
            "Prediction:No tumor(Probability: 0.47279197 )\n"
          ]
        }
      ],
      "source": [
        "from tensorflow.keras.models import load_model\n",
        "from tensorflow.keras.preprocessing import image\n",
        "import numpy as np\n",
        "model=load_model('/content/model1.h5')\n",
        "test_image_path='/content/drive/MyDrive/test/pred/pred59.jpg'\n",
        "img=image.load_img(test_image_path,target_size=(224,224))\n",
        "img_array=image.img_to_array(img)\n",
        "img_array=np.expand_dims(img_array,axis=0)\n",
        "img_array /=255.\n",
        "prediction=model.predict(img_array)\n",
        "if prediction<0.5:\n",
        "    print(\"Prediction:No tumor(Probability:\",prediction[0][0],\")\")\n",
        "else:\n",
        "    print(\"Prediction:tumor present(probability:\",prediction[0][0],\")\")"
      ]
    }
  ],
  "metadata": {
    "colab": {
      "provenance": []
    },
    "kernelspec": {
      "display_name": "Python 3",
      "name": "python3"
    },
    "language_info": {
      "name": "python"
    }
  },
  "nbformat": 4,
  "nbformat_minor": 0
}