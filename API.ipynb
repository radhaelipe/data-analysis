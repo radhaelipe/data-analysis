{
  "nbformat": 4,
  "nbformat_minor": 0,
  "metadata": {
    "colab": {
      "provenance": []
    },
    "kernelspec": {
      "name": "python3",
      "display_name": "Python 3"
    },
    "language_info": {
      "name": "python"
    }
  },
  "cells": [
    {
      "cell_type": "code",
      "execution_count": 1,
      "metadata": {
        "colab": {
          "base_uri": "https://localhost:8080/"
        },
        "id": "cEKIEGl6R5gj",
        "outputId": "721dfa25-d4cd-4bed-9b03-337037540c6f"
      },
      "outputs": [
        {
          "output_type": "stream",
          "name": "stdout",
          "text": [
            "{'messages': 'The API is unreachable, please contact the API provider', 'info': 'Your Client (working) ---> Gateway (working) ---> API (not working)'}\n"
          ]
        }
      ],
      "source": [
        "import requests\n",
        "\n",
        "url = \"https://currencyconverter.p.rapidapi.com/\"\n",
        "\n",
        "querystring = {\"from_amount\":\"1\",\"from\":\"USD\",\"to\":\"SEK\"}\n",
        "\n",
        "headers = {\n",
        "\t\"X-RapidAPI-Key\": \"34b1c5d5e6msh492b82ca09d45c5p1cf248jsn385da68ab9ae\",\n",
        "\t\"X-RapidAPI-Host\": \"currencyconverter.p.rapidapi.com\"\n",
        "}\n",
        "\n",
        "response = requests.get(url, headers=headers, params=querystring)\n",
        "\n",
        "print(response.json())"
      ]
    },
    {
      "cell_type": "code",
      "source": [
        "import requests\n",
        "\n",
        "url = \"https://love-calculator.p.rapidapi.com/getPercentage\"\n",
        "\n",
        "querystring = {\"sname\":\"Alice\",\"fname\":\"John\"}\n",
        "\n",
        "headers = {\n",
        "\t\"X-RapidAPI-Key\": \"34b1c5d5e6msh492b82ca09d45c5p1cf248jsn385da68ab9ae\",\n",
        "\t\"X-RapidAPI-Host\": \"love-calculator.p.rapidapi.com\"\n",
        "}\n",
        "\n",
        "response = requests.get(url, headers=headers, params=querystring)\n",
        "\n",
        "print(response.json())"
      ],
      "metadata": {
        "colab": {
          "base_uri": "https://localhost:8080/"
        },
        "id": "uqoxCqmJXvzP",
        "outputId": "d0e53493-19b9-438e-b399-40369fbfe8cc"
      },
      "execution_count": 2,
      "outputs": [
        {
          "output_type": "stream",
          "name": "stdout",
          "text": [
            "{'fname': 'John', 'sname': 'Alice', 'percentage': '46', 'result': 'Can choose someone better.'}\n"
          ]
        }
      ]
    },
    {
      "cell_type": "code",
      "source": [
        "import requests\n",
        "\n",
        "url = \"https://wordsapiv1.p.rapidapi.com/words/hatchback/typeOf\"\n",
        "\n",
        "headers = {\n",
        "\t\"X-RapidAPI-Key\": \"34b1c5d5e6msh492b82ca09d45c5p1cf248jsn385da68ab9ae\",\n",
        "\t\"X-RapidAPI-Host\": \"wordsapiv1.p.rapidapi.com\"\n",
        "}\n",
        "\n",
        "response = requests.get(url, headers=headers)\n",
        "\n",
        "print(response.json())"
      ],
      "metadata": {
        "colab": {
          "base_uri": "https://localhost:8080/"
        },
        "id": "p8kMg_d8XzPG",
        "outputId": "a2bb7edc-7a88-494a-c807-ee3e49c33f2b"
      },
      "execution_count": 3,
      "outputs": [
        {
          "output_type": "stream",
          "name": "stdout",
          "text": [
            "{'message': 'You are not subscribed to this API.'}\n"
          ]
        }
      ]
    },
    {
      "cell_type": "code",
      "source": [
        "import requests\n",
        "\n",
        "url = \"https://numbersapi.p.rapidapi.com/6/21/date\"\n",
        "\n",
        "querystring = {\"fragment\":\"true\",\"json\":\"true\"}\n",
        "\n",
        "headers = {\n",
        "\t\"X-RapidAPI-Key\": \"34b1c5d5e6msh492b82ca09d45c5p1cf248jsn385da68ab9ae\",\n",
        "\t\"X-RapidAPI-Host\": \"numbersapi.p.rapidapi.com\"\n",
        "}\n",
        "\n",
        "response = requests.get(url, headers=headers, params=querystring)\n",
        "\n",
        "print(response.json())"
      ],
      "metadata": {
        "colab": {
          "base_uri": "https://localhost:8080/"
        },
        "id": "caQso5wsZRMh",
        "outputId": "40a758c7-1b50-4ef5-f878-3fabc6803278"
      },
      "execution_count": 4,
      "outputs": [
        {
          "output_type": "stream",
          "name": "stdout",
          "text": [
            "{'text': 'France signs an armistice with Germany at Compiègne', 'year': 1940, 'number': 173, 'found': True, 'type': 'date'}\n"
          ]
        }
      ]
    },
    {
      "cell_type": "code",
      "source": [
        "import requests\n",
        "\n",
        "url = \"https://realtor.p.rapidapi.com/locations/v2/auto-complete\"\n",
        "\n",
        "querystring = {\"input\":\"new york\",\"limit\":\"10\"}\n",
        "\n",
        "headers = {\n",
        "\t\"X-RapidAPI-Key\": \"34b1c5d5e6msh492b82ca09d45c5p1cf248jsn385da68ab9ae\",\n",
        "\t\"X-RapidAPI-Host\": \"realtor.p.rapidapi.com\"\n",
        "}\n",
        "\n",
        "response = requests.get(url, headers=headers, params=querystring)\n",
        "\n",
        "print(response.json())"
      ],
      "metadata": {
        "colab": {
          "base_uri": "https://localhost:8080/"
        },
        "id": "e2VG2QU0Zf11",
        "outputId": "20919bd0-c4c5-449b-e3ec-9dee4a5c60e2"
      },
      "execution_count": 5,
      "outputs": [
        {
          "output_type": "stream",
          "name": "stdout",
          "text": [
            "{'message': 'You are not subscribed to this API.'}\n"
          ]
        }
      ]
    },
    {
      "cell_type": "code",
      "source": [
        "import requests\n",
        "\n",
        "url = \"https://myallies-breaking-news-v1.p.rapidapi.com/GetCompanyDetailsBySymbol\"\n",
        "\n",
        "querystring = {\"symbol\":\"twtr\"}\n",
        "\n",
        "headers = {\n",
        "\t\"X-RapidAPI-Key\": \"34b1c5d5e6msh492b82ca09d45c5p1cf248jsn385da68ab9ae\",\n",
        "\t\"X-RapidAPI-Host\": \"myallies-breaking-news-v1.p.rapidapi.com\"\n",
        "}\n",
        "\n",
        "response = requests.get(url, headers=headers, params=querystring)\n",
        "\n",
        "print(response.json())"
      ],
      "metadata": {
        "colab": {
          "base_uri": "https://localhost:8080/"
        },
        "id": "VLcPN84xacrF",
        "outputId": "92addced-ab42-4ac8-cb8c-adb98daac5fe"
      },
      "execution_count": 6,
      "outputs": [
        {
          "output_type": "stream",
          "name": "stdout",
          "text": [
            "{'messages': 'The API is unreachable, please contact the API provider', 'info': 'Your Client (working) ---> Gateway (working) ---> API (not working)'}\n"
          ]
        }
      ]
    },
    {
      "cell_type": "code",
      "source": [
        "import requests\n",
        "\n",
        "url = \"https://matchilling-chuck-norris-jokes-v1.p.rapidapi.com/jokes/random\"\n",
        "\n",
        "headers = {\n",
        "\t\"accept\": \"application/json\",\n",
        "\t\"X-RapidAPI-Key\": \"34b1c5d5e6msh492b82ca09d45c5p1cf248jsn385da68ab9ae\",\n",
        "\t\"X-RapidAPI-Host\": \"matchilling-chuck-norris-jokes-v1.p.rapidapi.com\"\n",
        "}\n",
        "\n",
        "response = requests.get(url, headers=headers)\n",
        "\n",
        "print(response.json())"
      ],
      "metadata": {
        "colab": {
          "base_uri": "https://localhost:8080/"
        },
        "id": "fgOR8r3Ncw_W",
        "outputId": "c04d87ef-7917-4af2-8248-5ed573ab9195"
      },
      "execution_count": 7,
      "outputs": [
        {
          "output_type": "stream",
          "name": "stdout",
          "text": [
            "{'categories': [], 'created_at': '2020-01-05 13:42:30.177068', 'icon_url': 'https://assets.chucknorris.host/img/avatar/chuck-norris.png', 'id': 'LObTze4fTxyRI5HQTHts1g', 'updated_at': '2020-01-05 13:42:30.177068', 'url': 'https://api.chucknorris.io/jokes/LObTze4fTxyRI5HQTHts1g', 'value': 'last halloween Chuck Norris carved his pumpkin with an axe! The design? A picture of Chuck Norris carving a pumpkin with a freakin axe!'}\n"
          ]
        }
      ]
    },
    {
      "cell_type": "code",
      "source": [
        "import requests\n",
        "\n",
        "url = \"https://therundown-therundown-v1.p.rapidapi.com/affiliates\"\n",
        "\n",
        "headers = {\n",
        "\t\"X-RapidAPI-Key\": \"34b1c5d5e6msh492b82ca09d45c5p1cf248jsn385da68ab9ae\",\n",
        "\t\"X-RapidAPI-Host\": \"therundown-therundown-v1.p.rapidapi.com\"\n",
        "}\n",
        "\n",
        "response = requests.get(url, headers=headers)\n",
        "\n",
        "print(response.json())"
      ],
      "metadata": {
        "colab": {
          "base_uri": "https://localhost:8080/"
        },
        "id": "z6h72h8xddjy",
        "outputId": "9b330db9-09c4-40f2-9542-2ef222274604"
      },
      "execution_count": 8,
      "outputs": [
        {
          "output_type": "stream",
          "name": "stdout",
          "text": [
            "{'message': 'You are not subscribed to this API.'}\n"
          ]
        }
      ]
    },
    {
      "cell_type": "code",
      "source": [
        "import requests\n",
        "\n",
        "url = \"https://api-football-v1.p.rapidapi.com/v3/timezone\"\n",
        "\n",
        "headers = {\n",
        "\t\"X-RapidAPI-Key\": \"34b1c5d5e6msh492b82ca09d45c5p1cf248jsn385da68ab9ae\",\n",
        "\t\"X-RapidAPI-Host\": \"api-football-v1.p.rapidapi.com\"\n",
        "}\n",
        "\n",
        "response = requests.get(url, headers=headers)\n",
        "\n",
        "print(response.json())"
      ],
      "metadata": {
        "colab": {
          "base_uri": "https://localhost:8080/"
        },
        "id": "BtUGokQRehW3",
        "outputId": "9a71a0db-8ed9-4f78-a114-b130c7f613df"
      },
      "execution_count": 9,
      "outputs": [
        {
          "output_type": "stream",
          "name": "stdout",
          "text": [
            "{'message': 'You are not subscribed to this API.'}\n"
          ]
        }
      ]
    },
    {
      "cell_type": "code",
      "source": [
        "import requests\n",
        "\n",
        "url = \"https://currency-exchange.p.rapidapi.com/exchange\"\n",
        "\n",
        "querystring = {\"from\":\"SGD\",\"to\":\"MYR\",\"q\":\"1.0\"}\n",
        "\n",
        "headers = {\n",
        "\t\"X-RapidAPI-Key\": \"34b1c5d5e6msh492b82ca09d45c5p1cf248jsn385da68ab9ae\",\n",
        "\t\"X-RapidAPI-Host\": \"currency-exchange.p.rapidapi.com\"\n",
        "}\n",
        "\n",
        "response = requests.get(url, headers=headers, params=querystring)\n",
        "\n",
        "print(response.json())"
      ],
      "metadata": {
        "colab": {
          "base_uri": "https://localhost:8080/"
        },
        "id": "pANihiZ6e6oP",
        "outputId": "d818830e-2e4c-438c-e38f-5e2f59cb5369"
      },
      "execution_count": 10,
      "outputs": [
        {
          "output_type": "stream",
          "name": "stdout",
          "text": [
            "3.525222\n"
          ]
        }
      ]
    },
    {
      "cell_type": "code",
      "source": [
        "import requests\n",
        "\n",
        "url = \"https://omgvamp-hearthstone-v1.p.rapidapi.com/info\"\n",
        "\n",
        "headers = {\n",
        "\t\"X-RapidAPI-Key\": \"34b1c5d5e6msh492b82ca09d45c5p1cf248jsn385da68ab9ae\",\n",
        "\t\"X-RapidAPI-Host\": \"omgvamp-hearthstone-v1.p.rapidapi.com\"\n",
        "}\n",
        "\n",
        "response = requests.get(url, headers=headers)\n",
        "\n",
        "print(response.json())"
      ],
      "metadata": {
        "colab": {
          "base_uri": "https://localhost:8080/"
        },
        "id": "UzZy1oQKf2sf",
        "outputId": "d559ba10-6f9c-4c5a-8e0d-322c192f0bf1"
      },
      "execution_count": 11,
      "outputs": [
        {
          "output_type": "stream",
          "name": "stdout",
          "text": [
            "{'patch': '28.6.2.194648', 'classes': ['Death Knight', 'Druid', 'Hunter', 'Mage', 'Paladin', 'Priest', 'Rogue', 'Shaman', 'Warlock', 'Warrior', 'Dream', 'Neutral', 'Whizbang', 'Demon Hunter'], 'sets': ['Basic', 'Classic', 'Hall of Fame', 'Missions', 'Demo', 'System', 'Slush', 'Promo', 'Naxxramas', 'Goblins vs Gnomes', 'Blackrock Mountain', 'The Grand Tournament', 'Credits', 'Hero Skins', 'Tavern Brawl', 'The League of Explorers', 'Whispers of the Old Gods', 'Whispers of the Old Gods', 'One Night in Karazhan', 'One Night in Karazhan', 'Mean Streets of Gadgetzan', 'Mean Streets of Gadgetzan', \"Journey to Un'Goro\", 'Knights of the Frozen Throne', 'Kobolds & Catacombs', 'The Witchwood', 'The Boomsday Project', \"Rastakhan's Rumble\", 'Rise of Shadows', 'Taverns of Time', 'Saviors of Uldum', 'Descent of Dragons', \"Galakrond's Awakening\", 'Ashes of Outland', 'Wild Event', 'Scholomance Academy', 'Battlegrounds', 'Demon Hunter Initiate', 'Madness at the Darkmoon Faire', 'Forged in the Barrens', 'Legacy', 'Core', 'Classic', 'Wailing Caverns', 'United in Stormwind', 'Mercenaries', 'Fractured in Alterac Valley', 'Voyage to the Sunken City', 'Unknown', 'Murder at Castle Nathria', 'March of the Lich King', 'Path of Arthas', 'Festival of Legends', 'TITANS', 'Caverns of Time', 'Showdown in the Badlands', 'Tutorial', \"Whizbang's Workshop\", 'Event'], 'standard': ['Core', 'Forged in the Barrens', 'United in Stormwind', 'Fractured in Alterac Valley', 'Voyage to the Sunken City', 'Murder at Castle Nathria', 'March of the Lich King', 'Path of Arthas', 'Festival of Legends', 'TITANS', 'Showdown in the Badlands', \"Whizbang's Workshop\", 'Event'], 'wild': ['Legacy', 'Promo', 'Naxxramas', 'Goblins vs Gnomes', 'Blackrock Mountain', 'The Grand Tournament', 'The League of Explorers', 'Whispers of the Old Gods', 'Whispers of the Old Gods', 'One Night in Karazhan', 'One Night in Karazhan', 'Mean Streets of Gadgetzan', 'Mean Streets of Gadgetzan', \"Journey to Un'Goro\", 'Knights of the Frozen Throne', 'Kobolds & Catacombs', 'The Witchwood', 'The Boomsday Project', \"Rastakhan's Rumble\", 'Rise of Shadows', 'Saviors of Uldum', 'Descent of Dragons', \"Galakrond's Awakening\", 'Ashes of Outland', 'Demon Hunter Initiate', 'Scholomance Academy', 'Madness at the Darkmoon Faire', 'Forged in the Barrens', 'United in Stormwind', 'Fractured in Alterac Valley', 'Voyage to the Sunken City', 'Murder at Castle Nathria', 'March of the Lich King', 'Path of Arthas', 'Festival of Legends', 'TITANS', 'Caverns of Time', 'Showdown in the Badlands', \"Whizbang's Workshop\", 'Event'], 'types': ['Hero', 'Minion', 'Spell', 'Enchantment', 'Weapon', 'Hero Power', 'Location'], 'factions': ['Horde', 'Alliance', 'Neutral'], 'qualities': ['Common', 'Free', 'Rare', 'Epic', 'Legendary'], 'races': ['Orc', 'Undead', 'Murloc', 'Demon', 'Mech', 'Elemental', 'Beast', 'Totem', 'Pirate', 'Dragon', 'All', 'Quilboar', 'Naga'], 'locales': {'DE_DE': 'deDE', 'EN_GB': 'enGB', 'EN_US': 'enUS', 'ES_ES': 'esES', 'ES_MX': 'esMX', 'FR_FR': 'frFR', 'IT_IT': 'itIT', 'KO_KR': 'koKR', 'PL_PL': 'plPL', 'PT_BR': 'ptBR', 'RU_RU': 'ruRU', 'ZH_CN': 'zhCN', 'ZH_TW': 'zhTW', 'JA_JP': 'jaJP', 'TH_TH': 'thTH'}}\n"
          ]
        }
      ]
    },
    {
      "cell_type": "code",
      "source": [],
      "metadata": {
        "id": "p5EVrJL4hE2x"
      },
      "execution_count": null,
      "outputs": []
    }
  ]
}