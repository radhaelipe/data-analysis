{
  "nbformat": 4,
  "nbformat_minor": 0,
  "metadata": {
    "colab": {
      "provenance": []
    },
    "kernelspec": {
      "name": "python3",
      "display_name": "Python 3"
    },
    "language_info": {
      "name": "python"
    }
  },
  "cells": [
    {
      "cell_type": "code",
      "execution_count": null,
      "metadata": {
        "id": "sfmecOvoPn7I"
      },
      "outputs": [],
      "source": [
        "import scipy\n",
        "from scipy import integrate\n",
        "result,error=integrate.quad(lambda xx**2,0,1)\n",
        "print(\"result:\",result)\n",
        "print(\"error:\",error)"
      ]
    },
    {
      "cell_type": "code",
      "source": [
        "import numpy as np\n",
        "from scipy import stats\n",
        "\n",
        "# Sample data (random numbers)\n",
        "np.random.seed(42)  # for reproducibility\n",
        "sample_data = np.random.normal(loc=10, scale=2, size=30)  # sample of 30 observations from a normal distribution with mean 10 and standard deviation 2\n",
        "\n",
        "# Population parameters\n",
        "population_mean = 10  # hypothesized population mean\n",
        "\n",
        "# Perform one-sample t-test\n",
        "t_statistic, p_value = stats.ttest_1samp(sample_data, population_mean)\n",
        "\n",
        "# Interpret the results\n",
        "alpha = 0.05  # significance level\n",
        "print(\"t-statistic:\", t_statistic)\n",
        "print(\"p-value:\", p_value)\n",
        "\n",
        "if p_value < alpha:\n",
        "    print(\"Reject the null hypothesis. There is enough evidence to suggest that the sample mean differs significantly from the population mean.\")\n",
        "else:\n",
        "    print(\"Fail to reject the null hypothesis. There is not enough evidence to suggest that the sample mean differs significantly from the population mean.\")"
      ],
      "metadata": {
        "colab": {
          "base_uri": "https://localhost:8080/"
        },
        "id": "U0VxcvcMpF0_",
        "outputId": "a4e8913b-6ec4-482d-e41d-b8e95d94a601"
      },
      "execution_count": null,
      "outputs": [
        {
          "output_type": "stream",
          "name": "stdout",
          "text": [
            "t-statistic: -1.1450173670383255\n",
            "p-value: 0.2615641461880169\n",
            "Fail to reject the null hypothesis. There is not enough evidence to suggest that the sample mean differs significantly from the population mean.\n"
          ]
        }
      ]
    },
    {
      "cell_type": "code",
      "source": [
        "t_statistic, p_value = stats.ttest_1samp(sample_data, population_mean)\n",
        "print(sample_data)"
      ],
      "metadata": {
        "colab": {
          "base_uri": "https://localhost:8080/"
        },
        "id": "jL5H4jNeq4I4",
        "outputId": "2100b6ca-aa0d-468c-b96f-97cba66403c1"
      },
      "execution_count": null,
      "outputs": [
        {
          "output_type": "stream",
          "name": "stdout",
          "text": [
            "[10.99342831  9.7234714  11.29537708 13.04605971  9.53169325  9.53172609\n",
            " 13.15842563 11.53486946  9.06105123 11.08512009  9.07316461  9.06854049\n",
            " 10.48392454  6.17343951  6.55016433  8.87542494  7.97433776 10.62849467\n",
            "  8.18395185  7.1753926  12.93129754  9.5484474  10.13505641  7.15050363\n",
            "  8.91123455 10.22184518  7.69801285 10.75139604  8.79872262  9.4166125 ]\n"
          ]
        }
      ]
    },
    {
      "cell_type": "code",
      "source": [
        "import pandas as pd\n",
        "np.random.seed(0)\n",
        "data=pd.DataFrame({\n",
        "    'Tretment':np.random.choice(['A','B','C'],size=100),\n",
        "    'Score':np.random.normal(loc=10,scale=2,size=100)\n",
        "})\n",
        "print(data)"
      ],
      "metadata": {
        "colab": {
          "base_uri": "https://localhost:8080/"
        },
        "id": "TEniHjxv1N5B",
        "outputId": "e2a2ea40-73e6-4bf3-b0ef-a28d1352835c"
      },
      "execution_count": null,
      "outputs": [
        {
          "output_type": "stream",
          "name": "stdout",
          "text": [
            "   Tretment      Score\n",
            "0         A   8.626821\n",
            "1         B  10.029747\n",
            "2         A   9.248668\n",
            "3         B   9.923553\n",
            "4         B  10.735949\n",
            "..      ...        ...\n",
            "95        A   9.933528\n",
            "96        C  10.131283\n",
            "97        A  10.531571\n",
            "98        B  12.303684\n",
            "99        C  10.276086\n",
            "\n",
            "[100 rows x 2 columns]\n"
          ]
        }
      ]
    },
    {
      "cell_type": "code",
      "source": [
        "mean_score_per_group=data.groupby('Tretment')['Score'].mean()\n",
        "print(mean_score_per_group)"
      ],
      "metadata": {
        "colab": {
          "base_uri": "https://localhost:8080/"
        },
        "id": "jMZnOL7Z2h3a",
        "outputId": "3cbde257-cacf-49b8-f6d9-ef20a3497259"
      },
      "execution_count": null,
      "outputs": [
        {
          "output_type": "stream",
          "name": "stdout",
          "text": [
            "Tretment\n",
            "A     9.611241\n",
            "B    10.099304\n",
            "C    10.010667\n",
            "Name: Score, dtype: float64\n"
          ]
        }
      ]
    },
    {
      "cell_type": "code",
      "source": [
        "group_a=data[data['Tretment']=='A']['Score']\n",
        "group_b=data[data['Tretment']=='B']['Score']\n",
        "t_stat,p_value=stats.ttest_ind(group_a,group_b)\n",
        "print(\"t-statistic:\",t_stat)\n",
        "print(\"p_value:\",p_value)"
      ],
      "metadata": {
        "colab": {
          "base_uri": "https://localhost:8080/"
        },
        "id": "DF50Xk9N36SP",
        "outputId": "bca53909-71ec-4612-a48f-d2fa7391c843"
      },
      "execution_count": null,
      "outputs": [
        {
          "output_type": "stream",
          "name": "stdout",
          "text": [
            "t-statistic: -1.0341676575352792\n",
            "p_value: 0.3045674995802033\n"
          ]
        }
      ]
    },
    {
      "cell_type": "code",
      "source": [
        "f_stat,p_value=stats.f_oneway(data[data['Tretment']=='A']['Score'],\n",
        "                             data[data['Tretment']=='B']['Score'],\n",
        "                             data[data['Tretment']=='C']['Score'])\n",
        "print(\"F-statistic:\",f_stat)\n",
        "print(\"p_value:\",p_value)"
      ],
      "metadata": {
        "colab": {
          "base_uri": "https://localhost:8080/"
        },
        "id": "VbkD7tFz5fOD",
        "outputId": "7afba5e5-10a1-4962-e618-d502ca7eb10c"
      },
      "execution_count": null,
      "outputs": [
        {
          "output_type": "stream",
          "name": "stdout",
          "text": [
            "F-statistic: 0.6019178068930898\n",
            "p_value: 0.5497930622874936\n"
          ]
        }
      ]
    },
    {
      "cell_type": "code",
      "source": [
        "import numpy as np\n",
        "volume_data=np.random.rand(1000000)\n",
        "print(\"volume of data:\",len(volume_data))"
      ],
      "metadata": {
        "colab": {
          "base_uri": "https://localhost:8080/"
        },
        "id": "SowjPpeiLG7p",
        "outputId": "fec811fb-639b-4f38-8670-668391d3d21b"
      },
      "execution_count": null,
      "outputs": [
        {
          "output_type": "stream",
          "name": "stdout",
          "text": [
            "volume of data: 1000000\n"
          ]
        }
      ]
    },
    {
      "cell_type": "code",
      "source": [
        "import time\n",
        "for i in range(10):\n",
        "  velocity_data=np.random.rand()\n",
        "  print(\"velocity data point:\",velocity_data)\n",
        "  time.sleep(2)"
      ],
      "metadata": {
        "colab": {
          "base_uri": "https://localhost:8080/"
        },
        "id": "RjxCercBLqti",
        "outputId": "36a38bc4-e9e8-4f8b-ed54-c4fe661c3fe1"
      },
      "execution_count": null,
      "outputs": [
        {
          "output_type": "stream",
          "name": "stdout",
          "text": [
            "velocity data point: 0.23181819921190217\n",
            "velocity data point: 0.4675501923254385\n",
            "velocity data point: 0.4329464086775411\n",
            "velocity data point: 0.636934247722035\n",
            "velocity data point: 0.06744365763217841\n",
            "velocity data point: 0.5989422763285648\n",
            "velocity data point: 0.02281045013175642\n",
            "velocity data point: 0.9039983926066799\n",
            "velocity data point: 0.0584609118533046\n",
            "velocity data point: 0.2627408982729754\n"
          ]
        }
      ]
    },
    {
      "cell_type": "code",
      "source": [
        "from ctypes import Structure\n",
        "Structured_data={'id':1,'name':'ammu','age':30}\n",
        "print(Structured_data)\n",
        "semi_tructured_data={'name':'mouni','age':25,'city':'tanuku'}\n",
        "print(semi_tructured_data)\n",
        "unstructured_data=\"this is a text docum.it contain any information in free\""
      ],
      "metadata": {
        "colab": {
          "base_uri": "https://localhost:8080/"
        },
        "id": "AjIe6At4NIgK",
        "outputId": "5dfaeb65-bd40-4aef-b2ed-22c1fe23be0f"
      },
      "execution_count": null,
      "outputs": [
        {
          "output_type": "stream",
          "name": "stdout",
          "text": [
            "{'id': 1, 'name': 'ammu', 'age': 30}\n",
            "{'name': 'mouni', 'age': 25, 'city': 'tanuku'}\n"
          ]
        }
      ]
    },
    {
      "cell_type": "code",
      "source": [
        "import random\n",
        "veracity_data=[random.choice([1,2,3,None])for _ in range(20)]\n",
        "print(\"veracity_data\",veracity_data)"
      ],
      "metadata": {
        "colab": {
          "base_uri": "https://localhost:8080/"
        },
        "id": "UiGFy_8IN3Xr",
        "outputId": "0657131e-2b1c-4270-b2c8-a10d21e23db3"
      },
      "execution_count": null,
      "outputs": [
        {
          "output_type": "stream",
          "name": "stdout",
          "text": [
            "veracity_data [2, 1, None, None, 1, 3, 1, 3, 2, None, None, 3, None, 2, 2, None, 2, 1, 3, 3]\n"
          ]
        }
      ]
    },
    {
      "cell_type": "code",
      "source": [
        "!pip install reportlab"
      ],
      "metadata": {
        "colab": {
          "base_uri": "https://localhost:8080/"
        },
        "id": "4lt-6yHSP_ao",
        "outputId": "102586d4-a3b2-4c78-9ac4-77077069ef36"
      },
      "execution_count": null,
      "outputs": [
        {
          "output_type": "stream",
          "name": "stdout",
          "text": [
            "Collecting reportlab\n",
            "  Downloading reportlab-4.1.0-py3-none-any.whl (1.9 MB)\n",
            "\u001b[2K     \u001b[90m━━━━━━━━━━━━━━━━━━━━━━━━━━━━━━━━━━━━━━━━\u001b[0m \u001b[32m1.9/1.9 MB\u001b[0m \u001b[31m11.9 MB/s\u001b[0m eta \u001b[36m0:00:00\u001b[0m\n",
            "\u001b[?25hRequirement already satisfied: pillow>=9.0.0 in /usr/local/lib/python3.10/dist-packages (from reportlab) (9.4.0)\n",
            "Requirement already satisfied: chardet in /usr/local/lib/python3.10/dist-packages (from reportlab) (5.2.0)\n",
            "Installing collected packages: reportlab\n",
            "Successfully installed reportlab-4.1.0\n"
          ]
        }
      ]
    }
  ]
}