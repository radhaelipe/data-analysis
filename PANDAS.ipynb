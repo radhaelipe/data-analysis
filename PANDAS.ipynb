{
  "nbformat": 4,
  "nbformat_minor": 0,
  "metadata": {
    "colab": {
      "provenance": []
    },
    "kernelspec": {
      "name": "python3",
      "display_name": "Python 3"
    },
    "language_info": {
      "name": "python"
    }
  },
  "cells": [
    {
      "cell_type": "code",
      "execution_count": null,
      "metadata": {
        "id": "gQ3UOg_YqWlk",
        "colab": {
          "base_uri": "https://localhost:8080/"
        },
        "outputId": "39ccc308-17eb-4345-c8a9-f39538dbb6ff"
      },
      "outputs": [
        {
          "output_type": "stream",
          "name": "stdout",
          "text": [
            "67    jwalitha\n",
            "43       Ramya\n",
            "44       Durga\n",
            "89     Jahnavi\n",
            "34      Lahari\n",
            "35       Sunny\n",
            "23         ggg\n",
            "dtype: object\n"
          ]
        }
      ],
      "source": [
        "import pandas as pd\n",
        "a = [\"jwalitha\",'Ramya','Durga','Jahnavi','Lahari','Sunny','ggg']\n",
        "r=pd.Series(a,index=[67,43,44,89,34,35,23])\n",
        "print(r)\n"
      ]
    },
    {
      "cell_type": "code",
      "source": [
        "import pandas as pd\n",
        "df=pd.read_csv(\"/content/grades_withnulls.csv\")\n",
        "print(df)"
      ],
      "metadata": {
        "colab": {
          "base_uri": "https://localhost:8080/"
        },
        "id": "z1-pBFAW7w2o",
        "outputId": "6c12c262-d570-47d8-8242-d5a9634c1bac"
      },
      "execution_count": null,
      "outputs": [
        {
          "output_type": "stream",
          "name": "stdout",
          "text": [
            "     Names Initials  SEM1  SEM2  SEM3 Grade  Placed\n",
            "0      Joe        K   9.8  10.0   9.9    A+       1\n",
            "1   Rajesh        M   8.9   9.1   9.3     A       1\n",
            "2   Kissan        V   9.9   9.8  10.0     A       0\n",
            "3     Mary        N   7.7   8.0   NaN     B       0\n",
            "4     Jeen        K   9.8   9.1   9.9    A+       1\n",
            "5      Raj        M   8.9   9.1   9.3     A       1\n",
            "6   Hassan        V   9.9   9.0   9.2     A       1\n",
            "7     Mari        N   7.7   8.0   7.1     B       1\n",
            "8     Jess        K   NaN   9.1   9.9    A+       1\n",
            "9   Rajini        M   NaN   9.1   9.3     A       0\n",
            "10   Kiran        V   NaN   9.3   9.2     A       0\n",
            "11    Maya        N   7.7   8.0   7.1     B       0\n",
            "12   Jolin        K   9.8   9.1   9.9    A+       1\n",
            "13  Rajesh        M   8.9   9.1   9.3     A       1\n",
            "14    Riya        M   9.3   9.9  10.0     A       1\n",
            "15    Sana        V   9.9   9.3   9.2     A       0\n",
            "16    Mark        N   7.7   8.0   7.0     B       0\n"
          ]
        }
      ]
    },
    {
      "cell_type": "code",
      "source": [
        "\n",
        "import pandas as pd\n",
        "d=pd.read_excel(\"/content/diabetcsv.xlsx\")\n",
        "print(d)"
      ],
      "metadata": {
        "colab": {
          "base_uri": "https://localhost:8080/"
        },
        "id": "7nShFsQb853_",
        "outputId": "2ef21822-b2c3-4b3e-d785-f607ac966247"
      },
      "execution_count": null,
      "outputs": [
        {
          "output_type": "stream",
          "name": "stdout",
          "text": [
            "     preg  plas  pres  skin  insu  mass   pedi  age            class\n",
            "0       6   148    72    35     0  33.6  0.627   50  tested_positive\n",
            "1       1    85    66    29     0  26.6  0.351   31  tested_negative\n",
            "2       8   183    64     0     0  23.3  0.672   32  tested_positive\n",
            "3       1    89    66    23    94  28.1  0.167   21  tested_negative\n",
            "4       0   137    40    35   168  43.1  2.288   33  tested_positive\n",
            "..    ...   ...   ...   ...   ...   ...    ...  ...              ...\n",
            "763    10   101    76    48   180  32.9  0.171   63  tested_negative\n",
            "764     2   122    70    27     0  36.8  0.340   27  tested_negative\n",
            "765     5   121    72    23   112  26.2  0.245   30  tested_negative\n",
            "766     1   126    60     0     0  30.1  0.349   47  tested_positive\n",
            "767     1    93    70    31     0  30.4  0.315   23  tested_negative\n",
            "\n",
            "[768 rows x 9 columns]\n"
          ]
        }
      ]
    },
    {
      "cell_type": "code",
      "source": [
        "import pandas as pd\n",
        "df=pd.read_csv(\"/content/diabetcsv.csv\")\n",
        "print(df.head())\n",
        "print(df.tail(n=10))\n"
      ],
      "metadata": {
        "id": "ftnX6zJf8yiy",
        "colab": {
          "base_uri": "https://localhost:8080/"
        },
        "outputId": "9c5f7d62-5f99-442d-f70e-369802f48fb9"
      },
      "execution_count": null,
      "outputs": [
        {
          "output_type": "stream",
          "name": "stdout",
          "text": [
            "   preg  plas  pres  skin  insu  mass   pedi  age            class\n",
            "0     6   148    72    35     0  33.6  0.627   50  tested_positive\n",
            "1     1    85    66    29     0  26.6  0.351   31  tested_negative\n",
            "2     8   183    64     0     0  23.3  0.672   32  tested_positive\n",
            "3     1    89    66    23    94  28.1  0.167   21  tested_negative\n",
            "4     0   137    40    35   168  43.1  2.288   33  tested_positive\n",
            "     preg  plas  pres  skin  insu  mass   pedi  age            class\n",
            "758     1   106    76     0     0  37.5  0.197   26  tested_negative\n",
            "759     6   190    92     0     0  35.5  0.278   66  tested_positive\n",
            "760     2    88    58    26    16  28.4  0.766   22  tested_negative\n",
            "761     9   170    74    31     0  44.0  0.403   43  tested_positive\n",
            "762     9    89    62     0     0  22.5  0.142   33  tested_negative\n",
            "763    10   101    76    48   180  32.9  0.171   63  tested_negative\n",
            "764     2   122    70    27     0  36.8  0.340   27  tested_negative\n",
            "765     5   121    72    23   112  26.2  0.245   30  tested_negative\n",
            "766     1   126    60     0     0  30.1  0.349   47  tested_positive\n",
            "767     1    93    70    31     0  30.4  0.315   23  tested_negative\n"
          ]
        }
      ]
    },
    {
      "cell_type": "code",
      "source": [],
      "metadata": {
        "id": "YC_pb8yCTImk"
      },
      "execution_count": null,
      "outputs": []
    },
    {
      "cell_type": "code",
      "source": [
        "import pandas as pd\n",
        "df=pd.read_csv(\"/content/diabetcsv.csv\")\n",
        "print(df.describe)\n",
        "print(df.describe().T)\n",
        "print(df.shape)\n",
        "print(df.shape[0])\n",
        "print(df.shape[1])\n",
        "print(df.columns)\n",
        "df2=df.copy()\n",
        "df2.loc[2:5,'SEM1']=7\n",
        "df2.head(7)\n",
        "df2.isnull().head(7)\n",
        "df.isnull().tail(7)\n",
        "print(df2.isnull().sum())\n",
        "print(df2['SEM1'])\n",
        "print(df2[['SEM1','mass']])\n",
        "print(df[df.index==1])\n",
        "print(df[df.index.isin(range(2,5))])\n",
        "print(df2.loc[3])\n",
        "df2.loc[6:11,'age']=None\n",
        "print(df2.head(15))\n",
        "df2.loc[[1,2,3]]\n",
        "df2.loc[10:15,['mass','age']]\n",
        "df2.iloc[10:14,:3]\n",
        "df2.loc[:7:,[\"age\"]]\n",
        "df2.loc[df['mass']==33.6]\n",
        "df2[df2.mass==33.6]\n",
        "df2.loc[df2['mass']>30.0,['age']]\n",
        "df3=df2.copy()\n",
        "df3.dropna(inplace=True,how='all')\n",
        "df3\n",
        "mv=df3['mass'].mean()\n",
        "df3=df3.fillna(mv)\n",
        "print(mv)\n",
        "\n"
      ],
      "metadata": {
        "colab": {
          "base_uri": "https://localhost:8080/"
        },
        "id": "Hh2tVc5tTo_N",
        "outputId": "3e2e8d9b-ecd6-41db-c8d2-d4282264cd2a"
      },
      "execution_count": null,
      "outputs": [
        {
          "output_type": "stream",
          "name": "stdout",
          "text": [
            "<bound method NDFrame.describe of      preg  plas  pres  skin  insu  mass   pedi  age            class\n",
            "0       6   148    72    35     0  33.6  0.627   50  tested_positive\n",
            "1       1    85    66    29     0  26.6  0.351   31  tested_negative\n",
            "2       8   183    64     0     0  23.3  0.672   32  tested_positive\n",
            "3       1    89    66    23    94  28.1  0.167   21  tested_negative\n",
            "4       0   137    40    35   168  43.1  2.288   33  tested_positive\n",
            "..    ...   ...   ...   ...   ...   ...    ...  ...              ...\n",
            "763    10   101    76    48   180  32.9  0.171   63  tested_negative\n",
            "764     2   122    70    27     0  36.8  0.340   27  tested_negative\n",
            "765     5   121    72    23   112  26.2  0.245   30  tested_negative\n",
            "766     1   126    60     0     0  30.1  0.349   47  tested_positive\n",
            "767     1    93    70    31     0  30.4  0.315   23  tested_negative\n",
            "\n",
            "[768 rows x 9 columns]>\n",
            "      count        mean         std     min       25%       50%        75%  \\\n",
            "preg  768.0    3.845052    3.369578   0.000   1.00000    3.0000    6.00000   \n",
            "plas  768.0  120.894531   31.972618   0.000  99.00000  117.0000  140.25000   \n",
            "pres  768.0   69.105469   19.355807   0.000  62.00000   72.0000   80.00000   \n",
            "skin  768.0   20.536458   15.952218   0.000   0.00000   23.0000   32.00000   \n",
            "insu  768.0   79.799479  115.244002   0.000   0.00000   30.5000  127.25000   \n",
            "mass  768.0   31.992578    7.884160   0.000  27.30000   32.0000   36.60000   \n",
            "pedi  768.0    0.471876    0.331329   0.078   0.24375    0.3725    0.62625   \n",
            "age   768.0   33.240885   11.760232  21.000  24.00000   29.0000   41.00000   \n",
            "\n",
            "         max  \n",
            "preg   17.00  \n",
            "plas  199.00  \n",
            "pres  122.00  \n",
            "skin   99.00  \n",
            "insu  846.00  \n",
            "mass   67.10  \n",
            "pedi    2.42  \n",
            "age    81.00  \n",
            "(768, 9)\n",
            "768\n",
            "9\n",
            "Index(['preg', 'plas', 'pres', 'skin', 'insu', 'mass', 'pedi', 'age', 'class'], dtype='object')\n",
            "preg       0\n",
            "plas       0\n",
            "pres       0\n",
            "skin       0\n",
            "insu       0\n",
            "mass       0\n",
            "pedi       0\n",
            "age        0\n",
            "class      0\n",
            "SEM1     764\n",
            "dtype: int64\n",
            "0      NaN\n",
            "1      NaN\n",
            "2      7.0\n",
            "3      7.0\n",
            "4      7.0\n",
            "      ... \n",
            "763    NaN\n",
            "764    NaN\n",
            "765    NaN\n",
            "766    NaN\n",
            "767    NaN\n",
            "Name: SEM1, Length: 768, dtype: float64\n",
            "     SEM1  mass\n",
            "0     NaN  33.6\n",
            "1     NaN  26.6\n",
            "2     7.0  23.3\n",
            "3     7.0  28.1\n",
            "4     7.0  43.1\n",
            "..    ...   ...\n",
            "763   NaN  32.9\n",
            "764   NaN  36.8\n",
            "765   NaN  26.2\n",
            "766   NaN  30.1\n",
            "767   NaN  30.4\n",
            "\n",
            "[768 rows x 2 columns]\n",
            "   preg  plas  pres  skin  insu  mass   pedi  age            class\n",
            "1     1    85    66    29     0  26.6  0.351   31  tested_negative\n",
            "   preg  plas  pres  skin  insu  mass   pedi  age            class\n",
            "2     8   183    64     0     0  23.3  0.672   32  tested_positive\n",
            "3     1    89    66    23    94  28.1  0.167   21  tested_negative\n",
            "4     0   137    40    35   168  43.1  2.288   33  tested_positive\n",
            "preg                   1\n",
            "plas                  89\n",
            "pres                  66\n",
            "skin                  23\n",
            "insu                  94\n",
            "mass                28.1\n",
            "pedi               0.167\n",
            "age                   21\n",
            "class    tested_negative\n",
            "SEM1                 7.0\n",
            "Name: 3, dtype: object\n",
            "    preg  plas  pres  skin  insu  mass   pedi   age            class  SEM1\n",
            "0      6   148    72    35     0  33.6  0.627  50.0  tested_positive   NaN\n",
            "1      1    85    66    29     0  26.6  0.351  31.0  tested_negative   NaN\n",
            "2      8   183    64     0     0  23.3  0.672  32.0  tested_positive   7.0\n",
            "3      1    89    66    23    94  28.1  0.167  21.0  tested_negative   7.0\n",
            "4      0   137    40    35   168  43.1  2.288  33.0  tested_positive   7.0\n",
            "5      5   116    74     0     0  25.6  0.201  30.0  tested_negative   7.0\n",
            "6      3    78    50    32    88  31.0  0.248   NaN  tested_positive   NaN\n",
            "7     10   115     0     0     0  35.3  0.134   NaN  tested_negative   NaN\n",
            "8      2   197    70    45   543  30.5  0.158   NaN  tested_positive   NaN\n",
            "9      8   125    96     0     0   0.0  0.232   NaN  tested_positive   NaN\n",
            "10     4   110    92     0     0  37.6  0.191   NaN  tested_negative   NaN\n",
            "11    10   168    74     0     0  38.0  0.537   NaN  tested_positive   NaN\n",
            "12    10   139    80     0     0  27.1  1.441  57.0  tested_negative   NaN\n",
            "13     1   189    60    23   846  30.1  0.398  59.0  tested_positive   NaN\n",
            "14     5   166    72    19   175  25.8  0.587  51.0  tested_positive   NaN\n",
            "31.992578124999998\n"
          ]
        }
      ]
    },
    {
      "cell_type": "code",
      "source": [
        "import pandas as pd\n",
        "df=pd.read_csv(\"/content/grades_withnulls.csv\")\n",
        "d2=df.copy()\n",
        "d2\n",
        "d2.dropna(inplace=True,axis=1)\n",
        "d2\n",
        "d2.dropna(inplace=True,how='all')#remove both rows and columns if it has any null value\n",
        "d2\n",
        "mv=df['SEM1'].mean()\n",
        "df=df.fillna(mv)\n",
        "print(df)\n",
        "print(mv)"
      ],
      "metadata": {
        "colab": {
          "base_uri": "https://localhost:8080/"
        },
        "id": "5X_pbttXg-qB",
        "outputId": "8af2dff5-b1a7-41df-b1a5-b052c97a1ce9"
      },
      "execution_count": null,
      "outputs": [
        {
          "output_type": "stream",
          "name": "stdout",
          "text": [
            "     Names Initials      SEM1  SEM2       SEM3 Grade  Placed\n",
            "0      Joe        K  9.800000  10.0   9.900000    A+       1\n",
            "1   Rajesh        M  8.900000   9.1   9.300000     A       1\n",
            "2   Kissan        V  9.900000   9.8  10.000000     A       0\n",
            "3     Mary        N  7.700000   8.0   8.992857     B       0\n",
            "4     Jeen        K  9.800000   9.1   9.900000    A+       1\n",
            "5      Raj        M  8.900000   9.1   9.300000     A       1\n",
            "6   Hassan        V  9.900000   9.0   9.200000     A       1\n",
            "7     Mari        N  7.700000   8.0   7.100000     B       1\n",
            "8     Jess        K  8.992857   9.1   9.900000    A+       1\n",
            "9   Rajini        M  8.992857   9.1   9.300000     A       0\n",
            "10   Kiran        V  8.992857   9.3   9.200000     A       0\n",
            "11    Maya        N  7.700000   8.0   7.100000     B       0\n",
            "12   Jolin        K  9.800000   9.1   9.900000    A+       1\n",
            "13  Rajesh        M  8.900000   9.1   9.300000     A       1\n",
            "14    Riya        M  9.300000   9.9  10.000000     A       1\n",
            "15    Sana        V  9.900000   9.3   9.200000     A       0\n",
            "16    Mark        N  7.700000   8.0   7.000000     B       0\n",
            "8.992857142857144\n"
          ]
        }
      ]
    }
  ]
}