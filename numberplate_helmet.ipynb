{
  "cells": [
    {
      "cell_type": "code",
      "execution_count": 1,
      "metadata": {
        "colab": {
          "base_uri": "https://localhost:8080/"
        },
        "id": "BQcHmdqgBwwm",
        "outputId": "bfcf0d3b-1837-47f3-87ad-8efb9d9032ad"
      },
      "outputs": [
        {
          "output_type": "stream",
          "name": "stdout",
          "text": [
            "Collecting ultralytics\n",
            "  Downloading ultralytics-8.3.27-py3-none-any.whl.metadata (35 kB)\n",
            "Requirement already satisfied: numpy>=1.23.0 in /usr/local/lib/python3.10/dist-packages (from ultralytics) (1.26.4)\n",
            "Requirement already satisfied: matplotlib>=3.3.0 in /usr/local/lib/python3.10/dist-packages (from ultralytics) (3.8.0)\n",
            "Requirement already satisfied: opencv-python>=4.6.0 in /usr/local/lib/python3.10/dist-packages (from ultralytics) (4.10.0.84)\n",
            "Requirement already satisfied: pillow>=7.1.2 in /usr/local/lib/python3.10/dist-packages (from ultralytics) (10.4.0)\n",
            "Requirement already satisfied: pyyaml>=5.3.1 in /usr/local/lib/python3.10/dist-packages (from ultralytics) (6.0.2)\n",
            "Requirement already satisfied: requests>=2.23.0 in /usr/local/lib/python3.10/dist-packages (from ultralytics) (2.32.3)\n",
            "Requirement already satisfied: scipy>=1.4.1 in /usr/local/lib/python3.10/dist-packages (from ultralytics) (1.13.1)\n",
            "Requirement already satisfied: torch>=1.8.0 in /usr/local/lib/python3.10/dist-packages (from ultralytics) (2.5.0+cu121)\n",
            "Requirement already satisfied: torchvision>=0.9.0 in /usr/local/lib/python3.10/dist-packages (from ultralytics) (0.20.0+cu121)\n",
            "Requirement already satisfied: tqdm>=4.64.0 in /usr/local/lib/python3.10/dist-packages (from ultralytics) (4.66.6)\n",
            "Requirement already satisfied: psutil in /usr/local/lib/python3.10/dist-packages (from ultralytics) (5.9.5)\n",
            "Requirement already satisfied: py-cpuinfo in /usr/local/lib/python3.10/dist-packages (from ultralytics) (9.0.0)\n",
            "Requirement already satisfied: pandas>=1.1.4 in /usr/local/lib/python3.10/dist-packages (from ultralytics) (2.2.2)\n",
            "Requirement already satisfied: seaborn>=0.11.0 in /usr/local/lib/python3.10/dist-packages (from ultralytics) (0.13.2)\n",
            "Collecting ultralytics-thop>=2.0.0 (from ultralytics)\n",
            "  Downloading ultralytics_thop-2.0.10-py3-none-any.whl.metadata (9.4 kB)\n",
            "Requirement already satisfied: contourpy>=1.0.1 in /usr/local/lib/python3.10/dist-packages (from matplotlib>=3.3.0->ultralytics) (1.3.0)\n",
            "Requirement already satisfied: cycler>=0.10 in /usr/local/lib/python3.10/dist-packages (from matplotlib>=3.3.0->ultralytics) (0.12.1)\n",
            "Requirement already satisfied: fonttools>=4.22.0 in /usr/local/lib/python3.10/dist-packages (from matplotlib>=3.3.0->ultralytics) (4.54.1)\n",
            "Requirement already satisfied: kiwisolver>=1.0.1 in /usr/local/lib/python3.10/dist-packages (from matplotlib>=3.3.0->ultralytics) (1.4.7)\n",
            "Requirement already satisfied: packaging>=20.0 in /usr/local/lib/python3.10/dist-packages (from matplotlib>=3.3.0->ultralytics) (24.1)\n",
            "Requirement already satisfied: pyparsing>=2.3.1 in /usr/local/lib/python3.10/dist-packages (from matplotlib>=3.3.0->ultralytics) (3.2.0)\n",
            "Requirement already satisfied: python-dateutil>=2.7 in /usr/local/lib/python3.10/dist-packages (from matplotlib>=3.3.0->ultralytics) (2.8.2)\n",
            "Requirement already satisfied: pytz>=2020.1 in /usr/local/lib/python3.10/dist-packages (from pandas>=1.1.4->ultralytics) (2024.2)\n",
            "Requirement already satisfied: tzdata>=2022.7 in /usr/local/lib/python3.10/dist-packages (from pandas>=1.1.4->ultralytics) (2024.2)\n",
            "Requirement already satisfied: charset-normalizer<4,>=2 in /usr/local/lib/python3.10/dist-packages (from requests>=2.23.0->ultralytics) (3.4.0)\n",
            "Requirement already satisfied: idna<4,>=2.5 in /usr/local/lib/python3.10/dist-packages (from requests>=2.23.0->ultralytics) (3.10)\n",
            "Requirement already satisfied: urllib3<3,>=1.21.1 in /usr/local/lib/python3.10/dist-packages (from requests>=2.23.0->ultralytics) (2.2.3)\n",
            "Requirement already satisfied: certifi>=2017.4.17 in /usr/local/lib/python3.10/dist-packages (from requests>=2.23.0->ultralytics) (2024.8.30)\n",
            "Requirement already satisfied: filelock in /usr/local/lib/python3.10/dist-packages (from torch>=1.8.0->ultralytics) (3.16.1)\n",
            "Requirement already satisfied: typing-extensions>=4.8.0 in /usr/local/lib/python3.10/dist-packages (from torch>=1.8.0->ultralytics) (4.12.2)\n",
            "Requirement already satisfied: networkx in /usr/local/lib/python3.10/dist-packages (from torch>=1.8.0->ultralytics) (3.4.2)\n",
            "Requirement already satisfied: jinja2 in /usr/local/lib/python3.10/dist-packages (from torch>=1.8.0->ultralytics) (3.1.4)\n",
            "Requirement already satisfied: fsspec in /usr/local/lib/python3.10/dist-packages (from torch>=1.8.0->ultralytics) (2024.10.0)\n",
            "Requirement already satisfied: sympy==1.13.1 in /usr/local/lib/python3.10/dist-packages (from torch>=1.8.0->ultralytics) (1.13.1)\n",
            "Requirement already satisfied: mpmath<1.4,>=1.1.0 in /usr/local/lib/python3.10/dist-packages (from sympy==1.13.1->torch>=1.8.0->ultralytics) (1.3.0)\n",
            "Requirement already satisfied: six>=1.5 in /usr/local/lib/python3.10/dist-packages (from python-dateutil>=2.7->matplotlib>=3.3.0->ultralytics) (1.16.0)\n",
            "Requirement already satisfied: MarkupSafe>=2.0 in /usr/local/lib/python3.10/dist-packages (from jinja2->torch>=1.8.0->ultralytics) (3.0.2)\n",
            "Downloading ultralytics-8.3.27-py3-none-any.whl (878 kB)\n",
            "\u001b[2K   \u001b[90m━━━━━━━━━━━━━━━━━━━━━━━━━━━━━━━━━━━━━━━━\u001b[0m \u001b[32m879.0/879.0 kB\u001b[0m \u001b[31m15.5 MB/s\u001b[0m eta \u001b[36m0:00:00\u001b[0m\n",
            "\u001b[?25hDownloading ultralytics_thop-2.0.10-py3-none-any.whl (26 kB)\n",
            "Installing collected packages: ultralytics-thop, ultralytics\n",
            "Successfully installed ultralytics-8.3.27 ultralytics-thop-2.0.10\n"
          ]
        }
      ],
      "source": [
        "!pip install ultralytics"
      ]
    },
    {
      "cell_type": "code",
      "execution_count": null,
      "metadata": {
        "id": "Oavypu-Oy82k"
      },
      "outputs": [],
      "source": []
    },
    {
      "cell_type": "code",
      "execution_count": null,
      "metadata": {
        "colab": {
          "base_uri": "https://localhost:8080/"
        },
        "id": "0--IA4AzAOVN",
        "outputId": "c0788cfa-a77c-4a3e-b878-f75605cef916"
      },
      "outputs": [
        {
          "name": "stdout",
          "output_type": "stream",
          "text": [
            "Type your corresponding choice for taking your input (i.e. 'image', 'video', 'camera')\n",
            "Type here: image\n",
            "\n",
            "image 1/1 /content/hel4.jpg: 416x640 2 Helmets, 249.1ms\n",
            "Speed: 8.2ms preprocess, 249.1ms inference, 1.4ms postprocess per image at shape (1, 3, 416, 640)\n",
            "Results saved to \u001b[1mruns/detect/predict2\u001b[0m\n",
            "Processing complete.\n"
          ]
        }
      ],
      "source": [
        "from ultralytics import YOLO\n",
        "\n",
        "# Load your custom YOLOv8 model (ensure the path is correct)\n",
        "model = YOLO('/content/helmet.pt')  # Change to your custom-trained model path\n",
        "\n",
        "# Take user input\n",
        "print(\"Type your corresponding choice for taking your input (i.e. 'image', 'video', 'camera')\")\n",
        "input_choice = input(\"Type here: \")\n",
        "\n",
        "# Set source based on user input\n",
        "if input_choice == \"image\":\n",
        "    source = '/content/hel4.jpg'  # Change this to your image path\n",
        "elif input_choice == \"video\":\n",
        "    source = '/content/drive/MyDrive/Datasets_SOC-III/project-helmet and number plate detection/path_to_your_video.mp4'  # Change this to your video path\n",
        "elif input_choice == \"camera\":\n",
        "    source = 0  # Webcam input\n",
        "else:\n",
        "    print(\"Invalid input choice!\")\n",
        "    source = None\n",
        "\n",
        "if source is not None:\n",
        "    # Run the detection model\n",
        "    results = model.predict(source=source, save=True, conf=0.5)\n",
        "\n",
        "    # Loop through the results to find relevant detections\n",
        "    for result in results:\n",
        "        # Parse the detected classes from the result\n",
        "        detected_classes = result.names\n",
        "        for box in result.boxes:\n",
        "            class_id = int(box.cls)\n",
        "            class_name = detected_classes[class_id]\n",
        "\n",
        "            if class_name == 'rider':\n",
        "                # Check if helmet is detected on the same rider\n",
        "                helmet_detected = False\n",
        "                for other_box in result.boxes:\n",
        "                    other_class_id = int(other_box.cls)\n",
        "                    other_class_name = detected_classes[other_class_id]\n",
        "\n",
        "                    # Add logic to ensure the helmet is on the rider\n",
        "                    if other_class_name == 'with helmet':\n",
        "                        helmet_detected = True\n",
        "                        break\n",
        "\n",
        "                if not helmet_detected:\n",
        "                    print(\"Rider detected without helmet.\")\n",
        "\n",
        "                    # Now check for vehicle and number plate\n",
        "                    for plate_box in result.boxes:\n",
        "                        plate_class_id = int(plate_box.cls)\n",
        "                        plate_class_name = detected_classes[plate_class_id]\n",
        "                        if plate_class_name == 'number plate':\n",
        "                            print(\"License plate detected:\", plate_box.xyxy)  # You can extract coordinates or use OCR here\n",
        "\n",
        "        # Save the processed results (image/video with detected boxes)\n",
        "        result.save()\n",
        "\n",
        "print(\"Processing complete.\")"
      ]
    },
    {
      "cell_type": "code",
      "execution_count": null,
      "metadata": {
        "colab": {
          "base_uri": "https://localhost:8080/"
        },
        "id": "yyt2WLUJA2no",
        "outputId": "42d516cd-0d6f-4eaa-d616-6c2fe2a7af54"
      },
      "outputs": [
        {
          "name": "stdout",
          "output_type": "stream",
          "text": [
            "Drive already mounted at /content/drive; to attempt to forcibly remount, call drive.mount(\"/content/drive\", force_remount=True).\n"
          ]
        }
      ],
      "source": [
        "from google.colab import drive\n",
        "drive.mount('/content/drive')"
      ]
    },
    {
      "cell_type": "markdown",
      "metadata": {
        "id": "JMHJpDj4zGW_"
      },
      "source": [
        "# New Section"
      ]
    },
    {
      "cell_type": "code",
      "execution_count": null,
      "metadata": {
        "colab": {
          "base_uri": "https://localhost:8080/"
        },
        "id": "k8SsFpT1L1xk",
        "outputId": "19104fcf-d738-4582-9a1c-1711157c6660"
      },
      "outputs": [
        {
          "name": "stdout",
          "output_type": "stream",
          "text": [
            "Collecting streamlit\n",
            "  Downloading streamlit-1.39.0-py2.py3-none-any.whl.metadata (8.5 kB)\n",
            "Requirement already satisfied: altair<6,>=4.0 in /usr/local/lib/python3.10/dist-packages (from streamlit) (4.2.2)\n",
            "Requirement already satisfied: blinker<2,>=1.0.0 in /usr/lib/python3/dist-packages (from streamlit) (1.4)\n",
            "Requirement already satisfied: cachetools<6,>=4.0 in /usr/local/lib/python3.10/dist-packages (from streamlit) (5.5.0)\n",
            "Requirement already satisfied: click<9,>=7.0 in /usr/local/lib/python3.10/dist-packages (from streamlit) (8.1.7)\n",
            "Requirement already satisfied: numpy<3,>=1.20 in /usr/local/lib/python3.10/dist-packages (from streamlit) (1.26.4)\n",
            "Requirement already satisfied: packaging<25,>=20 in /usr/local/lib/python3.10/dist-packages (from streamlit) (24.1)\n",
            "Requirement already satisfied: pandas<3,>=1.4.0 in /usr/local/lib/python3.10/dist-packages (from streamlit) (2.2.2)\n",
            "Requirement already satisfied: pillow<11,>=7.1.0 in /usr/local/lib/python3.10/dist-packages (from streamlit) (10.4.0)\n",
            "Requirement already satisfied: protobuf<6,>=3.20 in /usr/local/lib/python3.10/dist-packages (from streamlit) (3.20.3)\n",
            "Requirement already satisfied: pyarrow>=7.0 in /usr/local/lib/python3.10/dist-packages (from streamlit) (16.1.0)\n",
            "Requirement already satisfied: requests<3,>=2.27 in /usr/local/lib/python3.10/dist-packages (from streamlit) (2.32.3)\n",
            "Requirement already satisfied: rich<14,>=10.14.0 in /usr/local/lib/python3.10/dist-packages (from streamlit) (13.9.3)\n",
            "Requirement already satisfied: tenacity<10,>=8.1.0 in /usr/local/lib/python3.10/dist-packages (from streamlit) (9.0.0)\n",
            "Requirement already satisfied: toml<2,>=0.10.1 in /usr/local/lib/python3.10/dist-packages (from streamlit) (0.10.2)\n",
            "Requirement already satisfied: typing-extensions<5,>=4.3.0 in /usr/local/lib/python3.10/dist-packages (from streamlit) (4.12.2)\n",
            "Requirement already satisfied: gitpython!=3.1.19,<4,>=3.0.7 in /usr/local/lib/python3.10/dist-packages (from streamlit) (3.1.43)\n",
            "Collecting pydeck<1,>=0.8.0b4 (from streamlit)\n",
            "  Downloading pydeck-0.9.1-py2.py3-none-any.whl.metadata (4.1 kB)\n",
            "Requirement already satisfied: tornado<7,>=6.0.3 in /usr/local/lib/python3.10/dist-packages (from streamlit) (6.3.3)\n",
            "Collecting watchdog<6,>=2.1.5 (from streamlit)\n",
            "  Downloading watchdog-5.0.3-py3-none-manylinux2014_x86_64.whl.metadata (41 kB)\n",
            "\u001b[2K     \u001b[90m━━━━━━━━━━━━━━━━━━━━━━━━━━━━━━━━━━━━━━━━\u001b[0m \u001b[32m41.9/41.9 kB\u001b[0m \u001b[31m1.6 MB/s\u001b[0m eta \u001b[36m0:00:00\u001b[0m\n",
            "\u001b[?25hRequirement already satisfied: entrypoints in /usr/local/lib/python3.10/dist-packages (from altair<6,>=4.0->streamlit) (0.4)\n",
            "Requirement already satisfied: jinja2 in /usr/local/lib/python3.10/dist-packages (from altair<6,>=4.0->streamlit) (3.1.4)\n",
            "Requirement already satisfied: jsonschema>=3.0 in /usr/local/lib/python3.10/dist-packages (from altair<6,>=4.0->streamlit) (4.23.0)\n",
            "Requirement already satisfied: toolz in /usr/local/lib/python3.10/dist-packages (from altair<6,>=4.0->streamlit) (0.12.1)\n",
            "Requirement already satisfied: gitdb<5,>=4.0.1 in /usr/local/lib/python3.10/dist-packages (from gitpython!=3.1.19,<4,>=3.0.7->streamlit) (4.0.11)\n",
            "Requirement already satisfied: python-dateutil>=2.8.2 in /usr/local/lib/python3.10/dist-packages (from pandas<3,>=1.4.0->streamlit) (2.8.2)\n",
            "Requirement already satisfied: pytz>=2020.1 in /usr/local/lib/python3.10/dist-packages (from pandas<3,>=1.4.0->streamlit) (2024.2)\n",
            "Requirement already satisfied: tzdata>=2022.7 in /usr/local/lib/python3.10/dist-packages (from pandas<3,>=1.4.0->streamlit) (2024.2)\n",
            "Requirement already satisfied: charset-normalizer<4,>=2 in /usr/local/lib/python3.10/dist-packages (from requests<3,>=2.27->streamlit) (3.4.0)\n",
            "Requirement already satisfied: idna<4,>=2.5 in /usr/local/lib/python3.10/dist-packages (from requests<3,>=2.27->streamlit) (3.10)\n",
            "Requirement already satisfied: urllib3<3,>=1.21.1 in /usr/local/lib/python3.10/dist-packages (from requests<3,>=2.27->streamlit) (2.2.3)\n",
            "Requirement already satisfied: certifi>=2017.4.17 in /usr/local/lib/python3.10/dist-packages (from requests<3,>=2.27->streamlit) (2024.8.30)\n",
            "Requirement already satisfied: markdown-it-py>=2.2.0 in /usr/local/lib/python3.10/dist-packages (from rich<14,>=10.14.0->streamlit) (3.0.0)\n",
            "Requirement already satisfied: pygments<3.0.0,>=2.13.0 in /usr/local/lib/python3.10/dist-packages (from rich<14,>=10.14.0->streamlit) (2.18.0)\n",
            "Requirement already satisfied: smmap<6,>=3.0.1 in /usr/local/lib/python3.10/dist-packages (from gitdb<5,>=4.0.1->gitpython!=3.1.19,<4,>=3.0.7->streamlit) (5.0.1)\n",
            "Requirement already satisfied: MarkupSafe>=2.0 in /usr/local/lib/python3.10/dist-packages (from jinja2->altair<6,>=4.0->streamlit) (3.0.2)\n",
            "Requirement already satisfied: attrs>=22.2.0 in /usr/local/lib/python3.10/dist-packages (from jsonschema>=3.0->altair<6,>=4.0->streamlit) (24.2.0)\n",
            "Requirement already satisfied: jsonschema-specifications>=2023.03.6 in /usr/local/lib/python3.10/dist-packages (from jsonschema>=3.0->altair<6,>=4.0->streamlit) (2024.10.1)\n",
            "Requirement already satisfied: referencing>=0.28.4 in /usr/local/lib/python3.10/dist-packages (from jsonschema>=3.0->altair<6,>=4.0->streamlit) (0.35.1)\n",
            "Requirement already satisfied: rpds-py>=0.7.1 in /usr/local/lib/python3.10/dist-packages (from jsonschema>=3.0->altair<6,>=4.0->streamlit) (0.20.0)\n",
            "Requirement already satisfied: mdurl~=0.1 in /usr/local/lib/python3.10/dist-packages (from markdown-it-py>=2.2.0->rich<14,>=10.14.0->streamlit) (0.1.2)\n",
            "Requirement already satisfied: six>=1.5 in /usr/local/lib/python3.10/dist-packages (from python-dateutil>=2.8.2->pandas<3,>=1.4.0->streamlit) (1.16.0)\n",
            "Downloading streamlit-1.39.0-py2.py3-none-any.whl (8.7 MB)\n",
            "\u001b[2K   \u001b[90m━━━━━━━━━━━━━━━━━━━━━━━━━━━━━━━━━━━━━━━━\u001b[0m \u001b[32m8.7/8.7 MB\u001b[0m \u001b[31m56.4 MB/s\u001b[0m eta \u001b[36m0:00:00\u001b[0m\n",
            "\u001b[?25hDownloading pydeck-0.9.1-py2.py3-none-any.whl (6.9 MB)\n",
            "\u001b[2K   \u001b[90m━━━━━━━━━━━━━━━━━━━━━━━━━━━━━━━━━━━━━━━━\u001b[0m \u001b[32m6.9/6.9 MB\u001b[0m \u001b[31m86.0 MB/s\u001b[0m eta \u001b[36m0:00:00\u001b[0m\n",
            "\u001b[?25hDownloading watchdog-5.0.3-py3-none-manylinux2014_x86_64.whl (79 kB)\n",
            "\u001b[2K   \u001b[90m━━━━━━━━━━━━━━━━━━━━━━━━━━━━━━━━━━━━━━━━\u001b[0m \u001b[32m79.3/79.3 kB\u001b[0m \u001b[31m5.1 MB/s\u001b[0m eta \u001b[36m0:00:00\u001b[0m\n",
            "\u001b[?25hInstalling collected packages: watchdog, pydeck, streamlit\n",
            "Successfully installed pydeck-0.9.1 streamlit-1.39.0 watchdog-5.0.3\n"
          ]
        }
      ],
      "source": [
        "!pip install streamlit"
      ]
    },
    {
      "cell_type": "code",
      "execution_count": 3,
      "metadata": {
        "colab": {
          "base_uri": "https://localhost:8080/"
        },
        "id": "0l6WolH2hES1",
        "outputId": "2cfff606-fcd0-4ed1-b997-1655c52d5b01"
      },
      "outputs": [
        {
          "metadata": {
            "tags": null
          },
          "name": "stdout",
          "output_type": "stream",
          "text": [
            "Ultralytics 8.3.27 🚀 Python-3.10.12 torch-2.5.0+cu121 CUDA:0 (Tesla T4, 15102MiB)\n",
            "\u001b[34m\u001b[1mengine/trainer: \u001b[0mtask=detect, mode=train, model=/content/drive/MyDrive/main-project/helmet-verification-using-yolo-v8-main/yolov8n.pt, data=/content/drive/MyDrive/main-project/helmet-verification-using-yolo-v8-main/Bike Helmet Detection.v2-more-preprocessing-augmentation.yolov8/data.yaml, epochs=10, time=None, patience=100, batch=16, imgsz=640, save=True, save_period=-1, cache=False, device=None, workers=8, project=None, name=train, exist_ok=False, pretrained=True, optimizer=auto, verbose=True, seed=0, deterministic=True, single_cls=False, rect=False, cos_lr=False, close_mosaic=10, resume=False, amp=True, fraction=1.0, profile=False, freeze=None, multi_scale=False, overlap_mask=True, mask_ratio=4, dropout=0.0, val=True, split=val, save_json=False, save_hybrid=False, conf=None, iou=0.7, max_det=300, half=False, dnn=False, plots=True, source=None, vid_stride=1, stream_buffer=False, visualize=False, augment=False, agnostic_nms=False, classes=None, retina_masks=False, embed=None, show=False, save_frames=False, save_txt=False, save_conf=False, save_crop=False, show_labels=True, show_conf=True, show_boxes=True, line_width=None, format=torchscript, keras=False, optimize=False, int8=False, dynamic=False, simplify=True, opset=None, workspace=4, nms=False, lr0=0.01, lrf=0.01, momentum=0.937, weight_decay=0.0005, warmup_epochs=3.0, warmup_momentum=0.8, warmup_bias_lr=0.1, box=7.5, cls=0.5, dfl=1.5, pose=12.0, kobj=1.0, label_smoothing=0.0, nbs=64, hsv_h=0.015, hsv_s=0.7, hsv_v=0.4, degrees=0.0, translate=0.1, scale=0.5, shear=0.0, perspective=0.0, flipud=0.0, fliplr=0.5, bgr=0.0, mosaic=1.0, mixup=0.0, copy_paste=0.0, copy_paste_mode=flip, auto_augment=randaugment, erasing=0.4, crop_fraction=1.0, cfg=None, tracker=botsort.yaml, save_dir=runs/detect/train\n",
            "Downloading https://ultralytics.com/assets/Arial.ttf to '/root/.config/Ultralytics/Arial.ttf'...\n"
          ]
        },
        {
          "metadata": {
            "tags": null
          },
          "name": "stderr",
          "output_type": "stream",
          "text": [
            "100%|██████████| 755k/755k [00:00<00:00, 71.2MB/s]\n"
          ]
        },
        {
          "metadata": {
            "tags": null
          },
          "name": "stdout",
          "output_type": "stream",
          "text": [
            "Overriding model.yaml nc=80 with nc=2\n",
            "\n",
            "                   from  n    params  module                                       arguments                     \n",
            "  0                  -1  1       464  ultralytics.nn.modules.conv.Conv             [3, 16, 3, 2]                 \n",
            "  1                  -1  1      4672  ultralytics.nn.modules.conv.Conv             [16, 32, 3, 2]                \n",
            "  2                  -1  1      7360  ultralytics.nn.modules.block.C2f             [32, 32, 1, True]             \n",
            "  3                  -1  1     18560  ultralytics.nn.modules.conv.Conv             [32, 64, 3, 2]                \n",
            "  4                  -1  2     49664  ultralytics.nn.modules.block.C2f             [64, 64, 2, True]             \n",
            "  5                  -1  1     73984  ultralytics.nn.modules.conv.Conv             [64, 128, 3, 2]               \n",
            "  6                  -1  2    197632  ultralytics.nn.modules.block.C2f             [128, 128, 2, True]           \n",
            "  7                  -1  1    295424  ultralytics.nn.modules.conv.Conv             [128, 256, 3, 2]              \n",
            "  8                  -1  1    460288  ultralytics.nn.modules.block.C2f             [256, 256, 1, True]           \n",
            "  9                  -1  1    164608  ultralytics.nn.modules.block.SPPF            [256, 256, 5]                 \n",
            " 10                  -1  1         0  torch.nn.modules.upsampling.Upsample         [None, 2, 'nearest']          \n",
            " 11             [-1, 6]  1         0  ultralytics.nn.modules.conv.Concat           [1]                           \n",
            " 12                  -1  1    148224  ultralytics.nn.modules.block.C2f             [384, 128, 1]                 \n",
            " 13                  -1  1         0  torch.nn.modules.upsampling.Upsample         [None, 2, 'nearest']          \n",
            " 14             [-1, 4]  1         0  ultralytics.nn.modules.conv.Concat           [1]                           \n",
            " 15                  -1  1     37248  ultralytics.nn.modules.block.C2f             [192, 64, 1]                  \n",
            " 16                  -1  1     36992  ultralytics.nn.modules.conv.Conv             [64, 64, 3, 2]                \n",
            " 17            [-1, 12]  1         0  ultralytics.nn.modules.conv.Concat           [1]                           \n",
            " 18                  -1  1    123648  ultralytics.nn.modules.block.C2f             [192, 128, 1]                 \n",
            " 19                  -1  1    147712  ultralytics.nn.modules.conv.Conv             [128, 128, 3, 2]              \n",
            " 20             [-1, 9]  1         0  ultralytics.nn.modules.conv.Concat           [1]                           \n",
            " 21                  -1  1    493056  ultralytics.nn.modules.block.C2f             [384, 256, 1]                 \n",
            " 22        [15, 18, 21]  1    751702  ultralytics.nn.modules.head.Detect           [2, [64, 128, 256]]           \n",
            "Model summary: 225 layers, 3,011,238 parameters, 3,011,222 gradients, 8.2 GFLOPs\n",
            "\n",
            "Transferred 319/355 items from pretrained weights\n",
            "\u001b[34m\u001b[1mTensorBoard: \u001b[0mStart with 'tensorboard --logdir runs/detect/train', view at http://localhost:6006/\n",
            "Freezing layer 'model.22.dfl.conv.weight'\n",
            "\u001b[34m\u001b[1mAMP: \u001b[0mrunning Automatic Mixed Precision (AMP) checks...\n",
            "Downloading https://github.com/ultralytics/assets/releases/download/v8.3.0/yolo11n.pt to 'yolo11n.pt'...\n"
          ]
        },
        {
          "metadata": {
            "tags": null
          },
          "name": "stderr",
          "output_type": "stream",
          "text": [
            "100%|██████████| 5.35M/5.35M [00:00<00:00, 58.8MB/s]\n"
          ]
        },
        {
          "metadata": {
            "tags": null
          },
          "name": "stdout",
          "output_type": "stream",
          "text": [
            "\u001b[34m\u001b[1mAMP: \u001b[0mchecks passed ✅\n"
          ]
        },
        {
          "metadata": {
            "tags": null
          },
          "name": "stderr",
          "output_type": "stream",
          "text": [
            "\u001b[34m\u001b[1mtrain: \u001b[0mScanning /content/drive/MyDrive/main-project/helmet-verification-using-yolo-v8-main/Bike Helmet Detection.v2-more-preprocessing-augmentation.yolov8/train/labels.cache... 3546 images, 138 backgrounds, 0 corrupt: 100%|██████████| 3555/3555 [00:00<?, ?it/s]\n"
          ]
        },
        {
          "metadata": {
            "tags": null
          },
          "name": "stdout",
          "output_type": "stream",
          "text": [
            "\u001b[34m\u001b[1malbumentations: \u001b[0mBlur(p=0.01, blur_limit=(3, 7)), MedianBlur(p=0.01, blur_limit=(3, 7)), ToGray(p=0.01, num_output_channels=3, method='weighted_average'), CLAHE(p=0.01, clip_limit=(1.0, 4.0), tile_grid_size=(8, 8))\n"
          ]
        },
        {
          "metadata": {
            "tags": null
          },
          "name": "stderr",
          "output_type": "stream",
          "text": [
            "/usr/local/lib/python3.10/dist-packages/albumentations/__init__.py:24: UserWarning: A new version of Albumentations is available: 1.4.21 (you have 1.4.20). Upgrade using: pip install -U albumentations. To disable automatic update checks, set the environment variable NO_ALBUMENTATIONS_UPDATE to 1.\n",
            "  check_for_updates()\n",
            "\u001b[34m\u001b[1mval: \u001b[0mScanning /content/drive/MyDrive/main-project/helmet-verification-using-yolo-v8-main/Bike Helmet Detection.v2-more-preprocessing-augmentation.yolov8/valid/labels.cache... 126 images, 0 backgrounds, 0 corrupt: 100%|██████████| 126/126 [00:00<?, ?it/s]\n"
          ]
        },
        {
          "metadata": {
            "tags": null
          },
          "name": "stdout",
          "output_type": "stream",
          "text": [
            "Plotting labels to runs/detect/train/labels.jpg... \n",
            "\u001b[34m\u001b[1moptimizer:\u001b[0m 'optimizer=auto' found, ignoring 'lr0=0.01' and 'momentum=0.937' and determining best 'optimizer', 'lr0' and 'momentum' automatically... \n",
            "\u001b[34m\u001b[1moptimizer:\u001b[0m AdamW(lr=0.001667, momentum=0.9) with parameter groups 57 weight(decay=0.0), 64 weight(decay=0.0005), 63 bias(decay=0.0)\n",
            "\u001b[34m\u001b[1mTensorBoard: \u001b[0mmodel graph visualization added ✅\n",
            "Image sizes 640 train, 640 val\n",
            "Using 2 dataloader workers\n",
            "Logging results to \u001b[1mruns/detect/train\u001b[0m\n",
            "Starting training for 10 epochs...\n",
            "Closing dataloader mosaic\n",
            "\u001b[34m\u001b[1malbumentations: \u001b[0mBlur(p=0.01, blur_limit=(3, 7)), MedianBlur(p=0.01, blur_limit=(3, 7)), ToGray(p=0.01, num_output_channels=3, method='weighted_average'), CLAHE(p=0.01, clip_limit=(1.0, 4.0), tile_grid_size=(8, 8))\n",
            "\n",
            "      Epoch    GPU_mem   box_loss   cls_loss   dfl_loss  Instances       Size\n"
          ]
        },
        {
          "metadata": {
            "tags": null
          },
          "name": "stderr",
          "output_type": "stream",
          "text": [
            "       1/10       2.2G      1.893      2.579      1.611         12        640: 100%|██████████| 223/223 [18:17<00:00,  4.92s/it]\n",
            "                 Class     Images  Instances      Box(P          R      mAP50  mAP50-95): 100%|██████████| 4/4 [00:02<00:00,  1.40it/s]"
          ]
        },
        {
          "metadata": {
            "tags": null
          },
          "name": "stdout",
          "output_type": "stream",
          "text": [
            "                   all        126        299      0.485      0.453      0.409      0.128\n"
          ]
        },
        {
          "metadata": {
            "tags": null
          },
          "name": "stderr",
          "output_type": "stream",
          "text": [
            "\n"
          ]
        },
        {
          "metadata": {
            "tags": null
          },
          "name": "stdout",
          "output_type": "stream",
          "text": [
            "\n",
            "      Epoch    GPU_mem   box_loss   cls_loss   dfl_loss  Instances       Size\n"
          ]
        },
        {
          "metadata": {
            "tags": null
          },
          "name": "stderr",
          "output_type": "stream",
          "text": [
            "       2/10       2.2G      1.745      1.891      1.517         14        640: 100%|██████████| 223/223 [01:25<00:00,  2.60it/s]\n",
            "                 Class     Images  Instances      Box(P          R      mAP50  mAP50-95): 100%|██████████| 4/4 [00:03<00:00,  1.27it/s]"
          ]
        },
        {
          "metadata": {
            "tags": null
          },
          "name": "stdout",
          "output_type": "stream",
          "text": [
            "                   all        126        299      0.416      0.565      0.422      0.147\n"
          ]
        },
        {
          "metadata": {
            "tags": null
          },
          "name": "stderr",
          "output_type": "stream",
          "text": [
            "\n"
          ]
        },
        {
          "metadata": {
            "tags": null
          },
          "name": "stdout",
          "output_type": "stream",
          "text": [
            "\n",
            "      Epoch    GPU_mem   box_loss   cls_loss   dfl_loss  Instances       Size\n"
          ]
        },
        {
          "metadata": {
            "tags": null
          },
          "name": "stderr",
          "output_type": "stream",
          "text": [
            "       3/10       2.2G       1.73      1.697      1.517          8        640: 100%|██████████| 223/223 [01:23<00:00,  2.68it/s]\n",
            "                 Class     Images  Instances      Box(P          R      mAP50  mAP50-95): 100%|██████████| 4/4 [00:02<00:00,  1.48it/s]"
          ]
        },
        {
          "metadata": {
            "tags": null
          },
          "name": "stdout",
          "output_type": "stream",
          "text": [
            "                   all        126        299      0.503      0.511      0.463      0.153\n"
          ]
        },
        {
          "metadata": {
            "tags": null
          },
          "name": "stderr",
          "output_type": "stream",
          "text": [
            "\n"
          ]
        },
        {
          "metadata": {
            "tags": null
          },
          "name": "stdout",
          "output_type": "stream",
          "text": [
            "\n",
            "      Epoch    GPU_mem   box_loss   cls_loss   dfl_loss  Instances       Size\n"
          ]
        },
        {
          "metadata": {
            "tags": null
          },
          "name": "stderr",
          "output_type": "stream",
          "text": [
            "       4/10      2.21G      1.702       1.57      1.488         13        640: 100%|██████████| 223/223 [01:26<00:00,  2.57it/s]\n",
            "                 Class     Images  Instances      Box(P          R      mAP50  mAP50-95): 100%|██████████| 4/4 [00:01<00:00,  2.40it/s]"
          ]
        },
        {
          "metadata": {
            "tags": null
          },
          "name": "stdout",
          "output_type": "stream",
          "text": [
            "                   all        126        299      0.527      0.551      0.511      0.209\n"
          ]
        },
        {
          "metadata": {
            "tags": null
          },
          "name": "stderr",
          "output_type": "stream",
          "text": [
            "\n"
          ]
        },
        {
          "metadata": {
            "tags": null
          },
          "name": "stdout",
          "output_type": "stream",
          "text": [
            "\n",
            "      Epoch    GPU_mem   box_loss   cls_loss   dfl_loss  Instances       Size\n"
          ]
        },
        {
          "metadata": {
            "tags": null
          },
          "name": "stderr",
          "output_type": "stream",
          "text": [
            "       5/10      2.21G       1.65       1.44      1.458         12        640: 100%|██████████| 223/223 [01:27<00:00,  2.54it/s]\n",
            "                 Class     Images  Instances      Box(P          R      mAP50  mAP50-95): 100%|██████████| 4/4 [00:01<00:00,  2.60it/s]"
          ]
        },
        {
          "metadata": {
            "tags": null
          },
          "name": "stdout",
          "output_type": "stream",
          "text": [
            "                   all        126        299      0.678      0.638      0.655      0.258\n"
          ]
        },
        {
          "metadata": {
            "tags": null
          },
          "name": "stderr",
          "output_type": "stream",
          "text": [
            "\n"
          ]
        },
        {
          "metadata": {
            "tags": null
          },
          "name": "stdout",
          "output_type": "stream",
          "text": [
            "\n",
            "      Epoch    GPU_mem   box_loss   cls_loss   dfl_loss  Instances       Size\n"
          ]
        },
        {
          "metadata": {
            "tags": null
          },
          "name": "stderr",
          "output_type": "stream",
          "text": [
            "       6/10      2.21G      1.609      1.331      1.432          6        640: 100%|██████████| 223/223 [01:25<00:00,  2.62it/s]\n",
            "                 Class     Images  Instances      Box(P          R      mAP50  mAP50-95): 100%|██████████| 4/4 [00:02<00:00,  1.38it/s]"
          ]
        },
        {
          "metadata": {
            "tags": null
          },
          "name": "stdout",
          "output_type": "stream",
          "text": [
            "                   all        126        299      0.715      0.657       0.71      0.317\n"
          ]
        },
        {
          "metadata": {
            "tags": null
          },
          "name": "stderr",
          "output_type": "stream",
          "text": [
            "\n"
          ]
        },
        {
          "metadata": {
            "tags": null
          },
          "name": "stdout",
          "output_type": "stream",
          "text": [
            "\n",
            "      Epoch    GPU_mem   box_loss   cls_loss   dfl_loss  Instances       Size\n"
          ]
        },
        {
          "metadata": {
            "tags": null
          },
          "name": "stderr",
          "output_type": "stream",
          "text": [
            "       7/10       2.2G      1.563      1.241      1.405          6        640: 100%|██████████| 223/223 [01:21<00:00,  2.73it/s]\n",
            "                 Class     Images  Instances      Box(P          R      mAP50  mAP50-95): 100%|██████████| 4/4 [00:01<00:00,  2.79it/s]"
          ]
        },
        {
          "metadata": {
            "tags": null
          },
          "name": "stdout",
          "output_type": "stream",
          "text": [
            "                   all        126        299      0.618      0.612      0.649      0.269\n"
          ]
        },
        {
          "metadata": {
            "tags": null
          },
          "name": "stderr",
          "output_type": "stream",
          "text": [
            "\n"
          ]
        },
        {
          "metadata": {
            "tags": null
          },
          "name": "stdout",
          "output_type": "stream",
          "text": [
            "\n",
            "      Epoch    GPU_mem   box_loss   cls_loss   dfl_loss  Instances       Size\n"
          ]
        },
        {
          "output_type": "stream",
          "name": "stderr",
          "text": [
            "       8/10       2.2G      1.529      1.167      1.376         18        640: 100%|██████████| 223/223 [01:24<00:00,  2.63it/s]\n",
            "                 Class     Images  Instances      Box(P          R      mAP50  mAP50-95): 100%|██████████| 4/4 [00:01<00:00,  2.75it/s]"
          ]
        },
        {
          "output_type": "stream",
          "name": "stdout",
          "text": [
            "                   all        126        299      0.665      0.726      0.715      0.286\n"
          ]
        },
        {
          "output_type": "stream",
          "name": "stderr",
          "text": [
            "\n"
          ]
        },
        {
          "output_type": "stream",
          "name": "stdout",
          "text": [
            "\n",
            "      Epoch    GPU_mem   box_loss   cls_loss   dfl_loss  Instances       Size\n"
          ]
        },
        {
          "output_type": "stream",
          "name": "stderr",
          "text": [
            "       9/10       2.2G      1.477      1.096      1.348         12        640: 100%|██████████| 223/223 [01:24<00:00,  2.64it/s]\n",
            "                 Class     Images  Instances      Box(P          R      mAP50  mAP50-95): 100%|██████████| 4/4 [00:03<00:00,  1.19it/s]"
          ]
        },
        {
          "output_type": "stream",
          "name": "stdout",
          "text": [
            "                   all        126        299      0.756      0.695       0.75      0.333\n"
          ]
        },
        {
          "output_type": "stream",
          "name": "stderr",
          "text": [
            "\n"
          ]
        },
        {
          "output_type": "stream",
          "name": "stdout",
          "text": [
            "\n",
            "      Epoch    GPU_mem   box_loss   cls_loss   dfl_loss  Instances       Size\n"
          ]
        },
        {
          "output_type": "stream",
          "name": "stderr",
          "text": [
            "      10/10      2.21G      1.436      1.021      1.314          9        640: 100%|██████████| 223/223 [01:22<00:00,  2.70it/s]\n",
            "                 Class     Images  Instances      Box(P          R      mAP50  mAP50-95): 100%|██████████| 4/4 [00:01<00:00,  2.17it/s]"
          ]
        },
        {
          "output_type": "stream",
          "name": "stdout",
          "text": [
            "                   all        126        299      0.741      0.725      0.792      0.327\n"
          ]
        },
        {
          "output_type": "stream",
          "name": "stderr",
          "text": [
            "\n"
          ]
        },
        {
          "output_type": "stream",
          "name": "stdout",
          "text": [
            "\n",
            "10 epochs completed in 0.529 hours.\n",
            "Optimizer stripped from runs/detect/train/weights/last.pt, 6.2MB\n",
            "Optimizer stripped from runs/detect/train/weights/best.pt, 6.2MB\n",
            "\n",
            "Validating runs/detect/train/weights/best.pt...\n",
            "Ultralytics 8.3.27 🚀 Python-3.10.12 torch-2.5.0+cu121 CUDA:0 (Tesla T4, 15102MiB)\n",
            "Model summary (fused): 168 layers, 3,006,038 parameters, 0 gradients, 8.1 GFLOPs\n"
          ]
        },
        {
          "output_type": "stream",
          "name": "stderr",
          "text": [
            "                 Class     Images  Instances      Box(P          R      mAP50  mAP50-95): 100%|██████████| 4/4 [00:05<00:00,  1.29s/it]\n"
          ]
        },
        {
          "output_type": "stream",
          "name": "stdout",
          "text": [
            "                   all        126        299      0.755      0.696       0.75      0.333\n",
            "           With Helmet         88        184      0.703      0.913      0.857      0.394\n",
            "        Without Helmet         53        115      0.806      0.478      0.643      0.273\n",
            "Speed: 0.4ms preprocess, 3.7ms inference, 0.0ms loss, 8.6ms postprocess per image\n",
            "Results saved to \u001b[1mruns/detect/train\u001b[0m\n"
          ]
        }
      ],
      "source": [
        "from ultralytics import YOLO\n",
        "\n",
        "# Load a model\n",
        "model = YOLO(\"yolov8n.yaml\")  # build a new model from scratch\n",
        "model = YOLO(\"/content/drive/MyDrive/main-project/helmet-verification-using-yolo-v8-main/yolov8n.pt\")  # load a pretrained model (recommended for training)\n",
        "\n",
        "# Use the model\n",
        "results = model.train(data=r\"/content/drive/MyDrive/main-project/helmet-verification-using-yolo-v8-main/Bike Helmet Detection.v2-more-preprocessing-augmentation.yolov8/data.yaml\", epochs=10)  # train the model"
      ]
    },
    {
      "cell_type": "code",
      "execution_count": 5,
      "metadata": {
        "id": "iqjIzySwiW1P",
        "colab": {
          "base_uri": "https://localhost:8080/"
        },
        "outputId": "6b490a0e-3225-46b8-ef80-a406714e12bb"
      },
      "outputs": [
        {
          "output_type": "stream",
          "name": "stdout",
          "text": [
            "WARNING ⚠️ Environment does not support cv2.imshow() or PIL Image.show()\n",
            "\n",
            "\n",
            "\n",
            "WARNING ⚠️ inference results will accumulate in RAM unless `stream=True` is passed, causing potential out-of-memory\n",
            "errors for large sources or long-running streams and videos. See https://docs.ultralytics.com/modes/predict/ for help.\n",
            "\n",
            "Example:\n",
            "    results = model(source=..., stream=True)  # generator of Results objects\n",
            "    for r in results:\n",
            "        boxes = r.boxes  # Boxes object for bbox outputs\n",
            "        masks = r.masks  # Masks object for segment masks outputs\n",
            "        probs = r.probs  # Class probabilities for classification outputs\n",
            "\n",
            "video 1/1 (frame 1/434) /content/drive/MyDrive/main-project/helmet.mp4: 384x640 3 Helmets, 3 No Helmets, 59.5ms\n",
            "video 1/1 (frame 2/434) /content/drive/MyDrive/main-project/helmet.mp4: 384x640 2 Helmets, 4 No Helmets, 9.2ms\n",
            "video 1/1 (frame 3/434) /content/drive/MyDrive/main-project/helmet.mp4: 384x640 1 Helmet, 3 No Helmets, 12.3ms\n",
            "video 1/1 (frame 4/434) /content/drive/MyDrive/main-project/helmet.mp4: 384x640 2 Helmets, 2 No Helmets, 16.8ms\n",
            "video 1/1 (frame 5/434) /content/drive/MyDrive/main-project/helmet.mp4: 384x640 4 Helmets, 1 No Helmet, 9.3ms\n",
            "video 1/1 (frame 6/434) /content/drive/MyDrive/main-project/helmet.mp4: 384x640 4 Helmets, 3 No Helmets, 8.9ms\n",
            "video 1/1 (frame 7/434) /content/drive/MyDrive/main-project/helmet.mp4: 384x640 3 Helmets, 1 No Helmet, 9.3ms\n",
            "video 1/1 (frame 8/434) /content/drive/MyDrive/main-project/helmet.mp4: 384x640 3 Helmets, 2 No Helmets, 9.0ms\n",
            "video 1/1 (frame 9/434) /content/drive/MyDrive/main-project/helmet.mp4: 384x640 5 Helmets, 2 No Helmets, 8.9ms\n",
            "video 1/1 (frame 10/434) /content/drive/MyDrive/main-project/helmet.mp4: 384x640 4 Helmets, 1 No Helmet, 14.7ms\n",
            "video 1/1 (frame 11/434) /content/drive/MyDrive/main-project/helmet.mp4: 384x640 4 Helmets, 9.2ms\n",
            "video 1/1 (frame 12/434) /content/drive/MyDrive/main-project/helmet.mp4: 384x640 4 Helmets, 10.6ms\n",
            "video 1/1 (frame 13/434) /content/drive/MyDrive/main-project/helmet.mp4: 384x640 6 Helmets, 1 No Helmet, 14.9ms\n",
            "video 1/1 (frame 14/434) /content/drive/MyDrive/main-project/helmet.mp4: 384x640 4 Helmets, 10.9ms\n",
            "video 1/1 (frame 15/434) /content/drive/MyDrive/main-project/helmet.mp4: 384x640 5 Helmets, 1 No Helmet, 19.5ms\n",
            "video 1/1 (frame 16/434) /content/drive/MyDrive/main-project/helmet.mp4: 384x640 5 Helmets, 9.6ms\n",
            "video 1/1 (frame 17/434) /content/drive/MyDrive/main-project/helmet.mp4: 384x640 6 Helmets, 13.7ms\n",
            "video 1/1 (frame 18/434) /content/drive/MyDrive/main-project/helmet.mp4: 384x640 5 Helmets, 8.2ms\n",
            "video 1/1 (frame 19/434) /content/drive/MyDrive/main-project/helmet.mp4: 384x640 6 Helmets, 9.1ms\n",
            "video 1/1 (frame 20/434) /content/drive/MyDrive/main-project/helmet.mp4: 384x640 6 Helmets, 9.9ms\n",
            "video 1/1 (frame 21/434) /content/drive/MyDrive/main-project/helmet.mp4: 384x640 4 Helmets, 9.3ms\n",
            "video 1/1 (frame 22/434) /content/drive/MyDrive/main-project/helmet.mp4: 384x640 4 Helmets, 9.4ms\n",
            "video 1/1 (frame 23/434) /content/drive/MyDrive/main-project/helmet.mp4: 384x640 5 Helmets, 15.3ms\n",
            "video 1/1 (frame 24/434) /content/drive/MyDrive/main-project/helmet.mp4: 384x640 4 Helmets, 9.4ms\n",
            "video 1/1 (frame 25/434) /content/drive/MyDrive/main-project/helmet.mp4: 384x640 6 Helmets, 8.9ms\n",
            "video 1/1 (frame 26/434) /content/drive/MyDrive/main-project/helmet.mp4: 384x640 5 Helmets, 8.1ms\n",
            "video 1/1 (frame 27/434) /content/drive/MyDrive/main-project/helmet.mp4: 384x640 5 Helmets, 1 No Helmet, 8.6ms\n",
            "video 1/1 (frame 28/434) /content/drive/MyDrive/main-project/helmet.mp4: 384x640 4 Helmets, 1 No Helmet, 11.6ms\n",
            "video 1/1 (frame 29/434) /content/drive/MyDrive/main-project/helmet.mp4: 384x640 2 Helmets, 2 No Helmets, 9.1ms\n",
            "video 1/1 (frame 30/434) /content/drive/MyDrive/main-project/helmet.mp4: 384x640 3 Helmets, 2 No Helmets, 8.3ms\n",
            "video 1/1 (frame 31/434) /content/drive/MyDrive/main-project/helmet.mp4: 384x640 4 Helmets, 12.9ms\n",
            "video 1/1 (frame 32/434) /content/drive/MyDrive/main-project/helmet.mp4: 384x640 5 Helmets, 19.3ms\n",
            "video 1/1 (frame 33/434) /content/drive/MyDrive/main-project/helmet.mp4: 384x640 5 Helmets, 1 No Helmet, 10.6ms\n",
            "video 1/1 (frame 34/434) /content/drive/MyDrive/main-project/helmet.mp4: 384x640 5 Helmets, 15.5ms\n",
            "video 1/1 (frame 35/434) /content/drive/MyDrive/main-project/helmet.mp4: 384x640 5 Helmets, 21.2ms\n",
            "video 1/1 (frame 36/434) /content/drive/MyDrive/main-project/helmet.mp4: 384x640 5 Helmets, 10.8ms\n",
            "video 1/1 (frame 37/434) /content/drive/MyDrive/main-project/helmet.mp4: 384x640 4 Helmets, 11.2ms\n",
            "video 1/1 (frame 38/434) /content/drive/MyDrive/main-project/helmet.mp4: 384x640 6 Helmets, 15.1ms\n",
            "video 1/1 (frame 39/434) /content/drive/MyDrive/main-project/helmet.mp4: 384x640 6 Helmets, 1 No Helmet, 10.3ms\n",
            "video 1/1 (frame 40/434) /content/drive/MyDrive/main-project/helmet.mp4: 384x640 5 Helmets, 2 No Helmets, 13.6ms\n",
            "video 1/1 (frame 41/434) /content/drive/MyDrive/main-project/helmet.mp4: 384x640 6 Helmets, 1 No Helmet, 11.5ms\n",
            "video 1/1 (frame 42/434) /content/drive/MyDrive/main-project/helmet.mp4: 384x640 4 Helmets, 16.5ms\n",
            "video 1/1 (frame 43/434) /content/drive/MyDrive/main-project/helmet.mp4: 384x640 5 Helmets, 9.9ms\n",
            "video 1/1 (frame 44/434) /content/drive/MyDrive/main-project/helmet.mp4: 384x640 4 Helmets, 9.9ms\n",
            "video 1/1 (frame 45/434) /content/drive/MyDrive/main-project/helmet.mp4: 384x640 4 Helmets, 9.9ms\n",
            "video 1/1 (frame 46/434) /content/drive/MyDrive/main-project/helmet.mp4: 384x640 5 Helmets, 9.9ms\n",
            "video 1/1 (frame 47/434) /content/drive/MyDrive/main-project/helmet.mp4: 384x640 5 Helmets, 12.9ms\n",
            "video 1/1 (frame 48/434) /content/drive/MyDrive/main-project/helmet.mp4: 384x640 4 Helmets, 1 No Helmet, 13.4ms\n",
            "video 1/1 (frame 49/434) /content/drive/MyDrive/main-project/helmet.mp4: 384x640 4 Helmets, 17.8ms\n",
            "video 1/1 (frame 50/434) /content/drive/MyDrive/main-project/helmet.mp4: 384x640 4 Helmets, 2 No Helmets, 22.4ms\n",
            "video 1/1 (frame 51/434) /content/drive/MyDrive/main-project/helmet.mp4: 384x640 4 Helmets, 1 No Helmet, 16.5ms\n",
            "video 1/1 (frame 52/434) /content/drive/MyDrive/main-project/helmet.mp4: 384x640 5 Helmets, 9.9ms\n",
            "video 1/1 (frame 53/434) /content/drive/MyDrive/main-project/helmet.mp4: 384x640 6 Helmets, 13.7ms\n",
            "video 1/1 (frame 54/434) /content/drive/MyDrive/main-project/helmet.mp4: 384x640 7 Helmets, 2 No Helmets, 10.4ms\n",
            "video 1/1 (frame 55/434) /content/drive/MyDrive/main-project/helmet.mp4: 384x640 5 Helmets, 9.8ms\n",
            "video 1/1 (frame 56/434) /content/drive/MyDrive/main-project/helmet.mp4: 384x640 5 Helmets, 1 No Helmet, 25.6ms\n",
            "video 1/1 (frame 57/434) /content/drive/MyDrive/main-project/helmet.mp4: 384x640 6 Helmets, 1 No Helmet, 15.8ms\n",
            "video 1/1 (frame 58/434) /content/drive/MyDrive/main-project/helmet.mp4: 384x640 8 Helmets, 1 No Helmet, 11.0ms\n",
            "video 1/1 (frame 59/434) /content/drive/MyDrive/main-project/helmet.mp4: 384x640 6 Helmets, 19.4ms\n",
            "video 1/1 (frame 60/434) /content/drive/MyDrive/main-project/helmet.mp4: 384x640 6 Helmets, 9.7ms\n",
            "video 1/1 (frame 61/434) /content/drive/MyDrive/main-project/helmet.mp4: 384x640 5 Helmets, 1 No Helmet, 9.6ms\n",
            "video 1/1 (frame 62/434) /content/drive/MyDrive/main-project/helmet.mp4: 384x640 6 Helmets, 1 No Helmet, 13.2ms\n",
            "video 1/1 (frame 63/434) /content/drive/MyDrive/main-project/helmet.mp4: 384x640 4 Helmets, 16.2ms\n",
            "video 1/1 (frame 64/434) /content/drive/MyDrive/main-project/helmet.mp4: 384x640 6 Helmets, 1 No Helmet, 14.0ms\n",
            "video 1/1 (frame 65/434) /content/drive/MyDrive/main-project/helmet.mp4: 384x640 7 Helmets, 1 No Helmet, 9.7ms\n",
            "video 1/1 (frame 66/434) /content/drive/MyDrive/main-project/helmet.mp4: 384x640 8 Helmets, 1 No Helmet, 22.0ms\n",
            "video 1/1 (frame 67/434) /content/drive/MyDrive/main-project/helmet.mp4: 384x640 6 Helmets, 1 No Helmet, 24.2ms\n",
            "video 1/1 (frame 68/434) /content/drive/MyDrive/main-project/helmet.mp4: 384x640 4 Helmets, 2 No Helmets, 27.8ms\n",
            "video 1/1 (frame 69/434) /content/drive/MyDrive/main-project/helmet.mp4: 384x640 5 Helmets, 1 No Helmet, 28.6ms\n",
            "video 1/1 (frame 70/434) /content/drive/MyDrive/main-project/helmet.mp4: 384x640 6 Helmets, 27.6ms\n",
            "video 1/1 (frame 71/434) /content/drive/MyDrive/main-project/helmet.mp4: 384x640 5 Helmets, 11.7ms\n",
            "video 1/1 (frame 72/434) /content/drive/MyDrive/main-project/helmet.mp4: 384x640 2 Helmets, 2 No Helmets, 11.1ms\n",
            "video 1/1 (frame 73/434) /content/drive/MyDrive/main-project/helmet.mp4: 384x640 3 Helmets, 2 No Helmets, 9.7ms\n",
            "video 1/1 (frame 74/434) /content/drive/MyDrive/main-project/helmet.mp4: 384x640 5 Helmets, 11.7ms\n",
            "video 1/1 (frame 75/434) /content/drive/MyDrive/main-project/helmet.mp4: 384x640 3 Helmets, 1 No Helmet, 13.7ms\n",
            "video 1/1 (frame 76/434) /content/drive/MyDrive/main-project/helmet.mp4: 384x640 6 Helmets, 1 No Helmet, 10.7ms\n",
            "video 1/1 (frame 77/434) /content/drive/MyDrive/main-project/helmet.mp4: 384x640 4 Helmets, 15.4ms\n",
            "video 1/1 (frame 78/434) /content/drive/MyDrive/main-project/helmet.mp4: 384x640 5 Helmets, 1 No Helmet, 12.1ms\n",
            "video 1/1 (frame 79/434) /content/drive/MyDrive/main-project/helmet.mp4: 384x640 4 Helmets, 2 No Helmets, 11.2ms\n",
            "video 1/1 (frame 80/434) /content/drive/MyDrive/main-project/helmet.mp4: 384x640 3 Helmets, 1 No Helmet, 10.2ms\n",
            "video 1/1 (frame 81/434) /content/drive/MyDrive/main-project/helmet.mp4: 384x640 4 Helmets, 1 No Helmet, 15.7ms\n",
            "video 1/1 (frame 82/434) /content/drive/MyDrive/main-project/helmet.mp4: 384x640 5 Helmets, 16.2ms\n",
            "video 1/1 (frame 83/434) /content/drive/MyDrive/main-project/helmet.mp4: 384x640 5 Helmets, 13.0ms\n",
            "video 1/1 (frame 84/434) /content/drive/MyDrive/main-project/helmet.mp4: 384x640 6 Helmets, 11.7ms\n",
            "video 1/1 (frame 85/434) /content/drive/MyDrive/main-project/helmet.mp4: 384x640 5 Helmets, 9.3ms\n",
            "video 1/1 (frame 86/434) /content/drive/MyDrive/main-project/helmet.mp4: 384x640 8 Helmets, 10.0ms\n",
            "video 1/1 (frame 87/434) /content/drive/MyDrive/main-project/helmet.mp4: 384x640 7 Helmets, 1 No Helmet, 7.0ms\n",
            "video 1/1 (frame 88/434) /content/drive/MyDrive/main-project/helmet.mp4: 384x640 5 Helmets, 1 No Helmet, 8.4ms\n",
            "video 1/1 (frame 89/434) /content/drive/MyDrive/main-project/helmet.mp4: 384x640 7 Helmets, 6.9ms\n",
            "video 1/1 (frame 90/434) /content/drive/MyDrive/main-project/helmet.mp4: 384x640 7 Helmets, 9.9ms\n",
            "video 1/1 (frame 91/434) /content/drive/MyDrive/main-project/helmet.mp4: 384x640 6 Helmets, 7.2ms\n",
            "video 1/1 (frame 92/434) /content/drive/MyDrive/main-project/helmet.mp4: 384x640 7 Helmets, 9.5ms\n",
            "video 1/1 (frame 93/434) /content/drive/MyDrive/main-project/helmet.mp4: 384x640 8 Helmets, 8.2ms\n",
            "video 1/1 (frame 94/434) /content/drive/MyDrive/main-project/helmet.mp4: 384x640 5 Helmets, 11.8ms\n",
            "video 1/1 (frame 95/434) /content/drive/MyDrive/main-project/helmet.mp4: 384x640 3 Helmets, 7.0ms\n",
            "video 1/1 (frame 96/434) /content/drive/MyDrive/main-project/helmet.mp4: 384x640 4 Helmets, 11.2ms\n",
            "video 1/1 (frame 97/434) /content/drive/MyDrive/main-project/helmet.mp4: 384x640 5 Helmets, 7.6ms\n",
            "video 1/1 (frame 98/434) /content/drive/MyDrive/main-project/helmet.mp4: 384x640 6 Helmets, 8.6ms\n",
            "video 1/1 (frame 99/434) /content/drive/MyDrive/main-project/helmet.mp4: 384x640 7 Helmets, 9.0ms\n",
            "video 1/1 (frame 100/434) /content/drive/MyDrive/main-project/helmet.mp4: 384x640 4 Helmets, 1 No Helmet, 6.9ms\n",
            "video 1/1 (frame 101/434) /content/drive/MyDrive/main-project/helmet.mp4: 384x640 5 Helmets, 1 No Helmet, 7.0ms\n",
            "video 1/1 (frame 102/434) /content/drive/MyDrive/main-project/helmet.mp4: 384x640 5 Helmets, 1 No Helmet, 9.4ms\n",
            "video 1/1 (frame 103/434) /content/drive/MyDrive/main-project/helmet.mp4: 384x640 6 Helmets, 6.8ms\n",
            "video 1/1 (frame 104/434) /content/drive/MyDrive/main-project/helmet.mp4: 384x640 6 Helmets, 1 No Helmet, 8.1ms\n",
            "video 1/1 (frame 105/434) /content/drive/MyDrive/main-project/helmet.mp4: 384x640 3 Helmets, 8.8ms\n",
            "video 1/1 (frame 106/434) /content/drive/MyDrive/main-project/helmet.mp4: 384x640 5 Helmets, 1 No Helmet, 6.8ms\n",
            "video 1/1 (frame 107/434) /content/drive/MyDrive/main-project/helmet.mp4: 384x640 4 Helmets, 9.4ms\n",
            "video 1/1 (frame 108/434) /content/drive/MyDrive/main-project/helmet.mp4: 384x640 5 Helmets, 2 No Helmets, 8.4ms\n",
            "video 1/1 (frame 109/434) /content/drive/MyDrive/main-project/helmet.mp4: 384x640 5 Helmets, 1 No Helmet, 10.3ms\n",
            "video 1/1 (frame 110/434) /content/drive/MyDrive/main-project/helmet.mp4: 384x640 3 Helmets, 2 No Helmets, 9.2ms\n",
            "video 1/1 (frame 111/434) /content/drive/MyDrive/main-project/helmet.mp4: 384x640 4 Helmets, 1 No Helmet, 8.2ms\n",
            "video 1/1 (frame 112/434) /content/drive/MyDrive/main-project/helmet.mp4: 384x640 4 Helmets, 1 No Helmet, 8.4ms\n",
            "video 1/1 (frame 113/434) /content/drive/MyDrive/main-project/helmet.mp4: 384x640 4 Helmets, 1 No Helmet, 8.5ms\n",
            "video 1/1 (frame 114/434) /content/drive/MyDrive/main-project/helmet.mp4: 384x640 4 Helmets, 3 No Helmets, 7.3ms\n",
            "video 1/1 (frame 115/434) /content/drive/MyDrive/main-project/helmet.mp4: 384x640 6 Helmets, 1 No Helmet, 9.5ms\n",
            "video 1/1 (frame 116/434) /content/drive/MyDrive/main-project/helmet.mp4: 384x640 3 Helmets, 1 No Helmet, 8.9ms\n",
            "video 1/1 (frame 117/434) /content/drive/MyDrive/main-project/helmet.mp4: 384x640 3 Helmets, 2 No Helmets, 6.7ms\n",
            "video 1/1 (frame 118/434) /content/drive/MyDrive/main-project/helmet.mp4: 384x640 2 Helmets, 1 No Helmet, 9.9ms\n",
            "video 1/1 (frame 119/434) /content/drive/MyDrive/main-project/helmet.mp4: 384x640 4 Helmets, 1 No Helmet, 7.2ms\n",
            "video 1/1 (frame 120/434) /content/drive/MyDrive/main-project/helmet.mp4: 384x640 4 Helmets, 2 No Helmets, 11.3ms\n",
            "video 1/1 (frame 121/434) /content/drive/MyDrive/main-project/helmet.mp4: 384x640 4 Helmets, 1 No Helmet, 8.7ms\n",
            "video 1/1 (frame 122/434) /content/drive/MyDrive/main-project/helmet.mp4: 384x640 3 Helmets, 7.2ms\n",
            "video 1/1 (frame 123/434) /content/drive/MyDrive/main-project/helmet.mp4: 384x640 6 Helmets, 7.4ms\n",
            "video 1/1 (frame 124/434) /content/drive/MyDrive/main-project/helmet.mp4: 384x640 6 Helmets, 7.5ms\n",
            "video 1/1 (frame 125/434) /content/drive/MyDrive/main-project/helmet.mp4: 384x640 4 Helmets, 8.7ms\n",
            "video 1/1 (frame 126/434) /content/drive/MyDrive/main-project/helmet.mp4: 384x640 5 Helmets, 8.2ms\n",
            "video 1/1 (frame 127/434) /content/drive/MyDrive/main-project/helmet.mp4: 384x640 7 Helmets, 6.9ms\n",
            "video 1/1 (frame 128/434) /content/drive/MyDrive/main-project/helmet.mp4: 384x640 6 Helmets, 8.4ms\n",
            "video 1/1 (frame 129/434) /content/drive/MyDrive/main-project/helmet.mp4: 384x640 6 Helmets, 7.7ms\n",
            "video 1/1 (frame 130/434) /content/drive/MyDrive/main-project/helmet.mp4: 384x640 6 Helmets, 10.2ms\n",
            "video 1/1 (frame 131/434) /content/drive/MyDrive/main-project/helmet.mp4: 384x640 6 Helmets, 8.6ms\n",
            "video 1/1 (frame 132/434) /content/drive/MyDrive/main-project/helmet.mp4: 384x640 4 Helmets, 1 No Helmet, 13.5ms\n",
            "video 1/1 (frame 133/434) /content/drive/MyDrive/main-project/helmet.mp4: 384x640 6 Helmets, 1 No Helmet, 11.8ms\n",
            "video 1/1 (frame 134/434) /content/drive/MyDrive/main-project/helmet.mp4: 384x640 6 Helmets, 1 No Helmet, 12.0ms\n",
            "video 1/1 (frame 135/434) /content/drive/MyDrive/main-project/helmet.mp4: 384x640 7 Helmets, 7.6ms\n",
            "video 1/1 (frame 136/434) /content/drive/MyDrive/main-project/helmet.mp4: 384x640 6 Helmets, 6.9ms\n",
            "video 1/1 (frame 137/434) /content/drive/MyDrive/main-project/helmet.mp4: 384x640 6 Helmets, 11.5ms\n",
            "video 1/1 (frame 138/434) /content/drive/MyDrive/main-project/helmet.mp4: 384x640 4 Helmets, 2 No Helmets, 9.8ms\n",
            "video 1/1 (frame 139/434) /content/drive/MyDrive/main-project/helmet.mp4: 384x640 8 Helmets, 9.3ms\n",
            "video 1/1 (frame 140/434) /content/drive/MyDrive/main-project/helmet.mp4: 384x640 7 Helmets, 9.8ms\n",
            "video 1/1 (frame 141/434) /content/drive/MyDrive/main-project/helmet.mp4: 384x640 5 Helmets, 2 No Helmets, 7.0ms\n",
            "video 1/1 (frame 142/434) /content/drive/MyDrive/main-project/helmet.mp4: 384x640 5 Helmets, 1 No Helmet, 8.7ms\n",
            "video 1/1 (frame 143/434) /content/drive/MyDrive/main-project/helmet.mp4: 384x640 6 Helmets, 8.7ms\n",
            "video 1/1 (frame 144/434) /content/drive/MyDrive/main-project/helmet.mp4: 384x640 6 Helmets, 7.5ms\n",
            "video 1/1 (frame 145/434) /content/drive/MyDrive/main-project/helmet.mp4: 384x640 5 Helmets, 8.9ms\n",
            "video 1/1 (frame 146/434) /content/drive/MyDrive/main-project/helmet.mp4: 384x640 5 Helmets, 1 No Helmet, 8.3ms\n",
            "video 1/1 (frame 147/434) /content/drive/MyDrive/main-project/helmet.mp4: 384x640 7 Helmets, 6.5ms\n",
            "video 1/1 (frame 148/434) /content/drive/MyDrive/main-project/helmet.mp4: 384x640 7 Helmets, 9.7ms\n",
            "video 1/1 (frame 149/434) /content/drive/MyDrive/main-project/helmet.mp4: 384x640 8 Helmets, 2 No Helmets, 10.7ms\n",
            "video 1/1 (frame 150/434) /content/drive/MyDrive/main-project/helmet.mp4: 384x640 5 Helmets, 1 No Helmet, 11.5ms\n",
            "video 1/1 (frame 151/434) /content/drive/MyDrive/main-project/helmet.mp4: 384x640 6 Helmets, 2 No Helmets, 8.2ms\n",
            "video 1/1 (frame 152/434) /content/drive/MyDrive/main-project/helmet.mp4: 384x640 7 Helmets, 1 No Helmet, 7.2ms\n",
            "video 1/1 (frame 153/434) /content/drive/MyDrive/main-project/helmet.mp4: 384x640 6 Helmets, 8.6ms\n",
            "video 1/1 (frame 154/434) /content/drive/MyDrive/main-project/helmet.mp4: 384x640 5 Helmets, 8.8ms\n",
            "video 1/1 (frame 155/434) /content/drive/MyDrive/main-project/helmet.mp4: 384x640 6 Helmets, 8.0ms\n",
            "video 1/1 (frame 156/434) /content/drive/MyDrive/main-project/helmet.mp4: 384x640 7 Helmets, 8.7ms\n",
            "video 1/1 (frame 157/434) /content/drive/MyDrive/main-project/helmet.mp4: 384x640 6 Helmets, 7.4ms\n",
            "video 1/1 (frame 158/434) /content/drive/MyDrive/main-project/helmet.mp4: 384x640 6 Helmets, 1 No Helmet, 6.7ms\n",
            "video 1/1 (frame 159/434) /content/drive/MyDrive/main-project/helmet.mp4: 384x640 8 Helmets, 3 No Helmets, 7.0ms\n",
            "video 1/1 (frame 160/434) /content/drive/MyDrive/main-project/helmet.mp4: 384x640 6 Helmets, 1 No Helmet, 8.1ms\n",
            "video 1/1 (frame 161/434) /content/drive/MyDrive/main-project/helmet.mp4: 384x640 6 Helmets, 2 No Helmets, 9.5ms\n",
            "video 1/1 (frame 162/434) /content/drive/MyDrive/main-project/helmet.mp4: 384x640 9 Helmets, 1 No Helmet, 8.6ms\n",
            "video 1/1 (frame 163/434) /content/drive/MyDrive/main-project/helmet.mp4: 384x640 9 Helmets, 8.8ms\n",
            "video 1/1 (frame 164/434) /content/drive/MyDrive/main-project/helmet.mp4: 384x640 4 Helmets, 1 No Helmet, 10.2ms\n",
            "video 1/1 (frame 165/434) /content/drive/MyDrive/main-project/helmet.mp4: 384x640 6 Helmets, 10.6ms\n",
            "video 1/1 (frame 166/434) /content/drive/MyDrive/main-project/helmet.mp4: 384x640 6 Helmets, 10.0ms\n",
            "video 1/1 (frame 167/434) /content/drive/MyDrive/main-project/helmet.mp4: 384x640 6 Helmets, 7.5ms\n",
            "video 1/1 (frame 168/434) /content/drive/MyDrive/main-project/helmet.mp4: 384x640 7 Helmets, 7.5ms\n",
            "video 1/1 (frame 169/434) /content/drive/MyDrive/main-project/helmet.mp4: 384x640 6 Helmets, 10.6ms\n",
            "video 1/1 (frame 170/434) /content/drive/MyDrive/main-project/helmet.mp4: 384x640 7 Helmets, 8.4ms\n",
            "video 1/1 (frame 171/434) /content/drive/MyDrive/main-project/helmet.mp4: 384x640 7 Helmets, 7.5ms\n",
            "video 1/1 (frame 172/434) /content/drive/MyDrive/main-project/helmet.mp4: 384x640 7 Helmets, 7.6ms\n",
            "video 1/1 (frame 173/434) /content/drive/MyDrive/main-project/helmet.mp4: 384x640 5 Helmets, 8.7ms\n",
            "video 1/1 (frame 174/434) /content/drive/MyDrive/main-project/helmet.mp4: 384x640 6 Helmets, 13.2ms\n",
            "video 1/1 (frame 175/434) /content/drive/MyDrive/main-project/helmet.mp4: 384x640 7 Helmets, 8.2ms\n",
            "video 1/1 (frame 176/434) /content/drive/MyDrive/main-project/helmet.mp4: 384x640 5 Helmets, 1 No Helmet, 8.4ms\n",
            "video 1/1 (frame 177/434) /content/drive/MyDrive/main-project/helmet.mp4: 384x640 6 Helmets, 1 No Helmet, 9.4ms\n",
            "video 1/1 (frame 178/434) /content/drive/MyDrive/main-project/helmet.mp4: 384x640 8 Helmets, 1 No Helmet, 6.9ms\n",
            "video 1/1 (frame 179/434) /content/drive/MyDrive/main-project/helmet.mp4: 384x640 7 Helmets, 11.9ms\n",
            "video 1/1 (frame 180/434) /content/drive/MyDrive/main-project/helmet.mp4: 384x640 7 Helmets, 7.5ms\n",
            "video 1/1 (frame 181/434) /content/drive/MyDrive/main-project/helmet.mp4: 384x640 6 Helmets, 1 No Helmet, 9.0ms\n",
            "video 1/1 (frame 182/434) /content/drive/MyDrive/main-project/helmet.mp4: 384x640 6 Helmets, 1 No Helmet, 9.0ms\n",
            "video 1/1 (frame 183/434) /content/drive/MyDrive/main-project/helmet.mp4: 384x640 6 Helmets, 1 No Helmet, 7.3ms\n",
            "video 1/1 (frame 184/434) /content/drive/MyDrive/main-project/helmet.mp4: 384x640 5 Helmets, 1 No Helmet, 21.1ms\n",
            "video 1/1 (frame 185/434) /content/drive/MyDrive/main-project/helmet.mp4: 384x640 6 Helmets, 13.6ms\n",
            "video 1/1 (frame 186/434) /content/drive/MyDrive/main-project/helmet.mp4: 384x640 5 Helmets, 11.0ms\n",
            "video 1/1 (frame 187/434) /content/drive/MyDrive/main-project/helmet.mp4: 384x640 4 Helmets, 7.3ms\n",
            "video 1/1 (frame 188/434) /content/drive/MyDrive/main-project/helmet.mp4: 384x640 5 Helmets, 9.3ms\n",
            "video 1/1 (frame 189/434) /content/drive/MyDrive/main-project/helmet.mp4: 384x640 4 Helmets, 6.5ms\n",
            "video 1/1 (frame 190/434) /content/drive/MyDrive/main-project/helmet.mp4: 384x640 7 Helmets, 8.9ms\n",
            "video 1/1 (frame 191/434) /content/drive/MyDrive/main-project/helmet.mp4: 384x640 3 Helmets, 14.1ms\n",
            "video 1/1 (frame 192/434) /content/drive/MyDrive/main-project/helmet.mp4: 384x640 7 Helmets, 10.8ms\n",
            "video 1/1 (frame 193/434) /content/drive/MyDrive/main-project/helmet.mp4: 384x640 4 Helmets, 2 No Helmets, 12.7ms\n",
            "video 1/1 (frame 194/434) /content/drive/MyDrive/main-project/helmet.mp4: 384x640 4 Helmets, 1 No Helmet, 9.6ms\n",
            "video 1/1 (frame 195/434) /content/drive/MyDrive/main-project/helmet.mp4: 384x640 5 Helmets, 1 No Helmet, 16.7ms\n",
            "video 1/1 (frame 196/434) /content/drive/MyDrive/main-project/helmet.mp4: 384x640 5 Helmets, 10.7ms\n",
            "video 1/1 (frame 197/434) /content/drive/MyDrive/main-project/helmet.mp4: 384x640 4 Helmets, 7.2ms\n",
            "video 1/1 (frame 198/434) /content/drive/MyDrive/main-project/helmet.mp4: 384x640 3 Helmets, 1 No Helmet, 67.9ms\n",
            "video 1/1 (frame 199/434) /content/drive/MyDrive/main-project/helmet.mp4: 384x640 5 Helmets, 24.1ms\n",
            "video 1/1 (frame 200/434) /content/drive/MyDrive/main-project/helmet.mp4: 384x640 5 Helmets, 71.1ms\n",
            "video 1/1 (frame 201/434) /content/drive/MyDrive/main-project/helmet.mp4: 384x640 4 Helmets, 64.7ms\n",
            "video 1/1 (frame 202/434) /content/drive/MyDrive/main-project/helmet.mp4: 384x640 5 Helmets, 28.5ms\n",
            "video 1/1 (frame 203/434) /content/drive/MyDrive/main-project/helmet.mp4: 384x640 5 Helmets, 6.7ms\n",
            "video 1/1 (frame 204/434) /content/drive/MyDrive/main-project/helmet.mp4: 384x640 3 Helmets, 9.1ms\n",
            "video 1/1 (frame 205/434) /content/drive/MyDrive/main-project/helmet.mp4: 384x640 5 Helmets, 6.5ms\n",
            "video 1/1 (frame 206/434) /content/drive/MyDrive/main-project/helmet.mp4: 384x640 5 Helmets, 12.4ms\n",
            "video 1/1 (frame 207/434) /content/drive/MyDrive/main-project/helmet.mp4: 384x640 4 Helmets, 6.7ms\n",
            "video 1/1 (frame 208/434) /content/drive/MyDrive/main-project/helmet.mp4: 384x640 4 Helmets, 7.9ms\n",
            "video 1/1 (frame 209/434) /content/drive/MyDrive/main-project/helmet.mp4: 384x640 4 Helmets, 7.2ms\n",
            "video 1/1 (frame 210/434) /content/drive/MyDrive/main-project/helmet.mp4: 384x640 5 Helmets, 10.8ms\n",
            "video 1/1 (frame 211/434) /content/drive/MyDrive/main-project/helmet.mp4: 384x640 5 Helmets, 7.6ms\n",
            "video 1/1 (frame 212/434) /content/drive/MyDrive/main-project/helmet.mp4: 384x640 5 Helmets, 12.4ms\n",
            "video 1/1 (frame 213/434) /content/drive/MyDrive/main-project/helmet.mp4: 384x640 5 Helmets, 10.0ms\n",
            "video 1/1 (frame 214/434) /content/drive/MyDrive/main-project/helmet.mp4: 384x640 5 Helmets, 9.3ms\n",
            "video 1/1 (frame 215/434) /content/drive/MyDrive/main-project/helmet.mp4: 384x640 5 Helmets, 9.0ms\n",
            "video 1/1 (frame 216/434) /content/drive/MyDrive/main-project/helmet.mp4: 384x640 6 Helmets, 6.6ms\n",
            "video 1/1 (frame 217/434) /content/drive/MyDrive/main-project/helmet.mp4: 384x640 5 Helmets, 8.4ms\n",
            "video 1/1 (frame 218/434) /content/drive/MyDrive/main-project/helmet.mp4: 384x640 5 Helmets, 9.5ms\n",
            "video 1/1 (frame 219/434) /content/drive/MyDrive/main-project/helmet.mp4: 384x640 5 Helmets, 10.0ms\n",
            "video 1/1 (frame 220/434) /content/drive/MyDrive/main-project/helmet.mp4: 384x640 5 Helmets, 9.7ms\n",
            "video 1/1 (frame 221/434) /content/drive/MyDrive/main-project/helmet.mp4: 384x640 5 Helmets, 8.6ms\n",
            "video 1/1 (frame 222/434) /content/drive/MyDrive/main-project/helmet.mp4: 384x640 6 Helmets, 8.1ms\n",
            "video 1/1 (frame 223/434) /content/drive/MyDrive/main-project/helmet.mp4: 384x640 5 Helmets, 1 No Helmet, 8.8ms\n",
            "video 1/1 (frame 224/434) /content/drive/MyDrive/main-project/helmet.mp4: 384x640 5 Helmets, 7.5ms\n",
            "video 1/1 (frame 225/434) /content/drive/MyDrive/main-project/helmet.mp4: 384x640 4 Helmets, 13.0ms\n",
            "video 1/1 (frame 226/434) /content/drive/MyDrive/main-project/helmet.mp4: 384x640 4 Helmets, 16.5ms\n",
            "video 1/1 (frame 227/434) /content/drive/MyDrive/main-project/helmet.mp4: 384x640 5 Helmets, 8.5ms\n",
            "video 1/1 (frame 228/434) /content/drive/MyDrive/main-project/helmet.mp4: 384x640 5 Helmets, 8.8ms\n",
            "video 1/1 (frame 229/434) /content/drive/MyDrive/main-project/helmet.mp4: 384x640 5 Helmets, 13.0ms\n",
            "video 1/1 (frame 230/434) /content/drive/MyDrive/main-project/helmet.mp4: 384x640 7 Helmets, 1 No Helmet, 9.0ms\n",
            "video 1/1 (frame 231/434) /content/drive/MyDrive/main-project/helmet.mp4: 384x640 6 Helmets, 15.9ms\n",
            "video 1/1 (frame 232/434) /content/drive/MyDrive/main-project/helmet.mp4: 384x640 4 Helmets, 9.5ms\n",
            "video 1/1 (frame 233/434) /content/drive/MyDrive/main-project/helmet.mp4: 384x640 8 Helmets, 11.3ms\n",
            "video 1/1 (frame 234/434) /content/drive/MyDrive/main-project/helmet.mp4: 384x640 5 Helmets, 10.0ms\n",
            "video 1/1 (frame 235/434) /content/drive/MyDrive/main-project/helmet.mp4: 384x640 5 Helmets, 1 No Helmet, 9.2ms\n",
            "video 1/1 (frame 236/434) /content/drive/MyDrive/main-project/helmet.mp4: 384x640 3 Helmets, 9.0ms\n",
            "video 1/1 (frame 237/434) /content/drive/MyDrive/main-project/helmet.mp4: 384x640 6 Helmets, 2 No Helmets, 10.0ms\n",
            "video 1/1 (frame 238/434) /content/drive/MyDrive/main-project/helmet.mp4: 384x640 5 Helmets, 2 No Helmets, 11.1ms\n",
            "video 1/1 (frame 239/434) /content/drive/MyDrive/main-project/helmet.mp4: 384x640 4 Helmets, 1 No Helmet, 11.9ms\n",
            "video 1/1 (frame 240/434) /content/drive/MyDrive/main-project/helmet.mp4: 384x640 4 Helmets, 1 No Helmet, 19.9ms\n",
            "video 1/1 (frame 241/434) /content/drive/MyDrive/main-project/helmet.mp4: 384x640 4 Helmets, 1 No Helmet, 9.2ms\n",
            "video 1/1 (frame 242/434) /content/drive/MyDrive/main-project/helmet.mp4: 384x640 3 Helmets, 1 No Helmet, 14.2ms\n",
            "video 1/1 (frame 243/434) /content/drive/MyDrive/main-project/helmet.mp4: 384x640 4 Helmets, 3 No Helmets, 9.0ms\n",
            "video 1/1 (frame 244/434) /content/drive/MyDrive/main-project/helmet.mp4: 384x640 4 Helmets, 2 No Helmets, 9.6ms\n",
            "video 1/1 (frame 245/434) /content/drive/MyDrive/main-project/helmet.mp4: 384x640 3 Helmets, 1 No Helmet, 13.9ms\n",
            "video 1/1 (frame 246/434) /content/drive/MyDrive/main-project/helmet.mp4: 384x640 2 Helmets, 14.9ms\n",
            "video 1/1 (frame 247/434) /content/drive/MyDrive/main-project/helmet.mp4: 384x640 2 Helmets, 8.8ms\n",
            "video 1/1 (frame 248/434) /content/drive/MyDrive/main-project/helmet.mp4: 384x640 4 Helmets, 2 No Helmets, 9.9ms\n",
            "video 1/1 (frame 249/434) /content/drive/MyDrive/main-project/helmet.mp4: 384x640 3 Helmets, 1 No Helmet, 8.3ms\n",
            "video 1/1 (frame 250/434) /content/drive/MyDrive/main-project/helmet.mp4: 384x640 3 Helmets, 8.2ms\n",
            "video 1/1 (frame 251/434) /content/drive/MyDrive/main-project/helmet.mp4: 384x640 6 Helmets, 2 No Helmets, 9.5ms\n",
            "video 1/1 (frame 252/434) /content/drive/MyDrive/main-project/helmet.mp4: 384x640 2 Helmets, 2 No Helmets, 8.8ms\n",
            "video 1/1 (frame 253/434) /content/drive/MyDrive/main-project/helmet.mp4: 384x640 6 Helmets, 8.5ms\n",
            "video 1/1 (frame 254/434) /content/drive/MyDrive/main-project/helmet.mp4: 384x640 4 Helmets, 10.2ms\n",
            "video 1/1 (frame 255/434) /content/drive/MyDrive/main-project/helmet.mp4: 384x640 3 Helmets, 1 No Helmet, 12.6ms\n",
            "video 1/1 (frame 256/434) /content/drive/MyDrive/main-project/helmet.mp4: 384x640 4 Helmets, 13.3ms\n",
            "video 1/1 (frame 257/434) /content/drive/MyDrive/main-project/helmet.mp4: 384x640 5 Helmets, 1 No Helmet, 12.2ms\n",
            "video 1/1 (frame 258/434) /content/drive/MyDrive/main-project/helmet.mp4: 384x640 6 Helmets, 1 No Helmet, 11.9ms\n",
            "video 1/1 (frame 259/434) /content/drive/MyDrive/main-project/helmet.mp4: 384x640 6 Helmets, 1 No Helmet, 11.2ms\n",
            "video 1/1 (frame 260/434) /content/drive/MyDrive/main-project/helmet.mp4: 384x640 5 Helmets, 11.4ms\n",
            "video 1/1 (frame 261/434) /content/drive/MyDrive/main-project/helmet.mp4: 384x640 5 Helmets, 1 No Helmet, 14.0ms\n",
            "video 1/1 (frame 262/434) /content/drive/MyDrive/main-project/helmet.mp4: 384x640 4 Helmets, 11.7ms\n",
            "video 1/1 (frame 263/434) /content/drive/MyDrive/main-project/helmet.mp4: 384x640 3 Helmets, 11.8ms\n",
            "video 1/1 (frame 264/434) /content/drive/MyDrive/main-project/helmet.mp4: 384x640 6 Helmets, 9.6ms\n",
            "video 1/1 (frame 265/434) /content/drive/MyDrive/main-project/helmet.mp4: 384x640 6 Helmets, 12.8ms\n",
            "video 1/1 (frame 266/434) /content/drive/MyDrive/main-project/helmet.mp4: 384x640 5 Helmets, 9.9ms\n",
            "video 1/1 (frame 267/434) /content/drive/MyDrive/main-project/helmet.mp4: 384x640 7 Helmets, 11.6ms\n",
            "video 1/1 (frame 268/434) /content/drive/MyDrive/main-project/helmet.mp4: 384x640 6 Helmets, 15.2ms\n",
            "video 1/1 (frame 269/434) /content/drive/MyDrive/main-project/helmet.mp4: 384x640 6 Helmets, 2 No Helmets, 15.7ms\n",
            "video 1/1 (frame 270/434) /content/drive/MyDrive/main-project/helmet.mp4: 384x640 7 Helmets, 9.4ms\n",
            "video 1/1 (frame 271/434) /content/drive/MyDrive/main-project/helmet.mp4: 384x640 7 Helmets, 1 No Helmet, 9.4ms\n",
            "video 1/1 (frame 272/434) /content/drive/MyDrive/main-project/helmet.mp4: 384x640 6 Helmets, 1 No Helmet, 18.6ms\n",
            "video 1/1 (frame 273/434) /content/drive/MyDrive/main-project/helmet.mp4: 384x640 6 Helmets, 1 No Helmet, 9.9ms\n",
            "video 1/1 (frame 274/434) /content/drive/MyDrive/main-project/helmet.mp4: 384x640 9 Helmets, 1 No Helmet, 11.2ms\n",
            "video 1/1 (frame 275/434) /content/drive/MyDrive/main-project/helmet.mp4: 384x640 6 Helmets, 1 No Helmet, 10.6ms\n",
            "video 1/1 (frame 276/434) /content/drive/MyDrive/main-project/helmet.mp4: 384x640 7 Helmets, 9.6ms\n",
            "video 1/1 (frame 277/434) /content/drive/MyDrive/main-project/helmet.mp4: 384x640 8 Helmets, 14.5ms\n",
            "video 1/1 (frame 278/434) /content/drive/MyDrive/main-project/helmet.mp4: 384x640 6 Helmets, 1 No Helmet, 9.8ms\n",
            "video 1/1 (frame 279/434) /content/drive/MyDrive/main-project/helmet.mp4: 384x640 7 Helmets, 16.7ms\n",
            "video 1/1 (frame 280/434) /content/drive/MyDrive/main-project/helmet.mp4: 384x640 6 Helmets, 9.9ms\n",
            "video 1/1 (frame 281/434) /content/drive/MyDrive/main-project/helmet.mp4: 384x640 7 Helmets, 9.6ms\n",
            "video 1/1 (frame 282/434) /content/drive/MyDrive/main-project/helmet.mp4: 384x640 6 Helmets, 21.2ms\n",
            "video 1/1 (frame 283/434) /content/drive/MyDrive/main-project/helmet.mp4: 384x640 6 Helmets, 9.8ms\n",
            "video 1/1 (frame 284/434) /content/drive/MyDrive/main-project/helmet.mp4: 384x640 6 Helmets, 14.4ms\n",
            "video 1/1 (frame 285/434) /content/drive/MyDrive/main-project/helmet.mp4: 384x640 7 Helmets, 30.1ms\n",
            "video 1/1 (frame 286/434) /content/drive/MyDrive/main-project/helmet.mp4: 384x640 6 Helmets, 18.7ms\n",
            "video 1/1 (frame 287/434) /content/drive/MyDrive/main-project/helmet.mp4: 384x640 6 Helmets, 41.1ms\n",
            "video 1/1 (frame 288/434) /content/drive/MyDrive/main-project/helmet.mp4: 384x640 5 Helmets, 1 No Helmet, 42.9ms\n",
            "video 1/1 (frame 289/434) /content/drive/MyDrive/main-project/helmet.mp4: 384x640 5 Helmets, 1 No Helmet, 17.6ms\n",
            "video 1/1 (frame 290/434) /content/drive/MyDrive/main-project/helmet.mp4: 384x640 6 Helmets, 1 No Helmet, 11.2ms\n",
            "video 1/1 (frame 291/434) /content/drive/MyDrive/main-project/helmet.mp4: 384x640 6 Helmets, 1 No Helmet, 10.4ms\n",
            "video 1/1 (frame 292/434) /content/drive/MyDrive/main-project/helmet.mp4: 384x640 5 Helmets, 1 No Helmet, 10.0ms\n",
            "video 1/1 (frame 293/434) /content/drive/MyDrive/main-project/helmet.mp4: 384x640 6 Helmets, 2 No Helmets, 15.8ms\n",
            "video 1/1 (frame 294/434) /content/drive/MyDrive/main-project/helmet.mp4: 384x640 8 Helmets, 2 No Helmets, 10.2ms\n",
            "video 1/1 (frame 295/434) /content/drive/MyDrive/main-project/helmet.mp4: 384x640 6 Helmets, 26.1ms\n",
            "video 1/1 (frame 296/434) /content/drive/MyDrive/main-project/helmet.mp4: 384x640 5 Helmets, 11.2ms\n",
            "video 1/1 (frame 297/434) /content/drive/MyDrive/main-project/helmet.mp4: 384x640 4 Helmets, 9.9ms\n",
            "video 1/1 (frame 298/434) /content/drive/MyDrive/main-project/helmet.mp4: 384x640 6 Helmets, 1 No Helmet, 9.7ms\n",
            "video 1/1 (frame 299/434) /content/drive/MyDrive/main-project/helmet.mp4: 384x640 5 Helmets, 1 No Helmet, 10.2ms\n",
            "video 1/1 (frame 300/434) /content/drive/MyDrive/main-project/helmet.mp4: 384x640 4 Helmets, 1 No Helmet, 10.1ms\n",
            "video 1/1 (frame 301/434) /content/drive/MyDrive/main-project/helmet.mp4: 384x640 5 Helmets, 15.1ms\n",
            "video 1/1 (frame 302/434) /content/drive/MyDrive/main-project/helmet.mp4: 384x640 6 Helmets, 1 No Helmet, 10.2ms\n",
            "video 1/1 (frame 303/434) /content/drive/MyDrive/main-project/helmet.mp4: 384x640 5 Helmets, 16.6ms\n",
            "video 1/1 (frame 304/434) /content/drive/MyDrive/main-project/helmet.mp4: 384x640 4 Helmets, 1 No Helmet, 43.6ms\n",
            "video 1/1 (frame 305/434) /content/drive/MyDrive/main-project/helmet.mp4: 384x640 4 Helmets, 50.0ms\n",
            "video 1/1 (frame 306/434) /content/drive/MyDrive/main-project/helmet.mp4: 384x640 4 Helmets, 51.1ms\n",
            "video 1/1 (frame 307/434) /content/drive/MyDrive/main-project/helmet.mp4: 384x640 8 Helmets, 1 No Helmet, 58.0ms\n",
            "video 1/1 (frame 308/434) /content/drive/MyDrive/main-project/helmet.mp4: 384x640 4 Helmets, 64.9ms\n",
            "video 1/1 (frame 309/434) /content/drive/MyDrive/main-project/helmet.mp4: 384x640 3 Helmets, 11.2ms\n",
            "video 1/1 (frame 310/434) /content/drive/MyDrive/main-project/helmet.mp4: 384x640 2 Helmets, 6.8ms\n",
            "video 1/1 (frame 311/434) /content/drive/MyDrive/main-project/helmet.mp4: 384x640 5 Helmets, 14.6ms\n",
            "video 1/1 (frame 312/434) /content/drive/MyDrive/main-project/helmet.mp4: 384x640 5 Helmets, 10.1ms\n",
            "video 1/1 (frame 313/434) /content/drive/MyDrive/main-project/helmet.mp4: 384x640 5 Helmets, 7.7ms\n",
            "video 1/1 (frame 314/434) /content/drive/MyDrive/main-project/helmet.mp4: 384x640 5 Helmets, 9.7ms\n",
            "video 1/1 (frame 315/434) /content/drive/MyDrive/main-project/helmet.mp4: 384x640 5 Helmets, 1 No Helmet, 7.5ms\n",
            "video 1/1 (frame 316/434) /content/drive/MyDrive/main-project/helmet.mp4: 384x640 5 Helmets, 16.0ms\n",
            "video 1/1 (frame 317/434) /content/drive/MyDrive/main-project/helmet.mp4: 384x640 6 Helmets, 7.7ms\n",
            "video 1/1 (frame 318/434) /content/drive/MyDrive/main-project/helmet.mp4: 384x640 5 Helmets, 10.2ms\n",
            "video 1/1 (frame 319/434) /content/drive/MyDrive/main-project/helmet.mp4: 384x640 5 Helmets, 6.7ms\n",
            "video 1/1 (frame 320/434) /content/drive/MyDrive/main-project/helmet.mp4: 384x640 5 Helmets, 11.3ms\n",
            "video 1/1 (frame 321/434) /content/drive/MyDrive/main-project/helmet.mp4: 384x640 5 Helmets, 1 No Helmet, 8.2ms\n",
            "video 1/1 (frame 322/434) /content/drive/MyDrive/main-project/helmet.mp4: 384x640 6 Helmets, 1 No Helmet, 7.3ms\n",
            "video 1/1 (frame 323/434) /content/drive/MyDrive/main-project/helmet.mp4: 384x640 4 Helmets, 30.1ms\n",
            "video 1/1 (frame 324/434) /content/drive/MyDrive/main-project/helmet.mp4: 384x640 4 Helmets, 1 No Helmet, 10.0ms\n",
            "video 1/1 (frame 325/434) /content/drive/MyDrive/main-project/helmet.mp4: 384x640 4 Helmets, 1 No Helmet, 9.6ms\n",
            "video 1/1 (frame 326/434) /content/drive/MyDrive/main-project/helmet.mp4: 384x640 4 Helmets, 2 No Helmets, 7.6ms\n",
            "video 1/1 (frame 327/434) /content/drive/MyDrive/main-project/helmet.mp4: 384x640 4 Helmets, 1 No Helmet, 10.0ms\n",
            "video 1/1 (frame 328/434) /content/drive/MyDrive/main-project/helmet.mp4: 384x640 5 Helmets, 1 No Helmet, 8.0ms\n",
            "video 1/1 (frame 329/434) /content/drive/MyDrive/main-project/helmet.mp4: 384x640 3 Helmets, 9.8ms\n",
            "video 1/1 (frame 330/434) /content/drive/MyDrive/main-project/helmet.mp4: 384x640 4 Helmets, 6.8ms\n",
            "video 1/1 (frame 331/434) /content/drive/MyDrive/main-project/helmet.mp4: 384x640 3 Helmets, 1 No Helmet, 11.0ms\n",
            "video 1/1 (frame 332/434) /content/drive/MyDrive/main-project/helmet.mp4: 384x640 3 Helmets, 8.5ms\n",
            "video 1/1 (frame 333/434) /content/drive/MyDrive/main-project/helmet.mp4: 384x640 3 Helmets, 10.5ms\n",
            "video 1/1 (frame 334/434) /content/drive/MyDrive/main-project/helmet.mp4: 384x640 5 Helmets, 7.5ms\n",
            "video 1/1 (frame 335/434) /content/drive/MyDrive/main-project/helmet.mp4: 384x640 4 Helmets, 1 No Helmet, 10.9ms\n",
            "video 1/1 (frame 336/434) /content/drive/MyDrive/main-project/helmet.mp4: 384x640 3 Helmets, 8.4ms\n",
            "video 1/1 (frame 337/434) /content/drive/MyDrive/main-project/helmet.mp4: 384x640 4 Helmets, 8.6ms\n",
            "video 1/1 (frame 338/434) /content/drive/MyDrive/main-project/helmet.mp4: 384x640 3 Helmets, 7.4ms\n",
            "video 1/1 (frame 339/434) /content/drive/MyDrive/main-project/helmet.mp4: 384x640 4 Helmets, 9.5ms\n",
            "video 1/1 (frame 340/434) /content/drive/MyDrive/main-project/helmet.mp4: 384x640 5 Helmets, 11.0ms\n",
            "video 1/1 (frame 341/434) /content/drive/MyDrive/main-project/helmet.mp4: 384x640 3 Helmets, 1 No Helmet, 9.7ms\n",
            "video 1/1 (frame 342/434) /content/drive/MyDrive/main-project/helmet.mp4: 384x640 4 Helmets, 22.6ms\n",
            "video 1/1 (frame 343/434) /content/drive/MyDrive/main-project/helmet.mp4: 384x640 3 Helmets, 1 No Helmet, 69.6ms\n",
            "video 1/1 (frame 344/434) /content/drive/MyDrive/main-project/helmet.mp4: 384x640 4 Helmets, 28.6ms\n",
            "video 1/1 (frame 345/434) /content/drive/MyDrive/main-project/helmet.mp4: 384x640 3 Helmets, 57.8ms\n",
            "video 1/1 (frame 346/434) /content/drive/MyDrive/main-project/helmet.mp4: 384x640 3 Helmets, 1 No Helmet, 7.5ms\n",
            "video 1/1 (frame 347/434) /content/drive/MyDrive/main-project/helmet.mp4: 384x640 3 Helmets, 9.8ms\n",
            "video 1/1 (frame 348/434) /content/drive/MyDrive/main-project/helmet.mp4: 384x640 3 Helmets, 6.6ms\n",
            "video 1/1 (frame 349/434) /content/drive/MyDrive/main-project/helmet.mp4: 384x640 4 Helmets, 9.8ms\n",
            "video 1/1 (frame 350/434) /content/drive/MyDrive/main-project/helmet.mp4: 384x640 2 Helmets, 1 No Helmet, 7.2ms\n",
            "video 1/1 (frame 351/434) /content/drive/MyDrive/main-project/helmet.mp4: 384x640 2 Helmets, 2 No Helmets, 8.8ms\n",
            "video 1/1 (frame 352/434) /content/drive/MyDrive/main-project/helmet.mp4: 384x640 2 Helmets, 2 No Helmets, 15.7ms\n",
            "video 1/1 (frame 353/434) /content/drive/MyDrive/main-project/helmet.mp4: 384x640 3 Helmets, 7.6ms\n",
            "video 1/1 (frame 354/434) /content/drive/MyDrive/main-project/helmet.mp4: 384x640 3 Helmets, 1 No Helmet, 10.8ms\n",
            "video 1/1 (frame 355/434) /content/drive/MyDrive/main-project/helmet.mp4: 384x640 3 Helmets, 1 No Helmet, 15.4ms\n",
            "video 1/1 (frame 356/434) /content/drive/MyDrive/main-project/helmet.mp4: 384x640 3 Helmets, 1 No Helmet, 7.8ms\n",
            "video 1/1 (frame 357/434) /content/drive/MyDrive/main-project/helmet.mp4: 384x640 3 Helmets, 1 No Helmet, 9.4ms\n",
            "video 1/1 (frame 358/434) /content/drive/MyDrive/main-project/helmet.mp4: 384x640 3 Helmets, 1 No Helmet, 6.9ms\n",
            "video 1/1 (frame 359/434) /content/drive/MyDrive/main-project/helmet.mp4: 384x640 3 Helmets, 8.0ms\n",
            "video 1/1 (frame 360/434) /content/drive/MyDrive/main-project/helmet.mp4: 384x640 3 Helmets, 7.0ms\n",
            "video 1/1 (frame 361/434) /content/drive/MyDrive/main-project/helmet.mp4: 384x640 3 Helmets, 1 No Helmet, 6.9ms\n",
            "video 1/1 (frame 362/434) /content/drive/MyDrive/main-project/helmet.mp4: 384x640 3 Helmets, 1 No Helmet, 7.2ms\n",
            "video 1/1 (frame 363/434) /content/drive/MyDrive/main-project/helmet.mp4: 384x640 3 Helmets, 10.1ms\n",
            "video 1/1 (frame 364/434) /content/drive/MyDrive/main-project/helmet.mp4: 384x640 4 Helmets, 7.5ms\n",
            "video 1/1 (frame 365/434) /content/drive/MyDrive/main-project/helmet.mp4: 384x640 4 Helmets, 7.6ms\n",
            "video 1/1 (frame 366/434) /content/drive/MyDrive/main-project/helmet.mp4: 384x640 4 Helmets, 9.5ms\n",
            "video 1/1 (frame 367/434) /content/drive/MyDrive/main-project/helmet.mp4: 384x640 3 Helmets, 1 No Helmet, 9.5ms\n",
            "video 1/1 (frame 368/434) /content/drive/MyDrive/main-project/helmet.mp4: 384x640 4 Helmets, 2 No Helmets, 9.9ms\n",
            "video 1/1 (frame 369/434) /content/drive/MyDrive/main-project/helmet.mp4: 384x640 5 Helmets, 2 No Helmets, 10.4ms\n",
            "video 1/1 (frame 370/434) /content/drive/MyDrive/main-project/helmet.mp4: 384x640 6 Helmets, 1 No Helmet, 7.9ms\n",
            "video 1/1 (frame 371/434) /content/drive/MyDrive/main-project/helmet.mp4: 384x640 3 Helmets, 1 No Helmet, 8.2ms\n",
            "video 1/1 (frame 372/434) /content/drive/MyDrive/main-project/helmet.mp4: 384x640 4 Helmets, 9.9ms\n",
            "video 1/1 (frame 373/434) /content/drive/MyDrive/main-project/helmet.mp4: 384x640 3 Helmets, 1 No Helmet, 10.1ms\n",
            "video 1/1 (frame 374/434) /content/drive/MyDrive/main-project/helmet.mp4: 384x640 4 Helmets, 7.3ms\n",
            "video 1/1 (frame 375/434) /content/drive/MyDrive/main-project/helmet.mp4: 384x640 4 Helmets, 8.6ms\n",
            "video 1/1 (frame 376/434) /content/drive/MyDrive/main-project/helmet.mp4: 384x640 4 Helmets, 8.0ms\n",
            "video 1/1 (frame 377/434) /content/drive/MyDrive/main-project/helmet.mp4: 384x640 4 Helmets, 7.8ms\n",
            "video 1/1 (frame 378/434) /content/drive/MyDrive/main-project/helmet.mp4: 384x640 5 Helmets, 8.3ms\n",
            "video 1/1 (frame 379/434) /content/drive/MyDrive/main-project/helmet.mp4: 384x640 4 Helmets, 1 No Helmet, 8.5ms\n",
            "video 1/1 (frame 380/434) /content/drive/MyDrive/main-project/helmet.mp4: 384x640 4 Helmets, 1 No Helmet, 10.4ms\n",
            "video 1/1 (frame 381/434) /content/drive/MyDrive/main-project/helmet.mp4: 384x640 3 Helmets, 1 No Helmet, 7.2ms\n",
            "video 1/1 (frame 382/434) /content/drive/MyDrive/main-project/helmet.mp4: 384x640 4 Helmets, 1 No Helmet, 7.2ms\n",
            "video 1/1 (frame 383/434) /content/drive/MyDrive/main-project/helmet.mp4: 384x640 4 Helmets, 10.2ms\n",
            "video 1/1 (frame 384/434) /content/drive/MyDrive/main-project/helmet.mp4: 384x640 4 Helmets, 7.7ms\n",
            "video 1/1 (frame 385/434) /content/drive/MyDrive/main-project/helmet.mp4: 384x640 4 Helmets, 10.1ms\n",
            "video 1/1 (frame 386/434) /content/drive/MyDrive/main-project/helmet.mp4: 384x640 3 Helmets, 7.2ms\n",
            "video 1/1 (frame 387/434) /content/drive/MyDrive/main-project/helmet.mp4: 384x640 5 Helmets, 15.0ms\n",
            "video 1/1 (frame 388/434) /content/drive/MyDrive/main-project/helmet.mp4: 384x640 4 Helmets, 1 No Helmet, 12.1ms\n",
            "video 1/1 (frame 389/434) /content/drive/MyDrive/main-project/helmet.mp4: 384x640 3 Helmets, 1 No Helmet, 7.2ms\n",
            "video 1/1 (frame 390/434) /content/drive/MyDrive/main-project/helmet.mp4: 384x640 3 Helmets, 1 No Helmet, 7.3ms\n",
            "video 1/1 (frame 391/434) /content/drive/MyDrive/main-project/helmet.mp4: 384x640 4 Helmets, 1 No Helmet, 8.1ms\n",
            "video 1/1 (frame 392/434) /content/drive/MyDrive/main-project/helmet.mp4: 384x640 3 Helmets, 1 No Helmet, 8.5ms\n",
            "video 1/1 (frame 393/434) /content/drive/MyDrive/main-project/helmet.mp4: 384x640 4 Helmets, 7.6ms\n",
            "video 1/1 (frame 394/434) /content/drive/MyDrive/main-project/helmet.mp4: 384x640 4 Helmets, 8.2ms\n",
            "video 1/1 (frame 395/434) /content/drive/MyDrive/main-project/helmet.mp4: 384x640 3 Helmets, 8.3ms\n",
            "video 1/1 (frame 396/434) /content/drive/MyDrive/main-project/helmet.mp4: 384x640 3 Helmets, 7.1ms\n",
            "video 1/1 (frame 397/434) /content/drive/MyDrive/main-project/helmet.mp4: 384x640 4 Helmets, 7.4ms\n",
            "video 1/1 (frame 398/434) /content/drive/MyDrive/main-project/helmet.mp4: 384x640 4 Helmets, 7.8ms\n",
            "video 1/1 (frame 399/434) /content/drive/MyDrive/main-project/helmet.mp4: 384x640 4 Helmets, 1 No Helmet, 7.8ms\n",
            "video 1/1 (frame 400/434) /content/drive/MyDrive/main-project/helmet.mp4: 384x640 4 Helmets, 1 No Helmet, 7.7ms\n",
            "video 1/1 (frame 401/434) /content/drive/MyDrive/main-project/helmet.mp4: 384x640 3 Helmets, 1 No Helmet, 7.0ms\n",
            "video 1/1 (frame 402/434) /content/drive/MyDrive/main-project/helmet.mp4: 384x640 3 Helmets, 1 No Helmet, 10.9ms\n",
            "video 1/1 (frame 403/434) /content/drive/MyDrive/main-project/helmet.mp4: 384x640 2 Helmets, 2 No Helmets, 7.7ms\n",
            "video 1/1 (frame 404/434) /content/drive/MyDrive/main-project/helmet.mp4: 384x640 4 Helmets, 14.6ms\n",
            "video 1/1 (frame 405/434) /content/drive/MyDrive/main-project/helmet.mp4: 384x640 3 Helmets, 1 No Helmet, 9.2ms\n",
            "video 1/1 (frame 406/434) /content/drive/MyDrive/main-project/helmet.mp4: 384x640 3 Helmets, 1 No Helmet, 9.7ms\n",
            "video 1/1 (frame 407/434) /content/drive/MyDrive/main-project/helmet.mp4: 384x640 3 Helmets, 1 No Helmet, 6.7ms\n",
            "video 1/1 (frame 408/434) /content/drive/MyDrive/main-project/helmet.mp4: 384x640 4 Helmets, 1 No Helmet, 12.8ms\n",
            "video 1/1 (frame 409/434) /content/drive/MyDrive/main-project/helmet.mp4: 384x640 3 Helmets, 1 No Helmet, 9.4ms\n",
            "video 1/1 (frame 410/434) /content/drive/MyDrive/main-project/helmet.mp4: 384x640 3 Helmets, 1 No Helmet, 9.8ms\n",
            "video 1/1 (frame 411/434) /content/drive/MyDrive/main-project/helmet.mp4: 384x640 3 Helmets, 15.1ms\n",
            "video 1/1 (frame 412/434) /content/drive/MyDrive/main-project/helmet.mp4: 384x640 3 Helmets, 10.4ms\n",
            "video 1/1 (frame 413/434) /content/drive/MyDrive/main-project/helmet.mp4: 384x640 4 Helmets, 1 No Helmet, 9.0ms\n",
            "video 1/1 (frame 414/434) /content/drive/MyDrive/main-project/helmet.mp4: 384x640 3 Helmets, 1 No Helmet, 7.4ms\n",
            "video 1/1 (frame 415/434) /content/drive/MyDrive/main-project/helmet.mp4: 384x640 4 Helmets, 7.0ms\n",
            "video 1/1 (frame 416/434) /content/drive/MyDrive/main-project/helmet.mp4: 384x640 3 Helmets, 7.4ms\n",
            "video 1/1 (frame 417/434) /content/drive/MyDrive/main-project/helmet.mp4: 384x640 3 Helmets, 1 No Helmet, 7.4ms\n",
            "video 1/1 (frame 418/434) /content/drive/MyDrive/main-project/helmet.mp4: 384x640 2 Helmets, 1 No Helmet, 7.8ms\n",
            "video 1/1 (frame 419/434) /content/drive/MyDrive/main-project/helmet.mp4: 384x640 1 Helmet, 1 No Helmet, 12.9ms\n",
            "video 1/1 (frame 420/434) /content/drive/MyDrive/main-project/helmet.mp4: 384x640 3 Helmets, 11.2ms\n",
            "video 1/1 (frame 421/434) /content/drive/MyDrive/main-project/helmet.mp4: 384x640 4 Helmets, 6.9ms\n",
            "video 1/1 (frame 422/434) /content/drive/MyDrive/main-project/helmet.mp4: 384x640 5 Helmets, 8.8ms\n",
            "video 1/1 (frame 423/434) /content/drive/MyDrive/main-project/helmet.mp4: 384x640 6 Helmets, 16.8ms\n",
            "video 1/1 (frame 424/434) /content/drive/MyDrive/main-project/helmet.mp4: 384x640 3 Helmets, 8.0ms\n",
            "video 1/1 (frame 425/434) /content/drive/MyDrive/main-project/helmet.mp4: 384x640 2 Helmets, 9.3ms\n",
            "video 1/1 (frame 426/434) /content/drive/MyDrive/main-project/helmet.mp4: 384x640 3 Helmets, 7.5ms\n",
            "video 1/1 (frame 427/434) /content/drive/MyDrive/main-project/helmet.mp4: 384x640 3 Helmets, 9.6ms\n",
            "video 1/1 (frame 428/434) /content/drive/MyDrive/main-project/helmet.mp4: 384x640 3 Helmets, 1 No Helmet, 7.3ms\n",
            "video 1/1 (frame 429/434) /content/drive/MyDrive/main-project/helmet.mp4: 384x640 2 Helmets, 12.2ms\n",
            "video 1/1 (frame 430/434) /content/drive/MyDrive/main-project/helmet.mp4: 384x640 2 Helmets, 8.1ms\n",
            "video 1/1 (frame 431/434) /content/drive/MyDrive/main-project/helmet.mp4: 384x640 4 Helmets, 9.3ms\n",
            "video 1/1 (frame 432/434) /content/drive/MyDrive/main-project/helmet.mp4: 384x640 2 Helmets, 1 No Helmet, 15.0ms\n",
            "video 1/1 (frame 433/434) /content/drive/MyDrive/main-project/helmet.mp4: 384x640 2 Helmets, 6.8ms\n",
            "video 1/1 (frame 434/434) /content/drive/MyDrive/main-project/helmet.mp4: 384x640 4 Helmets, 6.8ms\n",
            "Speed: 4.3ms preprocess, 12.1ms inference, 2.1ms postprocess per image at shape (1, 3, 384, 640)\n",
            "Results saved to \u001b[1mruns/detect/predict\u001b[0m\n"
          ]
        }
      ],
      "source": [
        "from ultralytics import YOLO\n",
        "model = YOLO(\"/content/drive/MyDrive/main-project/helmet-verification-using-yolo-v8-main/helmet.pt\")\n",
        "results = model(\"/content/drive/MyDrive/main-project/helmet.mp4\", save=True, show=True)"
      ]
    },
    {
      "cell_type": "markdown",
      "metadata": {
        "id": "sbJFhigAn0sq"
      },
      "source": [
        "# Accuracy test"
      ]
    },
    {
      "cell_type": "code",
      "execution_count": null,
      "metadata": {
        "colab": {
          "base_uri": "https://localhost:8080/"
        },
        "id": "8IcTqFMzieL_",
        "outputId": "f5ad944a-a934-4c17-9107-f363cacc15ea"
      },
      "outputs": [
        {
          "name": "stdout",
          "output_type": "stream",
          "text": [
            "Precision: 1.00\n",
            "Recall: 1.00\n",
            "F1 Score: 1.00\n"
          ]
        }
      ],
      "source": [
        "from sklearn.metrics import precision_score, recall_score, f1_score\n",
        "\n",
        "# Example ground truth data and model predictions\n",
        "# Format: List of dictionaries with class names and bounding boxes in xyxy format\n",
        "# E.g., {'class': 'rider', 'bbox': [xmin, ymin, xmax, ymax]}\n",
        "ground_truth = [\n",
        "    [{'class': 'rider', 'bbox': [50, 50, 100, 150]}, {'class': 'number plate', 'bbox': [150, 50, 200, 80]}],\n",
        "    # Add more ground truth entries for each image\n",
        "]\n",
        "\n",
        "model_predictions = [\n",
        "    [{'class': 'rider', 'bbox': [52, 53, 98, 149]}, {'class': 'number plate', 'bbox': [149, 48, 201, 78]}],\n",
        "    # Add model predictions for each image\n",
        "]\n",
        "\n",
        "# Function to calculate IoU (Intersection over Union)\n",
        "def calculate_iou(box1, box2):\n",
        "    x1, y1, x2, y2 = box1\n",
        "    x1_p, y1_p, x2_p, y2_p = box2\n",
        "\n",
        "    # Intersection coordinates\n",
        "    xi1, yi1 = max(x1, x1_p), max(y1, y1_p)\n",
        "    xi2, yi2 = min(x2, x2_p), min(y2, y2_p)\n",
        "    intersection = max(0, xi2 - xi1) * max(0, yi2 - yi1)\n",
        "\n",
        "    # Area of both boxes\n",
        "    box1_area = (x2 - x1) * (y2 - y1)\n",
        "    box2_area = (x2_p - x1_p) * (y2_p - y1_p)\n",
        "\n",
        "    # Union\n",
        "    union = box1_area + box2_area - intersection\n",
        "\n",
        "    return intersection / union if union > 0 else 0\n",
        "\n",
        "# Setting an IoU threshold for a correct detection\n",
        "iou_threshold = 0.5\n",
        "\n",
        "# Lists to hold evaluation results\n",
        "true_positives, false_positives, false_negatives = [], [], []\n",
        "\n",
        "# Compare predictions with ground truth\n",
        "for gt, preds in zip(ground_truth, model_predictions):\n",
        "    matched_preds = set()\n",
        "    for gt_obj in gt:\n",
        "        match_found = False\n",
        "        for i, pred_obj in enumerate(preds):\n",
        "            if pred_obj['class'] == gt_obj['class'] and i not in matched_preds:\n",
        "                iou = calculate_iou(gt_obj['bbox'], pred_obj['bbox'])\n",
        "                if iou >= iou_threshold:\n",
        "                    true_positives.append(1)\n",
        "                    matched_preds.add(i)\n",
        "                    match_found = True\n",
        "                    break\n",
        "        if not match_found:\n",
        "            false_negatives.append(1)\n",
        "    # Mark remaining predictions as false positives\n",
        "    false_positives.extend([1 for i in range(len(preds)) if i not in matched_preds])\n",
        "\n",
        "# Calculate precision, recall, and F1-score\n",
        "precision = precision_score([1] * len(true_positives) + [0] * len(false_positives), true_positives + false_positives)\n",
        "recall = recall_score([1] * len(true_positives) + [0] * len(false_negatives), true_positives + false_negatives)\n",
        "f1 = f1_score([1] * len(true_positives) + [0] * (len(false_positives) + len(false_negatives)), true_positives + false_positives + false_negatives)\n",
        "\n",
        "print(f\"Precision: {precision:.2f}\")\n",
        "print(f\"Recall: {recall:.2f}\")\n",
        "print(f\"F1 Score: {f1:.2f}\")\n"
      ]
    },
    {
      "cell_type": "code",
      "execution_count": null,
      "metadata": {
        "colab": {
          "base_uri": "https://localhost:8080/"
        },
        "id": "3hMnLVciopOm",
        "outputId": "fbf9f63c-8116-4963-9c62-b655ce3e848a"
      },
      "outputs": [
        {
          "name": "stdout",
          "output_type": "stream",
          "text": [
            "Accuracy: 100.00%\n"
          ]
        }
      ],
      "source": [
        "# Assuming `true_positives`, `false_positives`, and `false_negatives` are lists containing 1s as calculated above\n",
        "\n",
        "# Calculate accuracy percentage\n",
        "total_detections = len(true_positives) + len(false_positives) + len(false_negatives)\n",
        "accuracy_percentage = (len(true_positives) / total_detections) * 100 if total_detections > 0 else 0\n",
        "print(f\"Accuracy: {accuracy_percentage:.2f}%\")\n"
      ]
    },
    {
      "cell_type": "code",
      "execution_count": null,
      "metadata": {
        "colab": {
          "base_uri": "https://localhost:8080/"
        },
        "id": "aKEmO2GTpDE5",
        "outputId": "64de8917-e807-454f-c555-8b0936e5c6d0"
      },
      "outputs": [
        {
          "name": "stdout",
          "output_type": "stream",
          "text": [
            "Type your corresponding choice for taking your input (i.e. 'image', 'video', 'camera')\n",
            "Type here: image\n",
            "\n",
            "image 1/1 /content/hel4.jpg: 416x640 2 Helmets, 262.4ms\n",
            "Speed: 5.8ms preprocess, 262.4ms inference, 3.9ms postprocess per image at shape (1, 3, 416, 640)\n",
            "Results saved to \u001b[1mruns/detect/predict3\u001b[0m\n",
            "Accuracy: 0.00%\n",
            "Processing complete.\n"
          ]
        }
      ],
      "source": [
        "from ultralytics import YOLO\n",
        "\n",
        "# Load your custom YOLOv8 model (ensure the path is correct)\n",
        "model = YOLO('/content/yolo11n.pt')  # Change to your custom-trained model path\n",
        "\n",
        "# Take user input\n",
        "print(\"Type your corresponding choice for taking your input (i.e. 'image', 'video', 'camera')\")\n",
        "input_choice = input(\"Type here: \")\n",
        "\n",
        "# Set source based on user input\n",
        "if input_choice == \"image\":\n",
        "    source = '/content/hel4.jpg'  # Change this to your image path\n",
        "elif input_choice == \"video\":\n",
        "    source = '/content/drive/MyDrive/Datasets_SOC-III/project-helmet and number plate detection/path_to_your_video.mp4'  # Change this to your video path\n",
        "elif input_choice == \"camera\":\n",
        "    source = 0  # Webcam input\n",
        "else:\n",
        "    print(\"Invalid input choice!\")\n",
        "    source = None\n",
        "\n",
        "# Initialize counters for accuracy calculation\n",
        "true_positives = 0\n",
        "false_positives = 0\n",
        "false_negatives = 0\n",
        "\n",
        "if source is not None:\n",
        "    # Run the detection model\n",
        "    results = model.predict(source=source, save=True, conf=0.5)\n",
        "\n",
        "    # Loop through the results to find relevant detections\n",
        "    for result in results:\n",
        "        detected_classes = result.names\n",
        "        helmets_detected = 0  # Counter for helmets associated with riders\n",
        "\n",
        "        for box in result.boxes:\n",
        "            class_id = int(box.cls)\n",
        "            class_name = detected_classes[class_id]\n",
        "\n",
        "            if class_name == 'rider':\n",
        "                helmet_detected = False\n",
        "                for other_box in result.boxes:\n",
        "                    other_class_id = int(other_box.cls)\n",
        "                    other_class_name = detected_classes[other_class_id]\n",
        "\n",
        "                    # Check if a helmet is detected on the same rider\n",
        "                    if other_class_name == 'with helmet':\n",
        "                        helmet_detected = True\n",
        "                        helmets_detected += 1\n",
        "                        break\n",
        "\n",
        "                # Update true positives and false negatives based on helmet detection\n",
        "                if helmet_detected:\n",
        "                    true_positives += 1\n",
        "                else:\n",
        "                    false_negatives += 1\n",
        "                    print(\"Rider detected without helmet.\")\n",
        "\n",
        "                    # Check for vehicle and number plate for this rider\n",
        "                    for plate_box in result.boxes:\n",
        "                        plate_class_id = int(plate_box.cls)\n",
        "                        plate_class_name = detected_classes[plate_class_id]\n",
        "                        if plate_class_name == 'number plate':\n",
        "                            print(\"License plate detected:\", plate_box.xyxy)  # Optionally, add OCR here\n",
        "\n",
        "            # For all other detected classes not associated with riders, count as false positives\n",
        "            else:\n",
        "                if class_name not in ['rider', 'with helmet', 'number plate']:\n",
        "                    false_positives += 1\n",
        "\n",
        "        # Save the processed results (image/video with detected boxes)\n",
        "        result.save()\n",
        "\n",
        "    # Calculate accuracy\n",
        "    total_detections = true_positives + false_positives + false_negatives\n",
        "    accuracy_percentage = (true_positives / total_detections) * 100 if total_detections > 0 else 0\n",
        "    print(f\"Accuracy: {accuracy_percentage:.2f}%\")\n",
        "\n",
        "print(\"Processing complete.\")\n"
      ]
    },
    {
      "cell_type": "code",
      "execution_count": null,
      "metadata": {
        "id": "N2tZbFw7uTTt",
        "colab": {
          "base_uri": "https://localhost:8080/",
          "height": 408
        },
        "outputId": "a7e2b302-5f63-4ac9-c37c-7b028942f950"
      },
      "outputs": [
        {
          "output_type": "stream",
          "name": "stdout",
          "text": [
            "Ultralytics 8.3.27 🚀 Python-3.10.12 torch-2.5.0+cu121 CUDA:0 (Tesla T4, 15102MiB)\n",
            "Model summary (fused): 168 layers, 3,006,038 parameters, 0 gradients, 8.1 GFLOPs\n"
          ]
        },
        {
          "output_type": "error",
          "ename": "FileNotFoundError",
          "evalue": "'data.yaml' does not exist",
          "traceback": [
            "\u001b[0;31m---------------------------------------------------------------------------\u001b[0m",
            "\u001b[0;31mFileNotFoundError\u001b[0m                         Traceback (most recent call last)",
            "\u001b[0;32m<ipython-input-5-86288f56e5e8>\u001b[0m in \u001b[0;36m<cell line: 1>\u001b[0;34m()\u001b[0m\n\u001b[0;32m----> 1\u001b[0;31m \u001b[0mmetrics\u001b[0m \u001b[0;34m=\u001b[0m \u001b[0mmodel\u001b[0m\u001b[0;34m.\u001b[0m\u001b[0mval\u001b[0m\u001b[0;34m(\u001b[0m\u001b[0;34m)\u001b[0m\u001b[0;34m\u001b[0m\u001b[0;34m\u001b[0m\u001b[0m\n\u001b[0m\u001b[1;32m      2\u001b[0m \u001b[0mprint\u001b[0m\u001b[0;34m(\u001b[0m\u001b[0mmetrics\u001b[0m\u001b[0;34m)\u001b[0m\u001b[0;34m\u001b[0m\u001b[0;34m\u001b[0m\u001b[0m\n",
            "\u001b[0;32m/usr/local/lib/python3.10/dist-packages/ultralytics/engine/model.py\u001b[0m in \u001b[0;36mval\u001b[0;34m(self, validator, **kwargs)\u001b[0m\n\u001b[1;32m    633\u001b[0m \u001b[0;34m\u001b[0m\u001b[0m\n\u001b[1;32m    634\u001b[0m         \u001b[0mvalidator\u001b[0m \u001b[0;34m=\u001b[0m \u001b[0;34m(\u001b[0m\u001b[0mvalidator\u001b[0m \u001b[0;32mor\u001b[0m \u001b[0mself\u001b[0m\u001b[0;34m.\u001b[0m\u001b[0m_smart_load\u001b[0m\u001b[0;34m(\u001b[0m\u001b[0;34m\"validator\"\u001b[0m\u001b[0;34m)\u001b[0m\u001b[0;34m)\u001b[0m\u001b[0;34m(\u001b[0m\u001b[0margs\u001b[0m\u001b[0;34m=\u001b[0m\u001b[0margs\u001b[0m\u001b[0;34m,\u001b[0m \u001b[0m_callbacks\u001b[0m\u001b[0;34m=\u001b[0m\u001b[0mself\u001b[0m\u001b[0;34m.\u001b[0m\u001b[0mcallbacks\u001b[0m\u001b[0;34m)\u001b[0m\u001b[0;34m\u001b[0m\u001b[0;34m\u001b[0m\u001b[0m\n\u001b[0;32m--> 635\u001b[0;31m         \u001b[0mvalidator\u001b[0m\u001b[0;34m(\u001b[0m\u001b[0mmodel\u001b[0m\u001b[0;34m=\u001b[0m\u001b[0mself\u001b[0m\u001b[0;34m.\u001b[0m\u001b[0mmodel\u001b[0m\u001b[0;34m)\u001b[0m\u001b[0;34m\u001b[0m\u001b[0;34m\u001b[0m\u001b[0m\n\u001b[0m\u001b[1;32m    636\u001b[0m         \u001b[0mself\u001b[0m\u001b[0;34m.\u001b[0m\u001b[0mmetrics\u001b[0m \u001b[0;34m=\u001b[0m \u001b[0mvalidator\u001b[0m\u001b[0;34m.\u001b[0m\u001b[0mmetrics\u001b[0m\u001b[0;34m\u001b[0m\u001b[0;34m\u001b[0m\u001b[0m\n\u001b[1;32m    637\u001b[0m         \u001b[0;32mreturn\u001b[0m \u001b[0mvalidator\u001b[0m\u001b[0;34m.\u001b[0m\u001b[0mmetrics\u001b[0m\u001b[0;34m\u001b[0m\u001b[0;34m\u001b[0m\u001b[0m\n",
            "\u001b[0;32m/usr/local/lib/python3.10/dist-packages/torch/utils/_contextlib.py\u001b[0m in \u001b[0;36mdecorate_context\u001b[0;34m(*args, **kwargs)\u001b[0m\n\u001b[1;32m    114\u001b[0m     \u001b[0;32mdef\u001b[0m \u001b[0mdecorate_context\u001b[0m\u001b[0;34m(\u001b[0m\u001b[0;34m*\u001b[0m\u001b[0margs\u001b[0m\u001b[0;34m,\u001b[0m \u001b[0;34m**\u001b[0m\u001b[0mkwargs\u001b[0m\u001b[0;34m)\u001b[0m\u001b[0;34m:\u001b[0m\u001b[0;34m\u001b[0m\u001b[0;34m\u001b[0m\u001b[0m\n\u001b[1;32m    115\u001b[0m         \u001b[0;32mwith\u001b[0m \u001b[0mctx_factory\u001b[0m\u001b[0;34m(\u001b[0m\u001b[0;34m)\u001b[0m\u001b[0;34m:\u001b[0m\u001b[0;34m\u001b[0m\u001b[0;34m\u001b[0m\u001b[0m\n\u001b[0;32m--> 116\u001b[0;31m             \u001b[0;32mreturn\u001b[0m \u001b[0mfunc\u001b[0m\u001b[0;34m(\u001b[0m\u001b[0;34m*\u001b[0m\u001b[0margs\u001b[0m\u001b[0;34m,\u001b[0m \u001b[0;34m**\u001b[0m\u001b[0mkwargs\u001b[0m\u001b[0;34m)\u001b[0m\u001b[0;34m\u001b[0m\u001b[0;34m\u001b[0m\u001b[0m\n\u001b[0m\u001b[1;32m    117\u001b[0m \u001b[0;34m\u001b[0m\u001b[0m\n\u001b[1;32m    118\u001b[0m     \u001b[0;32mreturn\u001b[0m \u001b[0mdecorate_context\u001b[0m\u001b[0;34m\u001b[0m\u001b[0;34m\u001b[0m\u001b[0m\n",
            "\u001b[0;32m/usr/local/lib/python3.10/dist-packages/ultralytics/engine/validator.py\u001b[0m in \u001b[0;36m__call__\u001b[0;34m(self, trainer, model)\u001b[0m\n\u001b[1;32m    143\u001b[0m \u001b[0;34m\u001b[0m\u001b[0m\n\u001b[1;32m    144\u001b[0m             \u001b[0;32mif\u001b[0m \u001b[0mstr\u001b[0m\u001b[0;34m(\u001b[0m\u001b[0mself\u001b[0m\u001b[0;34m.\u001b[0m\u001b[0margs\u001b[0m\u001b[0;34m.\u001b[0m\u001b[0mdata\u001b[0m\u001b[0;34m)\u001b[0m\u001b[0;34m.\u001b[0m\u001b[0msplit\u001b[0m\u001b[0;34m(\u001b[0m\u001b[0;34m\".\"\u001b[0m\u001b[0;34m)\u001b[0m\u001b[0;34m[\u001b[0m\u001b[0;34m-\u001b[0m\u001b[0;36m1\u001b[0m\u001b[0;34m]\u001b[0m \u001b[0;32min\u001b[0m \u001b[0;34m{\u001b[0m\u001b[0;34m\"yaml\"\u001b[0m\u001b[0;34m,\u001b[0m \u001b[0;34m\"yml\"\u001b[0m\u001b[0;34m}\u001b[0m\u001b[0;34m:\u001b[0m\u001b[0;34m\u001b[0m\u001b[0;34m\u001b[0m\u001b[0m\n\u001b[0;32m--> 145\u001b[0;31m                 \u001b[0mself\u001b[0m\u001b[0;34m.\u001b[0m\u001b[0mdata\u001b[0m \u001b[0;34m=\u001b[0m \u001b[0mcheck_det_dataset\u001b[0m\u001b[0;34m(\u001b[0m\u001b[0mself\u001b[0m\u001b[0;34m.\u001b[0m\u001b[0margs\u001b[0m\u001b[0;34m.\u001b[0m\u001b[0mdata\u001b[0m\u001b[0;34m)\u001b[0m\u001b[0;34m\u001b[0m\u001b[0;34m\u001b[0m\u001b[0m\n\u001b[0m\u001b[1;32m    146\u001b[0m             \u001b[0;32melif\u001b[0m \u001b[0mself\u001b[0m\u001b[0;34m.\u001b[0m\u001b[0margs\u001b[0m\u001b[0;34m.\u001b[0m\u001b[0mtask\u001b[0m \u001b[0;34m==\u001b[0m \u001b[0;34m\"classify\"\u001b[0m\u001b[0;34m:\u001b[0m\u001b[0;34m\u001b[0m\u001b[0;34m\u001b[0m\u001b[0m\n\u001b[1;32m    147\u001b[0m                 \u001b[0mself\u001b[0m\u001b[0;34m.\u001b[0m\u001b[0mdata\u001b[0m \u001b[0;34m=\u001b[0m \u001b[0mcheck_cls_dataset\u001b[0m\u001b[0;34m(\u001b[0m\u001b[0mself\u001b[0m\u001b[0;34m.\u001b[0m\u001b[0margs\u001b[0m\u001b[0;34m.\u001b[0m\u001b[0mdata\u001b[0m\u001b[0;34m,\u001b[0m \u001b[0msplit\u001b[0m\u001b[0;34m=\u001b[0m\u001b[0mself\u001b[0m\u001b[0;34m.\u001b[0m\u001b[0margs\u001b[0m\u001b[0;34m.\u001b[0m\u001b[0msplit\u001b[0m\u001b[0;34m)\u001b[0m\u001b[0;34m\u001b[0m\u001b[0;34m\u001b[0m\u001b[0m\n",
            "\u001b[0;32m/usr/local/lib/python3.10/dist-packages/ultralytics/data/utils.py\u001b[0m in \u001b[0;36mcheck_det_dataset\u001b[0;34m(dataset, autodownload)\u001b[0m\n\u001b[1;32m    267\u001b[0m         \u001b[0;34m(\u001b[0m\u001b[0mdict\u001b[0m\u001b[0;34m)\u001b[0m\u001b[0;34m:\u001b[0m \u001b[0mParsed\u001b[0m \u001b[0mdataset\u001b[0m \u001b[0minformation\u001b[0m \u001b[0;32mand\u001b[0m \u001b[0mpaths\u001b[0m\u001b[0;34m.\u001b[0m\u001b[0;34m\u001b[0m\u001b[0;34m\u001b[0m\u001b[0m\n\u001b[1;32m    268\u001b[0m     \"\"\"\n\u001b[0;32m--> 269\u001b[0;31m     \u001b[0mfile\u001b[0m \u001b[0;34m=\u001b[0m \u001b[0mcheck_file\u001b[0m\u001b[0;34m(\u001b[0m\u001b[0mdataset\u001b[0m\u001b[0;34m)\u001b[0m\u001b[0;34m\u001b[0m\u001b[0;34m\u001b[0m\u001b[0m\n\u001b[0m\u001b[1;32m    270\u001b[0m \u001b[0;34m\u001b[0m\u001b[0m\n\u001b[1;32m    271\u001b[0m     \u001b[0;31m# Download (optional)\u001b[0m\u001b[0;34m\u001b[0m\u001b[0;34m\u001b[0m\u001b[0m\n",
            "\u001b[0;32m/usr/local/lib/python3.10/dist-packages/ultralytics/utils/checks.py\u001b[0m in \u001b[0;36mcheck_file\u001b[0;34m(file, suffix, download, download_dir, hard)\u001b[0m\n\u001b[1;32m    518\u001b[0m         \u001b[0mfiles\u001b[0m \u001b[0;34m=\u001b[0m \u001b[0mglob\u001b[0m\u001b[0;34m.\u001b[0m\u001b[0mglob\u001b[0m\u001b[0;34m(\u001b[0m\u001b[0mstr\u001b[0m\u001b[0;34m(\u001b[0m\u001b[0mROOT\u001b[0m \u001b[0;34m/\u001b[0m \u001b[0;34m\"**\"\u001b[0m \u001b[0;34m/\u001b[0m \u001b[0mfile\u001b[0m\u001b[0;34m)\u001b[0m\u001b[0;34m,\u001b[0m \u001b[0mrecursive\u001b[0m\u001b[0;34m=\u001b[0m\u001b[0;32mTrue\u001b[0m\u001b[0;34m)\u001b[0m \u001b[0;32mor\u001b[0m \u001b[0mglob\u001b[0m\u001b[0;34m.\u001b[0m\u001b[0mglob\u001b[0m\u001b[0;34m(\u001b[0m\u001b[0mstr\u001b[0m\u001b[0;34m(\u001b[0m\u001b[0mROOT\u001b[0m\u001b[0;34m.\u001b[0m\u001b[0mparent\u001b[0m \u001b[0;34m/\u001b[0m \u001b[0mfile\u001b[0m\u001b[0;34m)\u001b[0m\u001b[0;34m)\u001b[0m  \u001b[0;31m# find file\u001b[0m\u001b[0;34m\u001b[0m\u001b[0;34m\u001b[0m\u001b[0m\n\u001b[1;32m    519\u001b[0m         \u001b[0;32mif\u001b[0m \u001b[0;32mnot\u001b[0m \u001b[0mfiles\u001b[0m \u001b[0;32mand\u001b[0m \u001b[0mhard\u001b[0m\u001b[0;34m:\u001b[0m\u001b[0;34m\u001b[0m\u001b[0;34m\u001b[0m\u001b[0m\n\u001b[0;32m--> 520\u001b[0;31m             \u001b[0;32mraise\u001b[0m \u001b[0mFileNotFoundError\u001b[0m\u001b[0;34m(\u001b[0m\u001b[0;34mf\"'{file}' does not exist\"\u001b[0m\u001b[0;34m)\u001b[0m\u001b[0;34m\u001b[0m\u001b[0;34m\u001b[0m\u001b[0m\n\u001b[0m\u001b[1;32m    521\u001b[0m         \u001b[0;32melif\u001b[0m \u001b[0mlen\u001b[0m\u001b[0;34m(\u001b[0m\u001b[0mfiles\u001b[0m\u001b[0;34m)\u001b[0m \u001b[0;34m>\u001b[0m \u001b[0;36m1\u001b[0m \u001b[0;32mand\u001b[0m \u001b[0mhard\u001b[0m\u001b[0;34m:\u001b[0m\u001b[0;34m\u001b[0m\u001b[0;34m\u001b[0m\u001b[0m\n\u001b[1;32m    522\u001b[0m             \u001b[0;32mraise\u001b[0m \u001b[0mFileNotFoundError\u001b[0m\u001b[0;34m(\u001b[0m\u001b[0;34mf\"Multiple files match '{file}', specify exact path: {files}\"\u001b[0m\u001b[0;34m)\u001b[0m\u001b[0;34m\u001b[0m\u001b[0;34m\u001b[0m\u001b[0m\n",
            "\u001b[0;31mFileNotFoundError\u001b[0m: 'data.yaml' does not exist"
          ]
        }
      ],
      "source": [
        "metrics = model.val()\n",
        "print(metrics)\n"
      ]
    },
    {
      "cell_type": "markdown",
      "metadata": {
        "id": "dmgcWgR_yD5q"
      },
      "source": [
        "Confusion matrix"
      ]
    },
    {
      "cell_type": "code",
      "execution_count": null,
      "metadata": {
        "id": "hh-U9KDDyCP5"
      },
      "outputs": [],
      "source": [
        "import numpy as np\n",
        "from sklearn.metrics import confusion_matrix, ConfusionMatrixDisplay\n",
        "from ultralytics import YOLO\n",
        "import matplotlib.pyplot as plt\n",
        "\n",
        "# Load the custom YOLOv8 model\n",
        "model = YOLO('/content/drive/MyDrive/main-project/helmet-verification-using-yolo-v8-main/helmet.pt')  # Replace with the actual model path\n",
        "\n",
        "# Lists to hold true labels and predicted labels\n",
        "true_labels = []\n",
        "predicted_labels = []\n",
        "\n",
        "# Define image paths for validation\n",
        "image_paths = ['/content/drive/MyDrive/main-project/hel3.jpg', '/content/drive/MyDrive/main-project/hel4.jpg', '...']  # List your validation image paths\n",
        "\n",
        "# Placeholder function for ground truth retrieval. Replace with your actual implementation.\n",
        "def get_true_label_for_box(box):\n",
        "    \"\"\"Retrieves the ground truth label for a given detection box.\n",
        "\n",
        "    Args:\n",
        "        box: A detection box object from the YOLO model.\n",
        "\n",
        "    Returns:\n",
        "        The ground truth label for the box (e.g., 'rider', 'with helmet', 'without helmet').\n",
        "    \"\"\"\n",
        "    # TODO: Implement your logic to determine the true label based on the 'box' information\n",
        "    # This could involve:\n",
        "    # - Comparing the box coordinates to a ground truth annotation file (e.g., XML, JSON)\n",
        "    # - Using image metadata or other"
      ]
    },
    {
      "cell_type": "code",
      "execution_count": null,
      "metadata": {
        "colab": {
          "base_uri": "https://localhost:8080/"
        },
        "id": "6_7h1WbqrMUR",
        "outputId": "8be7ad3d-fec9-4610-92f3-a24aec3ae4e9"
      },
      "outputs": [
        {
          "name": "stdout",
          "output_type": "stream",
          "text": [
            "\n",
            "image 1/1 /content/hel4.jpg: 416x640 2 Helmets, 318.9ms\n",
            "Speed: 5.6ms preprocess, 318.9ms inference, 1.2ms postprocess per image at shape (1, 3, 416, 640)\n",
            "Results saved to \u001b[1mruns/detect/predict6\u001b[0m\n",
            "Accuracy: 50.00%\n",
            "Processing complete.\n"
          ]
        }
      ],
      "source": [
        "from ultralytics import YOLO\n",
        "\n",
        "# Load your custom YOLOv8 model (ensure the path is correct)\n",
        "model = YOLO('/content/helmet.pt')  # Change to your custom-trained model path\n",
        "\n",
        "# Set source for an image\n",
        "source = '/content/hel4.jpg'  # Change this to your image path\n",
        "\n",
        "# Ground truth setup (for simplicity, we'll assume the ground truth count of helmets is known)\n",
        "# Example: Assume there should be 1 helmet in this image\n",
        "expected_helmet_count = 1\n",
        "\n",
        "# Initialize counters for accuracy calculation\n",
        "true_positives = 0\n",
        "false_positives = 0\n",
        "false_negatives = 0\n",
        "\n",
        "if source:\n",
        "    # Run the detection model\n",
        "    results = model.predict(source=source, save=True, conf=0.3)  # Lower confidence threshold if needed\n",
        "\n",
        "    for result in results:\n",
        "        detected_classes = result.names\n",
        "        helmet_detections = 0  # Track the count of helmet detections\n",
        "\n",
        "        # Count helmet detections\n",
        "        for box in result.boxes:\n",
        "            class_id = int(box.cls)\n",
        "            class_name = detected_classes[class_id]\n",
        "            if class_name == 'Helmet':  # Adjust based on your model's label for helmets\n",
        "                helmet_detections += 1\n",
        "\n",
        "        # Accuracy calculation based on helmet count\n",
        "        true_positives = min(helmet_detections, expected_helmet_count)  # Correctly detected helmets\n",
        "        false_positives = max(0, helmet_detections - expected_helmet_count)  # Extra helmets detected\n",
        "        false_negatives = max(0, expected_helmet_count - helmet_detections)  # Missed helmets\n",
        "\n",
        "    # Calculate accuracy percentage\n",
        "    total_detections = true_positives + false_positives + false_negatives\n",
        "    accuracy_percentage = (true_positives / total_detections) * 100 if total_detections > 0 else 0\n",
        "    print(f\"Accuracy: {accuracy_percentage:.2f}%\")\n",
        "\n",
        "print(\"Processing complete.\")\n"
      ]
    },
    {
      "cell_type": "code",
      "execution_count": null,
      "metadata": {
        "colab": {
          "base_uri": "https://localhost:8080/",
          "height": 274
        },
        "id": "hejbCJI3h2J8",
        "outputId": "ec1f4b2d-817e-4150-e378-9cd3311c67ec"
      },
      "outputs": [
        {
          "ename": "error",
          "evalue": "OpenCV(4.10.0) /io/opencv/modules/dnn/src/darknet/darknet_io.cpp:705: error: (-215:Assertion failed) separator_index < line.size() in function 'ReadDarknetFromCfgStream'\n",
          "output_type": "error",
          "traceback": [
            "\u001b[0;31m---------------------------------------------------------------------------\u001b[0m",
            "\u001b[0;31merror\u001b[0m                                     Traceback (most recent call last)",
            "\u001b[0;32m<ipython-input-16-7dd6f9dda33b>\u001b[0m in \u001b[0;36m<cell line: 11>\u001b[0;34m()\u001b[0m\n\u001b[1;32m      9\u001b[0m \u001b[0;34m\u001b[0m\u001b[0m\n\u001b[1;32m     10\u001b[0m \u001b[0;31m# Load YOLO model\u001b[0m\u001b[0;34m\u001b[0m\u001b[0;34m\u001b[0m\u001b[0m\n\u001b[0;32m---> 11\u001b[0;31m \u001b[0mnet\u001b[0m \u001b[0;34m=\u001b[0m \u001b[0mcv2\u001b[0m\u001b[0;34m.\u001b[0m\u001b[0mdnn\u001b[0m\u001b[0;34m.\u001b[0m\u001b[0mreadNet\u001b[0m\u001b[0;34m(\u001b[0m\u001b[0;34m\"/content/yolov3-custom_7000.weights\"\u001b[0m\u001b[0;34m,\u001b[0m \u001b[0;34m\"/content/yolov3-custom.cfg\"\u001b[0m\u001b[0;34m)\u001b[0m\u001b[0;34m\u001b[0m\u001b[0;34m\u001b[0m\u001b[0m\n\u001b[0m\u001b[1;32m     12\u001b[0m \u001b[0mnet\u001b[0m\u001b[0;34m.\u001b[0m\u001b[0msetPreferableBackend\u001b[0m\u001b[0;34m(\u001b[0m\u001b[0mcv2\u001b[0m\u001b[0;34m.\u001b[0m\u001b[0mdnn\u001b[0m\u001b[0;34m.\u001b[0m\u001b[0mDNN_BACKEND_CUDA\u001b[0m\u001b[0;34m)\u001b[0m\u001b[0;34m\u001b[0m\u001b[0;34m\u001b[0m\u001b[0m\n\u001b[1;32m     13\u001b[0m \u001b[0mnet\u001b[0m\u001b[0;34m.\u001b[0m\u001b[0msetPreferableTarget\u001b[0m\u001b[0;34m(\u001b[0m\u001b[0mcv2\u001b[0m\u001b[0;34m.\u001b[0m\u001b[0mdnn\u001b[0m\u001b[0;34m.\u001b[0m\u001b[0mDNN_TARGET_CUDA\u001b[0m\u001b[0;34m)\u001b[0m\u001b[0;34m\u001b[0m\u001b[0;34m\u001b[0m\u001b[0m\n",
            "\u001b[0;31merror\u001b[0m: OpenCV(4.10.0) /io/opencv/modules/dnn/src/darknet/darknet_io.cpp:705: error: (-215:Assertion failed) separator_index < line.size() in function 'ReadDarknetFromCfgStream'\n"
          ]
        }
      ],
      "source": [
        "import streamlit as st\n",
        "import cv2\n",
        "import numpy as np\n",
        "import os\n",
        "from PIL import Image\n",
        "import time\n",
        "import imutils\n",
        "from tensorflow.keras.models import load_model\n",
        "\n",
        "# Load YOLO model\n",
        "net = cv2.dnn.readNet(\"/content/yolov3-custom_7000.weights\", \"/content/yolov3-custom.cfg\")\n",
        "net.setPreferableBackend(cv2.dnn.DNN_BACKEND_CUDA)\n",
        "net.setPreferableTarget(cv2.dnn.DNN_TARGET_CUDA)\n",
        "\n",
        "# Define mask values for each YOLO layer\n",
        "mask1 = [0, 1, 2]\n",
        "mask2 = [3, 4, 5]\n",
        "mask3 = [6, 7, 8]\n",
        "\n",
        "# Load helmet detection model\n",
        "model = load_model('/content/helmet-nonhelmet_cnn.h5')\n",
        "st.write('Model loaded!!!')\n",
        "\n",
        "st.title(\"Bike,Helmet and Number Plate Detection and Recognition\")\n",
        "\n",
        "uploaded_file = st.file_uploader(\"Choose a video file\", type=[\"mp4\", \"avi\"])\n",
        "if uploaded_file is not None:\n",
        "    # Save the uploaded file to a temporary directory\n",
        "    temp_file_path = os.path.join(\"temp\", uploaded_file.name)\n",
        "    with open(temp_file_path, \"wb\") as temp_file:\n",
        "        temp_file.write(uploaded_file.read())\n",
        "\n",
        "    video = cv2.VideoCapture(temp_file_path)\n",
        "\n",
        "    if not video.isOpened():\n",
        "        st.error(\"Error: Could not open video file.\")\n",
        "    else:\n",
        "        stframe = st.empty()\n",
        "\n",
        "        while True:\n",
        "            ret, frame = video.read()\n",
        "\n",
        "            if not ret:\n",
        "                break\n",
        "\n",
        "            frame = imutils.resize(frame, height=500)\n",
        "            height, width = frame.shape[:2]\n",
        "\n",
        "            blob = cv2.dnn.blobFromImage(frame, 0.00392, (416, 416), (0, 0, 0), True, crop=False)\n",
        "            net.setInput(blob)\n",
        "\n",
        "            # Specify the correct mask for the YOLO layer\n",
        "            if mask1:\n",
        "                outs = [net.forward(\"yolo_82\"), net.forward(\"yolo_94\"), net.forward(\"yolo_106\")]\n",
        "            elif mask2:\n",
        "                outs = [net.forward(\"yolo_89\"), net.forward(\"yolo_101\"), net.forward(\"yolo_113\")]\n",
        "            elif mask3:\n",
        "                outs = [net.forward(\"yolo_96\"), net.forward(\"yolo_108\"), net.forward(\"yolo_120\")]\n",
        "\n",
        "            confidences = []\n",
        "            boxes = []\n",
        "            classIds = []\n",
        "\n",
        "            for out in outs:\n",
        "                for detection in out:\n",
        "                    scores = detection[5:]\n",
        "                    class_id = np.argmax(scores)\n",
        "                    confidence = scores[class_id]\n",
        "                    if confidence > 0.3:\n",
        "                        center_x = int(detection[0] * width)\n",
        "                        center_y = int(detection[1] * height)\n",
        "                        w = int(detection[2] * width)\n",
        "                        h = int(detection[3] * height)\n",
        "                        x = int(center_x - w / 2)\n",
        "                        y = int(center_y - h / 2)\n",
        "                        boxes.append([x, y, w, h])\n",
        "                        confidences.append(float(confidence))\n",
        "                        classIds.append(class_id)\n",
        "\n",
        "            indexes = cv2.dnn.NMSBoxes(boxes, confidences, 0.5, 0.4)\n",
        "\n",
        "            for i in range(len(boxes)):\n",
        "                if i in indexes:\n",
        "                    x, y, w, h = boxes[i]\n",
        "                    if classIds[i] == 0:  # bike\n",
        "                        helmet_roi = frame[max(0, y):max(0, y) + max(0, h) // 4, max(0, x):max(0, x) + max(0, w)]\n",
        "                        if helmet_roi.shape[0] > 0 and helmet_roi.shape[1] > 0:\n",
        "                            helmet_roi = cv2.resize(helmet_roi, (224, 224))\n",
        "                            helmet_roi = np.array(helmet_roi, dtype='float32')\n",
        "                            helmet_roi = helmet_roi.reshape(1, 224, 224, 3)\n",
        "                            helmet_roi = helmet_roi / 255.0\n",
        "                            prediction = int(model.predict(helmet_roi)[0][0])\n",
        "                            if prediction == 0:\n",
        "                                frame = cv2.putText(frame, 'Helmet', (x, y - 20), cv2.FONT_HERSHEY_SIMPLEX, 0.7,\n",
        "                                                    (0, 255, 0), 2)\n",
        "                            else:\n",
        "                                frame = cv2.putText(frame, 'No Helmet', (x, y - 20), cv2.FONT_HERSHEY_SIMPLEX, 0.7,\n",
        "                                                    (0, 0, 255), 2)\n",
        "                    cv2.rectangle(frame, (x, y), (x + w, y + h), (0, 255, 0), 2)\n",
        "\n",
        "            stframe.image(frame, channels=\"BGR\", use_column_width=True)\n",
        "\n",
        "        video.release()\n",
        "        # Remove the temporary video file\n",
        "        os.remove(temp_file_path)"
      ]
    },
    {
      "cell_type": "markdown",
      "metadata": {
        "id": "hA0H3xXLRz-w"
      },
      "source": [
        "second\n"
      ]
    }
  ],
  "metadata": {
    "accelerator": "GPU",
    "colab": {
      "gpuType": "T4",
      "provenance": []
    },
    "kernelspec": {
      "display_name": "Python 3",
      "name": "python3"
    },
    "language_info": {
      "name": "python"
    }
  },
  "nbformat": 4,
  "nbformat_minor": 0
}